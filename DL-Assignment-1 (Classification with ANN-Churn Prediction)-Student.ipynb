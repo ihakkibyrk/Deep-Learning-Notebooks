{
 "cells": [
  {
   "cell_type": "markdown",
   "metadata": {},
   "source": [
    "___\n",
    "\n",
    "<p style=\"text-align: center;\"><img src=\"https://docs.google.com/uc?id=1lY0Uj5R04yMY3-ZppPWxqCr5pvBLYPnV\" class=\"img-fluid\" alt=\"CLRSWY\"></p>\n",
    "\n",
    "___"
   ]
  },
  {
   "cell_type": "markdown",
   "metadata": {},
   "source": [
    "<h1 style=\"text-align: center;\">Deep Learning<br><br>Assignment-1 (ANN)<br><br>Churn Prediction for Bank Customer<br><h1>"
   ]
  },
  {
   "cell_type": "markdown",
   "metadata": {},
   "source": [
    "# Dataset Info"
   ]
  },
  {
   "cell_type": "markdown",
   "metadata": {},
   "source": [
    "We have a dataset in which there are details of a bank's customers and the target variable is a binary variable reflecting the fact whether the customer left the bank (closed his account) or he continues to be a customer.\n",
    "\n",
    "The features in the given dataset are:\n",
    "- **rownumber:** Row Numbers from 1 to 10000.\n",
    "- **customerid:** A unique ID that identifies each customer.\n",
    "- **surname:** The customer’s surname.\n",
    "- **creditscore:** A credit score is a number between 300–850 that depicts a consumer's creditworthiness.\n",
    "- **geography:** The country from which the customer belongs to.\n",
    "- **Gender:** The customer’s gender: Male, Female\n",
    "- **Age:** The customer’s current age, in years, at the time of being customer.\n",
    "- **tenure:** The number of years for which the customer has been with the bank.\n",
    "- **balance:** Bank balance of the customer.\n",
    "- **numofproducts:** the number of bank products the customer is utilising.\n",
    "- **hascrcard:** The number of credit cards given to the customer by the bank.\n",
    "- **isactivemember:** Binary Flag for indicating if the client is active or not with the bank before the moment where the client exits the company (recorded in the variable \"exited\")\n",
    "- **exited:** Binary flag 1 if the customer closed account with bank and 0 if the customer is retained."
   ]
  },
  {
   "cell_type": "markdown",
   "metadata": {},
   "source": [
    "# Improt Libraries & Data"
   ]
  },
  {
   "cell_type": "code",
   "execution_count": 118,
   "metadata": {},
   "outputs": [],
   "source": [
    "import numpy as np\n",
    "import pandas as pd\n",
    "import matplotlib.pyplot as plt\n",
    "import seaborn as sns\n",
    "\n",
    "import warnings\n",
    "warnings.filterwarnings(\"ignore\")\n",
    "warnings.warn(\"this will not show\")\n",
    "\n",
    "plt.rcParams[\"figure.figsize\"] = (10,6)\n",
    "\n",
    "sns.set_style(\"whitegrid\")\n",
    "pd.set_option('display.float_format', lambda x: '%.3f' % x)\n",
    "\n",
    "# Set it None to display all rows in the dataframe\n",
    "# pd.set_option('display.max_rows', None)\n",
    "\n",
    "# Set it to None to display all columns in the dataframe\n",
    "pd.set_option('display.max_columns', None)"
   ]
  },
  {
   "cell_type": "code",
   "execution_count": 119,
   "metadata": {},
   "outputs": [
    {
     "data": {
      "text/html": [
       "<div>\n",
       "<style scoped>\n",
       "    .dataframe tbody tr th:only-of-type {\n",
       "        vertical-align: middle;\n",
       "    }\n",
       "\n",
       "    .dataframe tbody tr th {\n",
       "        vertical-align: top;\n",
       "    }\n",
       "\n",
       "    .dataframe thead th {\n",
       "        text-align: right;\n",
       "    }\n",
       "</style>\n",
       "<table border=\"1\" class=\"dataframe\">\n",
       "  <thead>\n",
       "    <tr style=\"text-align: right;\">\n",
       "      <th></th>\n",
       "      <th>RowNumber</th>\n",
       "      <th>CustomerId</th>\n",
       "      <th>Surname</th>\n",
       "      <th>CreditScore</th>\n",
       "      <th>Geography</th>\n",
       "      <th>Gender</th>\n",
       "      <th>Age</th>\n",
       "      <th>Tenure</th>\n",
       "      <th>Balance</th>\n",
       "      <th>NumOfProducts</th>\n",
       "      <th>HasCrCard</th>\n",
       "      <th>IsActiveMember</th>\n",
       "      <th>EstimatedSalary</th>\n",
       "      <th>Exited</th>\n",
       "    </tr>\n",
       "  </thead>\n",
       "  <tbody>\n",
       "    <tr>\n",
       "      <th>0</th>\n",
       "      <td>1</td>\n",
       "      <td>15634602</td>\n",
       "      <td>Hargrave</td>\n",
       "      <td>619</td>\n",
       "      <td>France</td>\n",
       "      <td>Female</td>\n",
       "      <td>42</td>\n",
       "      <td>2</td>\n",
       "      <td>0.000</td>\n",
       "      <td>1</td>\n",
       "      <td>1</td>\n",
       "      <td>1</td>\n",
       "      <td>101348.880</td>\n",
       "      <td>1</td>\n",
       "    </tr>\n",
       "    <tr>\n",
       "      <th>1</th>\n",
       "      <td>2</td>\n",
       "      <td>15647311</td>\n",
       "      <td>Hill</td>\n",
       "      <td>608</td>\n",
       "      <td>Spain</td>\n",
       "      <td>Female</td>\n",
       "      <td>41</td>\n",
       "      <td>1</td>\n",
       "      <td>83807.860</td>\n",
       "      <td>1</td>\n",
       "      <td>0</td>\n",
       "      <td>1</td>\n",
       "      <td>112542.580</td>\n",
       "      <td>0</td>\n",
       "    </tr>\n",
       "    <tr>\n",
       "      <th>2</th>\n",
       "      <td>3</td>\n",
       "      <td>15619304</td>\n",
       "      <td>Onio</td>\n",
       "      <td>502</td>\n",
       "      <td>France</td>\n",
       "      <td>Female</td>\n",
       "      <td>42</td>\n",
       "      <td>8</td>\n",
       "      <td>159660.800</td>\n",
       "      <td>3</td>\n",
       "      <td>1</td>\n",
       "      <td>0</td>\n",
       "      <td>113931.570</td>\n",
       "      <td>1</td>\n",
       "    </tr>\n",
       "    <tr>\n",
       "      <th>3</th>\n",
       "      <td>4</td>\n",
       "      <td>15701354</td>\n",
       "      <td>Boni</td>\n",
       "      <td>699</td>\n",
       "      <td>France</td>\n",
       "      <td>Female</td>\n",
       "      <td>39</td>\n",
       "      <td>1</td>\n",
       "      <td>0.000</td>\n",
       "      <td>2</td>\n",
       "      <td>0</td>\n",
       "      <td>0</td>\n",
       "      <td>93826.630</td>\n",
       "      <td>0</td>\n",
       "    </tr>\n",
       "    <tr>\n",
       "      <th>4</th>\n",
       "      <td>5</td>\n",
       "      <td>15737888</td>\n",
       "      <td>Mitchell</td>\n",
       "      <td>850</td>\n",
       "      <td>Spain</td>\n",
       "      <td>Female</td>\n",
       "      <td>43</td>\n",
       "      <td>2</td>\n",
       "      <td>125510.820</td>\n",
       "      <td>1</td>\n",
       "      <td>1</td>\n",
       "      <td>1</td>\n",
       "      <td>79084.100</td>\n",
       "      <td>0</td>\n",
       "    </tr>\n",
       "  </tbody>\n",
       "</table>\n",
       "</div>"
      ],
      "text/plain": [
       "   RowNumber  CustomerId   Surname  CreditScore Geography  Gender  Age  \\\n",
       "0          1    15634602  Hargrave          619    France  Female   42   \n",
       "1          2    15647311      Hill          608     Spain  Female   41   \n",
       "2          3    15619304      Onio          502    France  Female   42   \n",
       "3          4    15701354      Boni          699    France  Female   39   \n",
       "4          5    15737888  Mitchell          850     Spain  Female   43   \n",
       "\n",
       "   Tenure    Balance  NumOfProducts  HasCrCard  IsActiveMember  \\\n",
       "0       2      0.000              1          1               1   \n",
       "1       1  83807.860              1          0               1   \n",
       "2       8 159660.800              3          1               0   \n",
       "3       1      0.000              2          0               0   \n",
       "4       2 125510.820              1          1               1   \n",
       "\n",
       "   EstimatedSalary  Exited  \n",
       "0       101348.880       1  \n",
       "1       112542.580       0  \n",
       "2       113931.570       1  \n",
       "3        93826.630       0  \n",
       "4        79084.100       0  "
      ]
     },
     "execution_count": 119,
     "metadata": {},
     "output_type": "execute_result"
    }
   ],
   "source": [
    "df = pd.read_csv('Churn_Modelling.csv')\n",
    "df.head()"
   ]
  },
  {
   "cell_type": "markdown",
   "metadata": {},
   "source": [
    "# Exploratory Data Analysis and Visualization"
   ]
  },
  {
   "cell_type": "markdown",
   "metadata": {},
   "source": [
    "1. Implement basic steps to see how is your data looks like\n",
    "2. Check for missing values\n",
    "3. Drop the features that not suitable for modelling\n",
    "4. Implement basic visualization steps such as histogram, countplot, heatmap\n",
    "5. Convert categorical variables to dummy variables"
   ]
  },
  {
   "cell_type": "code",
   "execution_count": 4,
   "metadata": {},
   "outputs": [
    {
     "name": "stdout",
     "output_type": "stream",
     "text": [
      "<class 'pandas.core.frame.DataFrame'>\n",
      "RangeIndex: 10000 entries, 0 to 9999\n",
      "Data columns (total 14 columns):\n",
      " #   Column           Non-Null Count  Dtype  \n",
      "---  ------           --------------  -----  \n",
      " 0   RowNumber        10000 non-null  int64  \n",
      " 1   CustomerId       10000 non-null  int64  \n",
      " 2   Surname          10000 non-null  object \n",
      " 3   CreditScore      10000 non-null  int64  \n",
      " 4   Geography        10000 non-null  object \n",
      " 5   Gender           10000 non-null  object \n",
      " 6   Age              10000 non-null  int64  \n",
      " 7   Tenure           10000 non-null  int64  \n",
      " 8   Balance          10000 non-null  float64\n",
      " 9   NumOfProducts    10000 non-null  int64  \n",
      " 10  HasCrCard        10000 non-null  int64  \n",
      " 11  IsActiveMember   10000 non-null  int64  \n",
      " 12  EstimatedSalary  10000 non-null  float64\n",
      " 13  Exited           10000 non-null  int64  \n",
      "dtypes: float64(2), int64(9), object(3)\n",
      "memory usage: 1.1+ MB\n"
     ]
    }
   ],
   "source": [
    "df.info()"
   ]
  },
  {
   "cell_type": "markdown",
   "metadata": {},
   "source": [
    "<p style='color:yellow'>No Null data and there are object features in the dataset</p>"
   ]
  },
  {
   "cell_type": "code",
   "execution_count": 5,
   "metadata": {},
   "outputs": [
    {
     "data": {
      "text/html": [
       "<div>\n",
       "<style scoped>\n",
       "    .dataframe tbody tr th:only-of-type {\n",
       "        vertical-align: middle;\n",
       "    }\n",
       "\n",
       "    .dataframe tbody tr th {\n",
       "        vertical-align: top;\n",
       "    }\n",
       "\n",
       "    .dataframe thead th {\n",
       "        text-align: right;\n",
       "    }\n",
       "</style>\n",
       "<table border=\"1\" class=\"dataframe\">\n",
       "  <thead>\n",
       "    <tr style=\"text-align: right;\">\n",
       "      <th></th>\n",
       "      <th>RowNumber</th>\n",
       "      <th>CustomerId</th>\n",
       "      <th>CreditScore</th>\n",
       "      <th>Age</th>\n",
       "      <th>Tenure</th>\n",
       "      <th>Balance</th>\n",
       "      <th>NumOfProducts</th>\n",
       "      <th>HasCrCard</th>\n",
       "      <th>IsActiveMember</th>\n",
       "      <th>EstimatedSalary</th>\n",
       "      <th>Exited</th>\n",
       "    </tr>\n",
       "  </thead>\n",
       "  <tbody>\n",
       "    <tr>\n",
       "      <th>RowNumber</th>\n",
       "      <td>1.000</td>\n",
       "      <td>0.004</td>\n",
       "      <td>0.006</td>\n",
       "      <td>0.001</td>\n",
       "      <td>-0.006</td>\n",
       "      <td>-0.009</td>\n",
       "      <td>0.007</td>\n",
       "      <td>0.001</td>\n",
       "      <td>0.012</td>\n",
       "      <td>-0.006</td>\n",
       "      <td>-0.017</td>\n",
       "    </tr>\n",
       "    <tr>\n",
       "      <th>CustomerId</th>\n",
       "      <td>0.004</td>\n",
       "      <td>1.000</td>\n",
       "      <td>0.005</td>\n",
       "      <td>0.009</td>\n",
       "      <td>-0.015</td>\n",
       "      <td>-0.012</td>\n",
       "      <td>0.017</td>\n",
       "      <td>-0.014</td>\n",
       "      <td>0.002</td>\n",
       "      <td>0.015</td>\n",
       "      <td>-0.006</td>\n",
       "    </tr>\n",
       "    <tr>\n",
       "      <th>CreditScore</th>\n",
       "      <td>0.006</td>\n",
       "      <td>0.005</td>\n",
       "      <td>1.000</td>\n",
       "      <td>-0.004</td>\n",
       "      <td>0.001</td>\n",
       "      <td>0.006</td>\n",
       "      <td>0.012</td>\n",
       "      <td>-0.005</td>\n",
       "      <td>0.026</td>\n",
       "      <td>-0.001</td>\n",
       "      <td>-0.027</td>\n",
       "    </tr>\n",
       "    <tr>\n",
       "      <th>Age</th>\n",
       "      <td>0.001</td>\n",
       "      <td>0.009</td>\n",
       "      <td>-0.004</td>\n",
       "      <td>1.000</td>\n",
       "      <td>-0.010</td>\n",
       "      <td>0.028</td>\n",
       "      <td>-0.031</td>\n",
       "      <td>-0.012</td>\n",
       "      <td>0.085</td>\n",
       "      <td>-0.007</td>\n",
       "      <td>0.285</td>\n",
       "    </tr>\n",
       "    <tr>\n",
       "      <th>Tenure</th>\n",
       "      <td>-0.006</td>\n",
       "      <td>-0.015</td>\n",
       "      <td>0.001</td>\n",
       "      <td>-0.010</td>\n",
       "      <td>1.000</td>\n",
       "      <td>-0.012</td>\n",
       "      <td>0.013</td>\n",
       "      <td>0.023</td>\n",
       "      <td>-0.028</td>\n",
       "      <td>0.008</td>\n",
       "      <td>-0.014</td>\n",
       "    </tr>\n",
       "    <tr>\n",
       "      <th>Balance</th>\n",
       "      <td>-0.009</td>\n",
       "      <td>-0.012</td>\n",
       "      <td>0.006</td>\n",
       "      <td>0.028</td>\n",
       "      <td>-0.012</td>\n",
       "      <td>1.000</td>\n",
       "      <td>-0.304</td>\n",
       "      <td>-0.015</td>\n",
       "      <td>-0.010</td>\n",
       "      <td>0.013</td>\n",
       "      <td>0.119</td>\n",
       "    </tr>\n",
       "    <tr>\n",
       "      <th>NumOfProducts</th>\n",
       "      <td>0.007</td>\n",
       "      <td>0.017</td>\n",
       "      <td>0.012</td>\n",
       "      <td>-0.031</td>\n",
       "      <td>0.013</td>\n",
       "      <td>-0.304</td>\n",
       "      <td>1.000</td>\n",
       "      <td>0.003</td>\n",
       "      <td>0.010</td>\n",
       "      <td>0.014</td>\n",
       "      <td>-0.048</td>\n",
       "    </tr>\n",
       "    <tr>\n",
       "      <th>HasCrCard</th>\n",
       "      <td>0.001</td>\n",
       "      <td>-0.014</td>\n",
       "      <td>-0.005</td>\n",
       "      <td>-0.012</td>\n",
       "      <td>0.023</td>\n",
       "      <td>-0.015</td>\n",
       "      <td>0.003</td>\n",
       "      <td>1.000</td>\n",
       "      <td>-0.012</td>\n",
       "      <td>-0.010</td>\n",
       "      <td>-0.007</td>\n",
       "    </tr>\n",
       "    <tr>\n",
       "      <th>IsActiveMember</th>\n",
       "      <td>0.012</td>\n",
       "      <td>0.002</td>\n",
       "      <td>0.026</td>\n",
       "      <td>0.085</td>\n",
       "      <td>-0.028</td>\n",
       "      <td>-0.010</td>\n",
       "      <td>0.010</td>\n",
       "      <td>-0.012</td>\n",
       "      <td>1.000</td>\n",
       "      <td>-0.011</td>\n",
       "      <td>-0.156</td>\n",
       "    </tr>\n",
       "    <tr>\n",
       "      <th>EstimatedSalary</th>\n",
       "      <td>-0.006</td>\n",
       "      <td>0.015</td>\n",
       "      <td>-0.001</td>\n",
       "      <td>-0.007</td>\n",
       "      <td>0.008</td>\n",
       "      <td>0.013</td>\n",
       "      <td>0.014</td>\n",
       "      <td>-0.010</td>\n",
       "      <td>-0.011</td>\n",
       "      <td>1.000</td>\n",
       "      <td>0.012</td>\n",
       "    </tr>\n",
       "    <tr>\n",
       "      <th>Exited</th>\n",
       "      <td>-0.017</td>\n",
       "      <td>-0.006</td>\n",
       "      <td>-0.027</td>\n",
       "      <td>0.285</td>\n",
       "      <td>-0.014</td>\n",
       "      <td>0.119</td>\n",
       "      <td>-0.048</td>\n",
       "      <td>-0.007</td>\n",
       "      <td>-0.156</td>\n",
       "      <td>0.012</td>\n",
       "      <td>1.000</td>\n",
       "    </tr>\n",
       "  </tbody>\n",
       "</table>\n",
       "</div>"
      ],
      "text/plain": [
       "                 RowNumber  CustomerId  CreditScore    Age  Tenure  Balance  \\\n",
       "RowNumber            1.000       0.004        0.006  0.001  -0.006   -0.009   \n",
       "CustomerId           0.004       1.000        0.005  0.009  -0.015   -0.012   \n",
       "CreditScore          0.006       0.005        1.000 -0.004   0.001    0.006   \n",
       "Age                  0.001       0.009       -0.004  1.000  -0.010    0.028   \n",
       "Tenure              -0.006      -0.015        0.001 -0.010   1.000   -0.012   \n",
       "Balance             -0.009      -0.012        0.006  0.028  -0.012    1.000   \n",
       "NumOfProducts        0.007       0.017        0.012 -0.031   0.013   -0.304   \n",
       "HasCrCard            0.001      -0.014       -0.005 -0.012   0.023   -0.015   \n",
       "IsActiveMember       0.012       0.002        0.026  0.085  -0.028   -0.010   \n",
       "EstimatedSalary     -0.006       0.015       -0.001 -0.007   0.008    0.013   \n",
       "Exited              -0.017      -0.006       -0.027  0.285  -0.014    0.119   \n",
       "\n",
       "                 NumOfProducts  HasCrCard  IsActiveMember  EstimatedSalary  \\\n",
       "RowNumber                0.007      0.001           0.012           -0.006   \n",
       "CustomerId               0.017     -0.014           0.002            0.015   \n",
       "CreditScore              0.012     -0.005           0.026           -0.001   \n",
       "Age                     -0.031     -0.012           0.085           -0.007   \n",
       "Tenure                   0.013      0.023          -0.028            0.008   \n",
       "Balance                 -0.304     -0.015          -0.010            0.013   \n",
       "NumOfProducts            1.000      0.003           0.010            0.014   \n",
       "HasCrCard                0.003      1.000          -0.012           -0.010   \n",
       "IsActiveMember           0.010     -0.012           1.000           -0.011   \n",
       "EstimatedSalary          0.014     -0.010          -0.011            1.000   \n",
       "Exited                  -0.048     -0.007          -0.156            0.012   \n",
       "\n",
       "                 Exited  \n",
       "RowNumber        -0.017  \n",
       "CustomerId       -0.006  \n",
       "CreditScore      -0.027  \n",
       "Age               0.285  \n",
       "Tenure           -0.014  \n",
       "Balance           0.119  \n",
       "NumOfProducts    -0.048  \n",
       "HasCrCard        -0.007  \n",
       "IsActiveMember   -0.156  \n",
       "EstimatedSalary   0.012  \n",
       "Exited            1.000  "
      ]
     },
     "execution_count": 5,
     "metadata": {},
     "output_type": "execute_result"
    }
   ],
   "source": [
    "df.corr()"
   ]
  },
  {
   "cell_type": "code",
   "execution_count": 6,
   "metadata": {},
   "outputs": [
    {
     "data": {
      "text/plain": [
       "<AxesSubplot:>"
      ]
     },
     "execution_count": 6,
     "metadata": {},
     "output_type": "execute_result"
    },
    {
     "data": {
      "image/png": "[encoded data removed]",
      "text/plain": [
       "<Figure size 720x432 with 1 Axes>"
      ]
     },
     "metadata": {},
     "output_type": "display_data"
    }
   ],
   "source": [
    "df.corr()['Exited'].sort_values().drop('Exited').plot(kind='barh')"
   ]
  },
  {
   "cell_type": "code",
   "execution_count": 7,
   "metadata": {},
   "outputs": [
    {
     "data": {
      "text/plain": [
       "<AxesSubplot:>"
      ]
     },
     "execution_count": 7,
     "metadata": {},
     "output_type": "execute_result"
    },
    {
     "data": {
      "image/png": "[encoded data removed]",
      "text/plain": [
       "<Figure size 720x432 with 2 Axes>"
      ]
     },
     "metadata": {},
     "output_type": "display_data"
    }
   ],
   "source": [
    "sns.heatmap(df.corr())"
   ]
  },
  {
   "cell_type": "code",
   "execution_count": 120,
   "metadata": {},
   "outputs": [],
   "source": [
    "drop_col = ['CustomerId','RowNumber','Surname']\n",
    "df.drop(drop_col, axis = 1, inplace = True)"
   ]
  },
  {
   "cell_type": "code",
   "execution_count": 9,
   "metadata": {},
   "outputs": [
    {
     "data": {
      "text/html": [
       "<div>\n",
       "<style scoped>\n",
       "    .dataframe tbody tr th:only-of-type {\n",
       "        vertical-align: middle;\n",
       "    }\n",
       "\n",
       "    .dataframe tbody tr th {\n",
       "        vertical-align: top;\n",
       "    }\n",
       "\n",
       "    .dataframe thead th {\n",
       "        text-align: right;\n",
       "    }\n",
       "</style>\n",
       "<table border=\"1\" class=\"dataframe\">\n",
       "  <thead>\n",
       "    <tr style=\"text-align: right;\">\n",
       "      <th></th>\n",
       "      <th>CreditScore</th>\n",
       "      <th>Geography</th>\n",
       "      <th>Gender</th>\n",
       "      <th>Age</th>\n",
       "      <th>Tenure</th>\n",
       "      <th>Balance</th>\n",
       "      <th>NumOfProducts</th>\n",
       "      <th>HasCrCard</th>\n",
       "      <th>IsActiveMember</th>\n",
       "      <th>EstimatedSalary</th>\n",
       "      <th>Exited</th>\n",
       "    </tr>\n",
       "  </thead>\n",
       "  <tbody>\n",
       "    <tr>\n",
       "      <th>0</th>\n",
       "      <td>619</td>\n",
       "      <td>France</td>\n",
       "      <td>Female</td>\n",
       "      <td>42</td>\n",
       "      <td>2</td>\n",
       "      <td>0.000</td>\n",
       "      <td>1</td>\n",
       "      <td>1</td>\n",
       "      <td>1</td>\n",
       "      <td>101348.880</td>\n",
       "      <td>1</td>\n",
       "    </tr>\n",
       "    <tr>\n",
       "      <th>1</th>\n",
       "      <td>608</td>\n",
       "      <td>Spain</td>\n",
       "      <td>Female</td>\n",
       "      <td>41</td>\n",
       "      <td>1</td>\n",
       "      <td>83807.860</td>\n",
       "      <td>1</td>\n",
       "      <td>0</td>\n",
       "      <td>1</td>\n",
       "      <td>112542.580</td>\n",
       "      <td>0</td>\n",
       "    </tr>\n",
       "    <tr>\n",
       "      <th>2</th>\n",
       "      <td>502</td>\n",
       "      <td>France</td>\n",
       "      <td>Female</td>\n",
       "      <td>42</td>\n",
       "      <td>8</td>\n",
       "      <td>159660.800</td>\n",
       "      <td>3</td>\n",
       "      <td>1</td>\n",
       "      <td>0</td>\n",
       "      <td>113931.570</td>\n",
       "      <td>1</td>\n",
       "    </tr>\n",
       "    <tr>\n",
       "      <th>3</th>\n",
       "      <td>699</td>\n",
       "      <td>France</td>\n",
       "      <td>Female</td>\n",
       "      <td>39</td>\n",
       "      <td>1</td>\n",
       "      <td>0.000</td>\n",
       "      <td>2</td>\n",
       "      <td>0</td>\n",
       "      <td>0</td>\n",
       "      <td>93826.630</td>\n",
       "      <td>0</td>\n",
       "    </tr>\n",
       "    <tr>\n",
       "      <th>4</th>\n",
       "      <td>850</td>\n",
       "      <td>Spain</td>\n",
       "      <td>Female</td>\n",
       "      <td>43</td>\n",
       "      <td>2</td>\n",
       "      <td>125510.820</td>\n",
       "      <td>1</td>\n",
       "      <td>1</td>\n",
       "      <td>1</td>\n",
       "      <td>79084.100</td>\n",
       "      <td>0</td>\n",
       "    </tr>\n",
       "  </tbody>\n",
       "</table>\n",
       "</div>"
      ],
      "text/plain": [
       "   CreditScore Geography  Gender  Age  Tenure    Balance  NumOfProducts  \\\n",
       "0          619    France  Female   42       2      0.000              1   \n",
       "1          608     Spain  Female   41       1  83807.860              1   \n",
       "2          502    France  Female   42       8 159660.800              3   \n",
       "3          699    France  Female   39       1      0.000              2   \n",
       "4          850     Spain  Female   43       2 125510.820              1   \n",
       "\n",
       "   HasCrCard  IsActiveMember  EstimatedSalary  Exited  \n",
       "0          1               1       101348.880       1  \n",
       "1          0               1       112542.580       0  \n",
       "2          1               0       113931.570       1  \n",
       "3          0               0        93826.630       0  \n",
       "4          1               1        79084.100       0  "
      ]
     },
     "execution_count": 9,
     "metadata": {},
     "output_type": "execute_result"
    }
   ],
   "source": [
    "df.head()"
   ]
  },
  {
   "cell_type": "code",
   "execution_count": 10,
   "metadata": {},
   "outputs": [
    {
     "data": {
      "text/plain": [
       "<AxesSubplot:xlabel='Age', ylabel='Count'>"
      ]
     },
     "execution_count": 10,
     "metadata": {},
     "output_type": "execute_result"
    },
    {
     "data": {
      "image/png": "[encoded data removed]",
      "text/plain": [
       "<Figure size 720x432 with 1 Axes>"
      ]
     },
     "metadata": {},
     "output_type": "display_data"
    }
   ],
   "source": [
    "sns.histplot(x='Age', data=df, hue='Exited')"
   ]
  },
  {
   "cell_type": "code",
   "execution_count": 11,
   "metadata": {},
   "outputs": [
    {
     "data": {
      "text/plain": [
       "<AxesSubplot:xlabel='Age', ylabel='Count'>"
      ]
     },
     "execution_count": 11,
     "metadata": {},
     "output_type": "execute_result"
    },
    {
     "data": {
      "image/png": "[encoded data removed]",
      "text/plain": [
       "<Figure size 720x432 with 1 Axes>"
      ]
     },
     "metadata": {},
     "output_type": "display_data"
    }
   ],
   "source": [
    "sns.histplot(x='Age', data=df, hue='Gender')"
   ]
  },
  {
   "cell_type": "code",
   "execution_count": 12,
   "metadata": {},
   "outputs": [
    {
     "data": {
      "text/plain": [
       "<AxesSubplot:xlabel='Age', ylabel='Count'>"
      ]
     },
     "execution_count": 12,
     "metadata": {},
     "output_type": "execute_result"
    },
    {
     "data": {
      "image/png": "[encoded data removed]",
      "text/plain": [
       "<Figure size 720x432 with 1 Axes>"
      ]
     },
     "metadata": {},
     "output_type": "display_data"
    }
   ],
   "source": [
    "sns.histplot(x='Age', data=df, hue='Geography')"
   ]
  },
  {
   "cell_type": "code",
   "execution_count": 13,
   "metadata": {},
   "outputs": [
    {
     "data": {
      "text/plain": [
       "<AxesSubplot:xlabel='IsActiveMember', ylabel='count'>"
      ]
     },
     "execution_count": 13,
     "metadata": {},
     "output_type": "execute_result"
    },
    {
     "data": {
      "image/png": "[encoded data removed]",
      "text/plain": [
       "<Figure size 720x432 with 1 Axes>"
      ]
     },
     "metadata": {},
     "output_type": "display_data"
    }
   ],
   "source": [
    "sns.countplot(x='IsActiveMember', data=df, hue='Exited')"
   ]
  },
  {
   "cell_type": "code",
   "execution_count": 14,
   "metadata": {},
   "outputs": [
    {
     "data": {
      "text/plain": [
       "<AxesSubplot:xlabel='Gender', ylabel='count'>"
      ]
     },
     "execution_count": 14,
     "metadata": {},
     "output_type": "execute_result"
    },
    {
     "data": {
      "image/png": "[encoded data removed]",
      "text/plain": [
       "<Figure size 720x432 with 1 Axes>"
      ]
     },
     "metadata": {},
     "output_type": "display_data"
    }
   ],
   "source": [
    "sns.countplot(x='Gender', data=df, hue='Exited')"
   ]
  },
  {
   "cell_type": "code",
   "execution_count": 15,
   "metadata": {},
   "outputs": [
    {
     "data": {
      "text/plain": [
       "<AxesSubplot:xlabel='Geography', ylabel='count'>"
      ]
     },
     "execution_count": 15,
     "metadata": {},
     "output_type": "execute_result"
    },
    {
     "data": {
      "image/png": "[encoded data removed]",
      "text/plain": [
       "<Figure size 720x432 with 1 Axes>"
      ]
     },
     "metadata": {},
     "output_type": "display_data"
    }
   ],
   "source": [
    "sns.countplot(x='Geography', data=df, hue='Exited')"
   ]
  },
  {
   "cell_type": "code",
   "execution_count": 16,
   "metadata": {},
   "outputs": [
    {
     "data": {
      "text/plain": [
       "<AxesSubplot:xlabel='HasCrCard', ylabel='count'>"
      ]
     },
     "execution_count": 16,
     "metadata": {},
     "output_type": "execute_result"
    },
    {
     "data": {
      "image/png": "[encoded data removed]",
      "text/plain": [
       "<Figure size 720x432 with 1 Axes>"
      ]
     },
     "metadata": {},
     "output_type": "display_data"
    }
   ],
   "source": [
    "sns.countplot(x='HasCrCard', data=df, hue='Exited')"
   ]
  },
  {
   "cell_type": "code",
   "execution_count": 17,
   "metadata": {},
   "outputs": [
    {
     "data": {
      "text/plain": [
       "<AxesSubplot:>"
      ]
     },
     "execution_count": 17,
     "metadata": {},
     "output_type": "execute_result"
    },
    {
     "data": {
      "image/png": "[encoded data removed]",
      "text/plain": [
       "<Figure size 720x432 with 1 Axes>"
      ]
     },
     "metadata": {},
     "output_type": "display_data"
    }
   ],
   "source": [
    "df.corr()['Exited'].sort_values().drop('Exited').plot(kind='barh')"
   ]
  },
  {
   "cell_type": "markdown",
   "metadata": {},
   "source": [
    "<p style='color:yellow'>I want to keep the above features even if there are some features with slight impact on the target</p>"
   ]
  },
  {
   "cell_type": "code",
   "execution_count": 121,
   "metadata": {},
   "outputs": [
    {
     "data": {
      "text/plain": [
       "(10000, 11)"
      ]
     },
     "execution_count": 121,
     "metadata": {},
     "output_type": "execute_result"
    }
   ],
   "source": [
    "df.shape"
   ]
  },
  {
   "cell_type": "code",
   "execution_count": 122,
   "metadata": {},
   "outputs": [],
   "source": [
    "df_dum = pd.get_dummies(df)"
   ]
  },
  {
   "cell_type": "code",
   "execution_count": 123,
   "metadata": {},
   "outputs": [
    {
     "data": {
      "text/html": [
       "<div>\n",
       "<style scoped>\n",
       "    .dataframe tbody tr th:only-of-type {\n",
       "        vertical-align: middle;\n",
       "    }\n",
       "\n",
       "    .dataframe tbody tr th {\n",
       "        vertical-align: top;\n",
       "    }\n",
       "\n",
       "    .dataframe thead th {\n",
       "        text-align: right;\n",
       "    }\n",
       "</style>\n",
       "<table border=\"1\" class=\"dataframe\">\n",
       "  <thead>\n",
       "    <tr style=\"text-align: right;\">\n",
       "      <th></th>\n",
       "      <th>CreditScore</th>\n",
       "      <th>Age</th>\n",
       "      <th>Tenure</th>\n",
       "      <th>Balance</th>\n",
       "      <th>NumOfProducts</th>\n",
       "      <th>HasCrCard</th>\n",
       "      <th>IsActiveMember</th>\n",
       "      <th>EstimatedSalary</th>\n",
       "      <th>Exited</th>\n",
       "      <th>Geography_France</th>\n",
       "      <th>Geography_Germany</th>\n",
       "      <th>Geography_Spain</th>\n",
       "      <th>Gender_Female</th>\n",
       "      <th>Gender_Male</th>\n",
       "    </tr>\n",
       "  </thead>\n",
       "  <tbody>\n",
       "    <tr>\n",
       "      <th>0</th>\n",
       "      <td>619</td>\n",
       "      <td>42</td>\n",
       "      <td>2</td>\n",
       "      <td>0.000</td>\n",
       "      <td>1</td>\n",
       "      <td>1</td>\n",
       "      <td>1</td>\n",
       "      <td>101348.880</td>\n",
       "      <td>1</td>\n",
       "      <td>1</td>\n",
       "      <td>0</td>\n",
       "      <td>0</td>\n",
       "      <td>1</td>\n",
       "      <td>0</td>\n",
       "    </tr>\n",
       "    <tr>\n",
       "      <th>1</th>\n",
       "      <td>608</td>\n",
       "      <td>41</td>\n",
       "      <td>1</td>\n",
       "      <td>83807.860</td>\n",
       "      <td>1</td>\n",
       "      <td>0</td>\n",
       "      <td>1</td>\n",
       "      <td>112542.580</td>\n",
       "      <td>0</td>\n",
       "      <td>0</td>\n",
       "      <td>0</td>\n",
       "      <td>1</td>\n",
       "      <td>1</td>\n",
       "      <td>0</td>\n",
       "    </tr>\n",
       "    <tr>\n",
       "      <th>2</th>\n",
       "      <td>502</td>\n",
       "      <td>42</td>\n",
       "      <td>8</td>\n",
       "      <td>159660.800</td>\n",
       "      <td>3</td>\n",
       "      <td>1</td>\n",
       "      <td>0</td>\n",
       "      <td>113931.570</td>\n",
       "      <td>1</td>\n",
       "      <td>1</td>\n",
       "      <td>0</td>\n",
       "      <td>0</td>\n",
       "      <td>1</td>\n",
       "      <td>0</td>\n",
       "    </tr>\n",
       "    <tr>\n",
       "      <th>3</th>\n",
       "      <td>699</td>\n",
       "      <td>39</td>\n",
       "      <td>1</td>\n",
       "      <td>0.000</td>\n",
       "      <td>2</td>\n",
       "      <td>0</td>\n",
       "      <td>0</td>\n",
       "      <td>93826.630</td>\n",
       "      <td>0</td>\n",
       "      <td>1</td>\n",
       "      <td>0</td>\n",
       "      <td>0</td>\n",
       "      <td>1</td>\n",
       "      <td>0</td>\n",
       "    </tr>\n",
       "    <tr>\n",
       "      <th>4</th>\n",
       "      <td>850</td>\n",
       "      <td>43</td>\n",
       "      <td>2</td>\n",
       "      <td>125510.820</td>\n",
       "      <td>1</td>\n",
       "      <td>1</td>\n",
       "      <td>1</td>\n",
       "      <td>79084.100</td>\n",
       "      <td>0</td>\n",
       "      <td>0</td>\n",
       "      <td>0</td>\n",
       "      <td>1</td>\n",
       "      <td>1</td>\n",
       "      <td>0</td>\n",
       "    </tr>\n",
       "  </tbody>\n",
       "</table>\n",
       "</div>"
      ],
      "text/plain": [
       "   CreditScore  Age  Tenure    Balance  NumOfProducts  HasCrCard  \\\n",
       "0          619   42       2      0.000              1          1   \n",
       "1          608   41       1  83807.860              1          0   \n",
       "2          502   42       8 159660.800              3          1   \n",
       "3          699   39       1      0.000              2          0   \n",
       "4          850   43       2 125510.820              1          1   \n",
       "\n",
       "   IsActiveMember  EstimatedSalary  Exited  Geography_France  \\\n",
       "0               1       101348.880       1                 1   \n",
       "1               1       112542.580       0                 0   \n",
       "2               0       113931.570       1                 1   \n",
       "3               0        93826.630       0                 1   \n",
       "4               1        79084.100       0                 0   \n",
       "\n",
       "   Geography_Germany  Geography_Spain  Gender_Female  Gender_Male  \n",
       "0                  0                0              1            0  \n",
       "1                  0                1              1            0  \n",
       "2                  0                0              1            0  \n",
       "3                  0                0              1            0  \n",
       "4                  0                1              1            0  "
      ]
     },
     "execution_count": 123,
     "metadata": {},
     "output_type": "execute_result"
    }
   ],
   "source": [
    "df_dum.head()"
   ]
  },
  {
   "cell_type": "markdown",
   "metadata": {},
   "source": [
    "# Preprocessing of Data\n",
    "- Train | Test Split, Scalling"
   ]
  },
  {
   "cell_type": "code",
   "execution_count": 124,
   "metadata": {},
   "outputs": [],
   "source": [
    "from sklearn.model_selection import train_test_split"
   ]
  },
  {
   "cell_type": "code",
   "execution_count": 125,
   "metadata": {},
   "outputs": [],
   "source": [
    "from sklearn.preprocessing import StandardScaler, MinMaxScaler"
   ]
  },
  {
   "cell_type": "code",
   "execution_count": 126,
   "metadata": {},
   "outputs": [],
   "source": [
    "X = df_dum.drop('Exited', axis=1)\n",
    "y = df_dum['Exited']"
   ]
  },
  {
   "cell_type": "code",
   "execution_count": 127,
   "metadata": {},
   "outputs": [
    {
     "data": {
      "text/html": [
       "<div>\n",
       "<style scoped>\n",
       "    .dataframe tbody tr th:only-of-type {\n",
       "        vertical-align: middle;\n",
       "    }\n",
       "\n",
       "    .dataframe tbody tr th {\n",
       "        vertical-align: top;\n",
       "    }\n",
       "\n",
       "    .dataframe thead th {\n",
       "        text-align: right;\n",
       "    }\n",
       "</style>\n",
       "<table border=\"1\" class=\"dataframe\">\n",
       "  <thead>\n",
       "    <tr style=\"text-align: right;\">\n",
       "      <th></th>\n",
       "      <th>CreditScore</th>\n",
       "      <th>Age</th>\n",
       "      <th>Tenure</th>\n",
       "      <th>Balance</th>\n",
       "      <th>NumOfProducts</th>\n",
       "      <th>HasCrCard</th>\n",
       "      <th>IsActiveMember</th>\n",
       "      <th>EstimatedSalary</th>\n",
       "      <th>Geography_France</th>\n",
       "      <th>Geography_Germany</th>\n",
       "      <th>Geography_Spain</th>\n",
       "      <th>Gender_Female</th>\n",
       "      <th>Gender_Male</th>\n",
       "    </tr>\n",
       "  </thead>\n",
       "  <tbody>\n",
       "    <tr>\n",
       "      <th>0</th>\n",
       "      <td>619</td>\n",
       "      <td>42</td>\n",
       "      <td>2</td>\n",
       "      <td>0.000</td>\n",
       "      <td>1</td>\n",
       "      <td>1</td>\n",
       "      <td>1</td>\n",
       "      <td>101348.880</td>\n",
       "      <td>1</td>\n",
       "      <td>0</td>\n",
       "      <td>0</td>\n",
       "      <td>1</td>\n",
       "      <td>0</td>\n",
       "    </tr>\n",
       "    <tr>\n",
       "      <th>1</th>\n",
       "      <td>608</td>\n",
       "      <td>41</td>\n",
       "      <td>1</td>\n",
       "      <td>83807.860</td>\n",
       "      <td>1</td>\n",
       "      <td>0</td>\n",
       "      <td>1</td>\n",
       "      <td>112542.580</td>\n",
       "      <td>0</td>\n",
       "      <td>0</td>\n",
       "      <td>1</td>\n",
       "      <td>1</td>\n",
       "      <td>0</td>\n",
       "    </tr>\n",
       "    <tr>\n",
       "      <th>2</th>\n",
       "      <td>502</td>\n",
       "      <td>42</td>\n",
       "      <td>8</td>\n",
       "      <td>159660.800</td>\n",
       "      <td>3</td>\n",
       "      <td>1</td>\n",
       "      <td>0</td>\n",
       "      <td>113931.570</td>\n",
       "      <td>1</td>\n",
       "      <td>0</td>\n",
       "      <td>0</td>\n",
       "      <td>1</td>\n",
       "      <td>0</td>\n",
       "    </tr>\n",
       "    <tr>\n",
       "      <th>3</th>\n",
       "      <td>699</td>\n",
       "      <td>39</td>\n",
       "      <td>1</td>\n",
       "      <td>0.000</td>\n",
       "      <td>2</td>\n",
       "      <td>0</td>\n",
       "      <td>0</td>\n",
       "      <td>93826.630</td>\n",
       "      <td>1</td>\n",
       "      <td>0</td>\n",
       "      <td>0</td>\n",
       "      <td>1</td>\n",
       "      <td>0</td>\n",
       "    </tr>\n",
       "    <tr>\n",
       "      <th>4</th>\n",
       "      <td>850</td>\n",
       "      <td>43</td>\n",
       "      <td>2</td>\n",
       "      <td>125510.820</td>\n",
       "      <td>1</td>\n",
       "      <td>1</td>\n",
       "      <td>1</td>\n",
       "      <td>79084.100</td>\n",
       "      <td>0</td>\n",
       "      <td>0</td>\n",
       "      <td>1</td>\n",
       "      <td>1</td>\n",
       "      <td>0</td>\n",
       "    </tr>\n",
       "  </tbody>\n",
       "</table>\n",
       "</div>"
      ],
      "text/plain": [
       "   CreditScore  Age  Tenure    Balance  NumOfProducts  HasCrCard  \\\n",
       "0          619   42       2      0.000              1          1   \n",
       "1          608   41       1  83807.860              1          0   \n",
       "2          502   42       8 159660.800              3          1   \n",
       "3          699   39       1      0.000              2          0   \n",
       "4          850   43       2 125510.820              1          1   \n",
       "\n",
       "   IsActiveMember  EstimatedSalary  Geography_France  Geography_Germany  \\\n",
       "0               1       101348.880                 1                  0   \n",
       "1               1       112542.580                 0                  0   \n",
       "2               0       113931.570                 1                  0   \n",
       "3               0        93826.630                 1                  0   \n",
       "4               1        79084.100                 0                  0   \n",
       "\n",
       "   Geography_Spain  Gender_Female  Gender_Male  \n",
       "0                0              1            0  \n",
       "1                1              1            0  \n",
       "2                0              1            0  \n",
       "3                0              1            0  \n",
       "4                1              1            0  "
      ]
     },
     "execution_count": 127,
     "metadata": {},
     "output_type": "execute_result"
    }
   ],
   "source": [
    "X.head()"
   ]
  },
  {
   "cell_type": "code",
   "execution_count": 128,
   "metadata": {},
   "outputs": [
    {
     "data": {
      "text/plain": [
       "0    1\n",
       "1    0\n",
       "2    1\n",
       "3    0\n",
       "4    0\n",
       "Name: Exited, dtype: int64"
      ]
     },
     "execution_count": 128,
     "metadata": {},
     "output_type": "execute_result"
    }
   ],
   "source": [
    "y.head()"
   ]
  },
  {
   "cell_type": "code",
   "execution_count": 129,
   "metadata": {},
   "outputs": [],
   "source": [
    "X_train, X_test, y_train, y_test = train_test_split(X, y, test_size = 0.1, random_state = 42, stratify=y)"
   ]
  },
  {
   "cell_type": "code",
   "execution_count": 130,
   "metadata": {},
   "outputs": [],
   "source": [
    "scaler = MinMaxScaler()"
   ]
  },
  {
   "cell_type": "code",
   "execution_count": 131,
   "metadata": {},
   "outputs": [],
   "source": [
    "X_train = scaler.fit_transform(X_train)\n",
    "X_test = scaler.transform(X_test)"
   ]
  },
  {
   "cell_type": "markdown",
   "metadata": {
    "id": "Ha9hDt_AoGaE"
   },
   "source": [
    "# Modelling & Model Performance"
   ]
  },
  {
   "cell_type": "markdown",
   "metadata": {},
   "source": [
    "## without class_weigth"
   ]
  },
  {
   "cell_type": "markdown",
   "metadata": {},
   "source": [
    "### Create The Model"
   ]
  },
  {
   "cell_type": "code",
   "execution_count": 29,
   "metadata": {},
   "outputs": [],
   "source": [
    "import tensorflow as tf\n",
    "from tensorflow.keras.models import Sequential\n",
    "from tensorflow.keras.layers import Dense, Activation\n",
    "from sklearn.metrics import classification_report, confusion_matrix\n",
    "from sklearn.metrics import plot_roc_curve, roc_auc_score, roc_curve\n",
    "from sklearn.model_selection import cross_val_score, cross_validate\n",
    "from sklearn.model_selection import GridSearchCV"
   ]
  },
  {
   "cell_type": "code",
   "execution_count": 132,
   "metadata": {},
   "outputs": [
    {
     "data": {
      "text/plain": [
       "(9000, 13)"
      ]
     },
     "execution_count": 132,
     "metadata": {},
     "output_type": "execute_result"
    }
   ],
   "source": [
    "X_train.shape"
   ]
  },
  {
   "cell_type": "code",
   "execution_count": 133,
   "metadata": {},
   "outputs": [],
   "source": [
    "tf.random.set_seed(42)\n",
    "\n",
    "model = Sequential()\n",
    "\n",
    "model.add(Dense(16, activation = \"relu\", input_dim = X_train.shape[1]))\n",
    "model.add(Dense(16, activation = \"relu\"))\n",
    "model.add(Dense(8, activation = \"relu\"))\n",
    "model.add(Dense(1, activation = \"sigmoid\"))\n",
    "\n",
    "model.compile(optimizer = \"adam\", loss = \"binary_crossentropy\", metrics = [\"accuracy\"])"
   ]
  },
  {
   "cell_type": "markdown",
   "metadata": {},
   "source": [
    "### Evaluate The Model\n",
    "\n",
    "- Plot the model history to observe the changing of metrics\n",
    "- Make prediction to see \"confusion matrix\" and \"classification report\"\n",
    "- Check ROC (Receiver Operating Curve) and AUC (Area Under Curve) for the model"
   ]
  },
  {
   "cell_type": "code",
   "execution_count": 134,
   "metadata": {},
   "outputs": [
    {
     "name": "stdout",
     "output_type": "stream",
     "text": [
      "Model: \"sequential_10\"\n",
      "_________________________________________________________________\n",
      " Layer (type)                Output Shape              Param #   \n",
      "=================================================================\n",
      " dense_40 (Dense)            (None, 16)                224       \n",
      "                                                                 \n",
      " dense_41 (Dense)            (None, 16)                272       \n",
      "                                                                 \n",
      " dense_42 (Dense)            (None, 8)                 136       \n",
      "                                                                 \n",
      " dense_43 (Dense)            (None, 1)                 9         \n",
      "                                                                 \n",
      "=================================================================\n",
      "Total params: 641\n",
      "Trainable params: 641\n",
      "Non-trainable params: 0\n",
      "_________________________________________________________________\n"
     ]
    }
   ],
   "source": [
    "model.summary()"
   ]
  },
  {
   "cell_type": "code",
   "execution_count": 135,
   "metadata": {},
   "outputs": [
    {
     "name": "stdout",
     "output_type": "stream",
     "text": [
      "Epoch 1/100\n",
      "254/254 [==============================] - 2s 3ms/step - loss: 0.5190 - accuracy: 0.7835 - val_loss: 0.4649 - val_accuracy: 0.7989\n",
      "Epoch 2/100\n",
      "254/254 [==============================] - 1s 3ms/step - loss: 0.4718 - accuracy: 0.7963 - val_loss: 0.4485 - val_accuracy: 0.8044\n",
      "Epoch 3/100\n",
      "254/254 [==============================] - 1s 3ms/step - loss: 0.4586 - accuracy: 0.8002 - val_loss: 0.4295 - val_accuracy: 0.8167\n",
      "Epoch 4/100\n",
      "254/254 [==============================] - 1s 3ms/step - loss: 0.4462 - accuracy: 0.8068 - val_loss: 0.4169 - val_accuracy: 0.8311\n",
      "Epoch 5/100\n",
      "254/254 [==============================] - 1s 3ms/step - loss: 0.4388 - accuracy: 0.8100 - val_loss: 0.4097 - val_accuracy: 0.8322\n",
      "Epoch 6/100\n",
      "254/254 [==============================] - 1s 3ms/step - loss: 0.4334 - accuracy: 0.8131 - val_loss: 0.4033 - val_accuracy: 0.8422\n",
      "Epoch 7/100\n",
      "254/254 [==============================] - 1s 3ms/step - loss: 0.4293 - accuracy: 0.8132 - val_loss: 0.4023 - val_accuracy: 0.8367\n",
      "Epoch 8/100\n",
      "254/254 [==============================] - 1s 3ms/step - loss: 0.4273 - accuracy: 0.8151 - val_loss: 0.4055 - val_accuracy: 0.8467\n",
      "Epoch 9/100\n",
      "254/254 [==============================] - 1s 3ms/step - loss: 0.4240 - accuracy: 0.8149 - val_loss: 0.3903 - val_accuracy: 0.8467\n",
      "Epoch 10/100\n",
      "254/254 [==============================] - 1s 3ms/step - loss: 0.4171 - accuracy: 0.8191 - val_loss: 0.3795 - val_accuracy: 0.8433\n",
      "Epoch 11/100\n",
      "254/254 [==============================] - 1s 3ms/step - loss: 0.4094 - accuracy: 0.8230 - val_loss: 0.3748 - val_accuracy: 0.8489\n",
      "Epoch 12/100\n",
      "254/254 [==============================] - 1s 3ms/step - loss: 0.3990 - accuracy: 0.8273 - val_loss: 0.3551 - val_accuracy: 0.8500\n",
      "Epoch 13/100\n",
      "254/254 [==============================] - 1s 2ms/step - loss: 0.3882 - accuracy: 0.8362 - val_loss: 0.3405 - val_accuracy: 0.8700\n",
      "Epoch 14/100\n",
      "254/254 [==============================] - 1s 3ms/step - loss: 0.3781 - accuracy: 0.8394 - val_loss: 0.3413 - val_accuracy: 0.8744\n",
      "Epoch 15/100\n",
      "254/254 [==============================] - 1s 3ms/step - loss: 0.3695 - accuracy: 0.8446 - val_loss: 0.3212 - val_accuracy: 0.8800\n",
      "Epoch 16/100\n",
      "254/254 [==============================] - 1s 2ms/step - loss: 0.3629 - accuracy: 0.8448 - val_loss: 0.3088 - val_accuracy: 0.8833\n",
      "Epoch 17/100\n",
      "254/254 [==============================] - 1s 2ms/step - loss: 0.3585 - accuracy: 0.8486 - val_loss: 0.3086 - val_accuracy: 0.8889\n",
      "Epoch 18/100\n",
      "254/254 [==============================] - 1s 2ms/step - loss: 0.3561 - accuracy: 0.8514 - val_loss: 0.3047 - val_accuracy: 0.8822\n",
      "Epoch 19/100\n",
      "254/254 [==============================] - 1s 2ms/step - loss: 0.3544 - accuracy: 0.8495 - val_loss: 0.3035 - val_accuracy: 0.8833\n",
      "Epoch 20/100\n",
      "254/254 [==============================] - 1s 2ms/step - loss: 0.3529 - accuracy: 0.8495 - val_loss: 0.3052 - val_accuracy: 0.8833\n",
      "Epoch 21/100\n",
      "254/254 [==============================] - 1s 2ms/step - loss: 0.3517 - accuracy: 0.8546 - val_loss: 0.3037 - val_accuracy: 0.8856\n",
      "Epoch 22/100\n",
      "254/254 [==============================] - 1s 3ms/step - loss: 0.3512 - accuracy: 0.8547 - val_loss: 0.3001 - val_accuracy: 0.8889\n",
      "Epoch 23/100\n",
      "254/254 [==============================] - 1s 2ms/step - loss: 0.3515 - accuracy: 0.8526 - val_loss: 0.3015 - val_accuracy: 0.8844\n",
      "Epoch 24/100\n",
      "254/254 [==============================] - 1s 2ms/step - loss: 0.3505 - accuracy: 0.8543 - val_loss: 0.2992 - val_accuracy: 0.8856\n",
      "Epoch 25/100\n",
      "254/254 [==============================] - 1s 3ms/step - loss: 0.3486 - accuracy: 0.8543 - val_loss: 0.3036 - val_accuracy: 0.8867\n",
      "Epoch 26/100\n",
      "254/254 [==============================] - 1s 2ms/step - loss: 0.3483 - accuracy: 0.8558 - val_loss: 0.3014 - val_accuracy: 0.8856\n",
      "Epoch 27/100\n",
      "254/254 [==============================] - 1s 2ms/step - loss: 0.3490 - accuracy: 0.8549 - val_loss: 0.2998 - val_accuracy: 0.8889\n",
      "Epoch 28/100\n",
      "254/254 [==============================] - 1s 2ms/step - loss: 0.3461 - accuracy: 0.8538 - val_loss: 0.3014 - val_accuracy: 0.8844\n",
      "Epoch 29/100\n",
      "254/254 [==============================] - 1s 2ms/step - loss: 0.3454 - accuracy: 0.8558 - val_loss: 0.2982 - val_accuracy: 0.8889\n",
      "Epoch 30/100\n",
      "254/254 [==============================] - 1s 2ms/step - loss: 0.3451 - accuracy: 0.8570 - val_loss: 0.2973 - val_accuracy: 0.8856\n",
      "Epoch 31/100\n",
      "254/254 [==============================] - 1s 2ms/step - loss: 0.3454 - accuracy: 0.8570 - val_loss: 0.2984 - val_accuracy: 0.8889\n",
      "Epoch 32/100\n",
      "254/254 [==============================] - 1s 2ms/step - loss: 0.3449 - accuracy: 0.8570 - val_loss: 0.2970 - val_accuracy: 0.8844\n",
      "Epoch 33/100\n",
      "254/254 [==============================] - 1s 2ms/step - loss: 0.3439 - accuracy: 0.8575 - val_loss: 0.2964 - val_accuracy: 0.8822\n",
      "Epoch 34/100\n",
      "254/254 [==============================] - 1s 2ms/step - loss: 0.3462 - accuracy: 0.8562 - val_loss: 0.2972 - val_accuracy: 0.8878\n",
      "Epoch 35/100\n",
      "254/254 [==============================] - 1s 2ms/step - loss: 0.3451 - accuracy: 0.8577 - val_loss: 0.2976 - val_accuracy: 0.8833\n",
      "Epoch 36/100\n",
      "254/254 [==============================] - 1s 2ms/step - loss: 0.3434 - accuracy: 0.8586 - val_loss: 0.2936 - val_accuracy: 0.8889\n",
      "Epoch 37/100\n",
      "254/254 [==============================] - 1s 2ms/step - loss: 0.3421 - accuracy: 0.8599 - val_loss: 0.2941 - val_accuracy: 0.8889\n",
      "Epoch 38/100\n",
      "254/254 [==============================] - 1s 3ms/step - loss: 0.3441 - accuracy: 0.8563 - val_loss: 0.2955 - val_accuracy: 0.8911\n",
      "Epoch 39/100\n",
      "254/254 [==============================] - 1s 2ms/step - loss: 0.3423 - accuracy: 0.8586 - val_loss: 0.2954 - val_accuracy: 0.8867\n",
      "Epoch 40/100\n",
      "254/254 [==============================] - 1s 2ms/step - loss: 0.3419 - accuracy: 0.8584 - val_loss: 0.3042 - val_accuracy: 0.8767\n",
      "Epoch 41/100\n",
      "254/254 [==============================] - 1s 2ms/step - loss: 0.3423 - accuracy: 0.8583 - val_loss: 0.2977 - val_accuracy: 0.8833\n",
      "Epoch 42/100\n",
      "254/254 [==============================] - 1s 2ms/step - loss: 0.3418 - accuracy: 0.8595 - val_loss: 0.2944 - val_accuracy: 0.8844\n",
      "Epoch 43/100\n",
      "254/254 [==============================] - 1s 2ms/step - loss: 0.3416 - accuracy: 0.8588 - val_loss: 0.2932 - val_accuracy: 0.8867\n",
      "Epoch 44/100\n",
      "254/254 [==============================] - 1s 2ms/step - loss: 0.3408 - accuracy: 0.8586 - val_loss: 0.3009 - val_accuracy: 0.8889\n",
      "Epoch 45/100\n",
      "254/254 [==============================] - 1s 3ms/step - loss: 0.3411 - accuracy: 0.8615 - val_loss: 0.2976 - val_accuracy: 0.8833\n",
      "Epoch 46/100\n",
      "254/254 [==============================] - 1s 2ms/step - loss: 0.3402 - accuracy: 0.8594 - val_loss: 0.3063 - val_accuracy: 0.8867\n",
      "Epoch 47/100\n",
      "254/254 [==============================] - 1s 2ms/step - loss: 0.3412 - accuracy: 0.8581 - val_loss: 0.2955 - val_accuracy: 0.8844\n",
      "Epoch 48/100\n",
      "254/254 [==============================] - 1s 2ms/step - loss: 0.3409 - accuracy: 0.8581 - val_loss: 0.2980 - val_accuracy: 0.8844\n",
      "Epoch 49/100\n",
      "254/254 [==============================] - 1s 2ms/step - loss: 0.3395 - accuracy: 0.8596 - val_loss: 0.2932 - val_accuracy: 0.8889\n",
      "Epoch 50/100\n",
      "254/254 [==============================] - 1s 2ms/step - loss: 0.3400 - accuracy: 0.8585 - val_loss: 0.2970 - val_accuracy: 0.8844\n",
      "Epoch 51/100\n",
      "254/254 [==============================] - 1s 3ms/step - loss: 0.3396 - accuracy: 0.8594 - val_loss: 0.2944 - val_accuracy: 0.8844\n",
      "Epoch 52/100\n",
      "254/254 [==============================] - 1s 2ms/step - loss: 0.3386 - accuracy: 0.8626 - val_loss: 0.2954 - val_accuracy: 0.8878\n",
      "Epoch 53/100\n",
      "254/254 [==============================] - 1s 2ms/step - loss: 0.3385 - accuracy: 0.8621 - val_loss: 0.2985 - val_accuracy: 0.8811\n",
      "Epoch 54/100\n",
      "254/254 [==============================] - 1s 2ms/step - loss: 0.3385 - accuracy: 0.8606 - val_loss: 0.2940 - val_accuracy: 0.8800\n",
      "Epoch 55/100\n",
      "254/254 [==============================] - 1s 2ms/step - loss: 0.3383 - accuracy: 0.8612 - val_loss: 0.2966 - val_accuracy: 0.8889\n",
      "Epoch 56/100\n",
      "254/254 [==============================] - 1s 2ms/step - loss: 0.3382 - accuracy: 0.8589 - val_loss: 0.2985 - val_accuracy: 0.8867\n",
      "Epoch 57/100\n",
      "254/254 [==============================] - 1s 2ms/step - loss: 0.3387 - accuracy: 0.8584 - val_loss: 0.2957 - val_accuracy: 0.8822\n",
      "Epoch 58/100\n",
      "254/254 [==============================] - 1s 2ms/step - loss: 0.3369 - accuracy: 0.8615 - val_loss: 0.2976 - val_accuracy: 0.8878\n",
      "Epoch 59/100\n",
      "254/254 [==============================] - 1s 2ms/step - loss: 0.3372 - accuracy: 0.8625 - val_loss: 0.3010 - val_accuracy: 0.8856\n",
      "Epoch 60/100\n",
      "254/254 [==============================] - 1s 2ms/step - loss: 0.3392 - accuracy: 0.8610 - val_loss: 0.2979 - val_accuracy: 0.8856\n",
      "Epoch 61/100\n",
      "254/254 [==============================] - 1s 2ms/step - loss: 0.3356 - accuracy: 0.8625 - val_loss: 0.2950 - val_accuracy: 0.8800\n",
      "Epoch 62/100\n",
      "254/254 [==============================] - 1s 2ms/step - loss: 0.3361 - accuracy: 0.8593 - val_loss: 0.2977 - val_accuracy: 0.8811\n",
      "Epoch 63/100\n",
      "254/254 [==============================] - 1s 2ms/step - loss: 0.3364 - accuracy: 0.8622 - val_loss: 0.3028 - val_accuracy: 0.8867\n",
      "Epoch 64/100\n",
      "254/254 [==============================] - 1s 2ms/step - loss: 0.3365 - accuracy: 0.8612 - val_loss: 0.2944 - val_accuracy: 0.8867\n",
      "Epoch 65/100\n",
      "254/254 [==============================] - 1s 3ms/step - loss: 0.3347 - accuracy: 0.8621 - val_loss: 0.3007 - val_accuracy: 0.8800\n",
      "Epoch 66/100\n",
      "254/254 [==============================] - 1s 3ms/step - loss: 0.3358 - accuracy: 0.8632 - val_loss: 0.3019 - val_accuracy: 0.8867\n",
      "Epoch 67/100\n",
      "254/254 [==============================] - 1s 2ms/step - loss: 0.3366 - accuracy: 0.8610 - val_loss: 0.2945 - val_accuracy: 0.8811\n",
      "Epoch 68/100\n",
      "254/254 [==============================] - 1s 2ms/step - loss: 0.3355 - accuracy: 0.8612 - val_loss: 0.2961 - val_accuracy: 0.8811\n",
      "Epoch 69/100\n",
      "254/254 [==============================] - 1s 2ms/step - loss: 0.3364 - accuracy: 0.8623 - val_loss: 0.2992 - val_accuracy: 0.8856\n",
      "Epoch 70/100\n",
      "254/254 [==============================] - 1s 2ms/step - loss: 0.3354 - accuracy: 0.8625 - val_loss: 0.2993 - val_accuracy: 0.8800\n",
      "Epoch 71/100\n",
      "254/254 [==============================] - 1s 2ms/step - loss: 0.3351 - accuracy: 0.8621 - val_loss: 0.2937 - val_accuracy: 0.8856\n",
      "Epoch 72/100\n",
      "254/254 [==============================] - 1s 2ms/step - loss: 0.3334 - accuracy: 0.8632 - val_loss: 0.2990 - val_accuracy: 0.8789\n",
      "Epoch 73/100\n",
      "254/254 [==============================] - 1s 2ms/step - loss: 0.3341 - accuracy: 0.8623 - val_loss: 0.2969 - val_accuracy: 0.8867\n",
      "Epoch 74/100\n",
      "254/254 [==============================] - 1s 2ms/step - loss: 0.3341 - accuracy: 0.8633 - val_loss: 0.3005 - val_accuracy: 0.8767\n",
      "Epoch 75/100\n",
      "254/254 [==============================] - 1s 3ms/step - loss: 0.3333 - accuracy: 0.8627 - val_loss: 0.2947 - val_accuracy: 0.8800\n",
      "Epoch 76/100\n",
      "254/254 [==============================] - 1s 3ms/step - loss: 0.3348 - accuracy: 0.8617 - val_loss: 0.2936 - val_accuracy: 0.8856\n",
      "Epoch 77/100\n",
      "254/254 [==============================] - 1s 3ms/step - loss: 0.3337 - accuracy: 0.8619 - val_loss: 0.2943 - val_accuracy: 0.8822\n",
      "Epoch 78/100\n",
      "254/254 [==============================] - 1s 3ms/step - loss: 0.3344 - accuracy: 0.8619 - val_loss: 0.3003 - val_accuracy: 0.8722\n",
      "Epoch 79/100\n",
      "254/254 [==============================] - 1s 3ms/step - loss: 0.3335 - accuracy: 0.8620 - val_loss: 0.2970 - val_accuracy: 0.8744\n",
      "Epoch 80/100\n",
      "254/254 [==============================] - 1s 3ms/step - loss: 0.3325 - accuracy: 0.8621 - val_loss: 0.2986 - val_accuracy: 0.8722\n",
      "Epoch 81/100\n",
      "254/254 [==============================] - 1s 3ms/step - loss: 0.3326 - accuracy: 0.8647 - val_loss: 0.3009 - val_accuracy: 0.8800\n",
      "Epoch 82/100\n",
      "254/254 [==============================] - 1s 3ms/step - loss: 0.3318 - accuracy: 0.8616 - val_loss: 0.2975 - val_accuracy: 0.8800\n",
      "Epoch 83/100\n",
      "254/254 [==============================] - 1s 3ms/step - loss: 0.3331 - accuracy: 0.8643 - val_loss: 0.2944 - val_accuracy: 0.8878\n",
      "Epoch 84/100\n",
      "254/254 [==============================] - 1s 3ms/step - loss: 0.3328 - accuracy: 0.8638 - val_loss: 0.2958 - val_accuracy: 0.8922\n",
      "Epoch 85/100\n",
      "254/254 [==============================] - 1s 3ms/step - loss: 0.3308 - accuracy: 0.8648 - val_loss: 0.2949 - val_accuracy: 0.8800\n",
      "Epoch 86/100\n",
      "254/254 [==============================] - 1s 3ms/step - loss: 0.3335 - accuracy: 0.8642 - val_loss: 0.2930 - val_accuracy: 0.8789\n",
      "Epoch 87/100\n",
      "254/254 [==============================] - 1s 2ms/step - loss: 0.3321 - accuracy: 0.8627 - val_loss: 0.2979 - val_accuracy: 0.8844\n",
      "Epoch 88/100\n",
      "254/254 [==============================] - 1s 2ms/step - loss: 0.3316 - accuracy: 0.8628 - val_loss: 0.3025 - val_accuracy: 0.8856\n",
      "Epoch 89/100\n",
      "254/254 [==============================] - 1s 3ms/step - loss: 0.3335 - accuracy: 0.8609 - val_loss: 0.2918 - val_accuracy: 0.8789\n",
      "Epoch 90/100\n",
      "254/254 [==============================] - 1s 3ms/step - loss: 0.3317 - accuracy: 0.8627 - val_loss: 0.2960 - val_accuracy: 0.8800\n",
      "Epoch 91/100\n",
      "254/254 [==============================] - 1s 3ms/step - loss: 0.3320 - accuracy: 0.8626 - val_loss: 0.3025 - val_accuracy: 0.8800\n",
      "Epoch 92/100\n",
      "254/254 [==============================] - 1s 3ms/step - loss: 0.3314 - accuracy: 0.8654 - val_loss: 0.2964 - val_accuracy: 0.8811\n",
      "Epoch 93/100\n",
      "254/254 [==============================] - 1s 3ms/step - loss: 0.3309 - accuracy: 0.8648 - val_loss: 0.2950 - val_accuracy: 0.8889\n",
      "Epoch 94/100\n",
      "254/254 [==============================] - 1s 3ms/step - loss: 0.3308 - accuracy: 0.8646 - val_loss: 0.2998 - val_accuracy: 0.8833\n",
      "Epoch 95/100\n",
      "254/254 [==============================] - 1s 3ms/step - loss: 0.3318 - accuracy: 0.8627 - val_loss: 0.2956 - val_accuracy: 0.8822\n",
      "Epoch 96/100\n",
      "254/254 [==============================] - 1s 3ms/step - loss: 0.3325 - accuracy: 0.8627 - val_loss: 0.2939 - val_accuracy: 0.8833\n",
      "Epoch 97/100\n",
      "254/254 [==============================] - 1s 2ms/step - loss: 0.3330 - accuracy: 0.8625 - val_loss: 0.2966 - val_accuracy: 0.8822\n",
      "Epoch 98/100\n",
      "254/254 [==============================] - 1s 3ms/step - loss: 0.3307 - accuracy: 0.8654 - val_loss: 0.2927 - val_accuracy: 0.8878\n",
      "Epoch 99/100\n",
      "254/254 [==============================] - 1s 3ms/step - loss: 0.3293 - accuracy: 0.8643 - val_loss: 0.2940 - val_accuracy: 0.8822\n",
      "Epoch 100/100\n",
      "254/254 [==============================] - 1s 3ms/step - loss: 0.3311 - accuracy: 0.8612 - val_loss: 0.2911 - val_accuracy: 0.8867\n"
     ]
    },
    {
     "data": {
      "text/plain": [
       "<keras.callbacks.History at 0x1fe40e1a490>"
      ]
     },
     "execution_count": 135,
     "metadata": {},
     "output_type": "execute_result"
    }
   ],
   "source": [
    "model.fit(x = X_train, y = y_train, validation_split = 0.1, batch_size = 32, epochs = 100, verbose=1)"
   ]
  },
  {
   "cell_type": "code",
   "execution_count": 136,
   "metadata": {},
   "outputs": [
    {
     "data": {
      "text/html": [
       "<div>\n",
       "<style scoped>\n",
       "    .dataframe tbody tr th:only-of-type {\n",
       "        vertical-align: middle;\n",
       "    }\n",
       "\n",
       "    .dataframe tbody tr th {\n",
       "        vertical-align: top;\n",
       "    }\n",
       "\n",
       "    .dataframe thead th {\n",
       "        text-align: right;\n",
       "    }\n",
       "</style>\n",
       "<table border=\"1\" class=\"dataframe\">\n",
       "  <thead>\n",
       "    <tr style=\"text-align: right;\">\n",
       "      <th></th>\n",
       "      <th>loss</th>\n",
       "      <th>accuracy</th>\n",
       "      <th>val_loss</th>\n",
       "      <th>val_accuracy</th>\n",
       "    </tr>\n",
       "  </thead>\n",
       "  <tbody>\n",
       "    <tr>\n",
       "      <th>0</th>\n",
       "      <td>0.519</td>\n",
       "      <td>0.783</td>\n",
       "      <td>0.465</td>\n",
       "      <td>0.799</td>\n",
       "    </tr>\n",
       "    <tr>\n",
       "      <th>1</th>\n",
       "      <td>0.472</td>\n",
       "      <td>0.796</td>\n",
       "      <td>0.448</td>\n",
       "      <td>0.804</td>\n",
       "    </tr>\n",
       "    <tr>\n",
       "      <th>2</th>\n",
       "      <td>0.459</td>\n",
       "      <td>0.800</td>\n",
       "      <td>0.429</td>\n",
       "      <td>0.817</td>\n",
       "    </tr>\n",
       "    <tr>\n",
       "      <th>3</th>\n",
       "      <td>0.446</td>\n",
       "      <td>0.807</td>\n",
       "      <td>0.417</td>\n",
       "      <td>0.831</td>\n",
       "    </tr>\n",
       "    <tr>\n",
       "      <th>4</th>\n",
       "      <td>0.439</td>\n",
       "      <td>0.810</td>\n",
       "      <td>0.410</td>\n",
       "      <td>0.832</td>\n",
       "    </tr>\n",
       "  </tbody>\n",
       "</table>\n",
       "</div>"
      ],
      "text/plain": [
       "   loss  accuracy  val_loss  val_accuracy\n",
       "0 0.519     0.783     0.465         0.799\n",
       "1 0.472     0.796     0.448         0.804\n",
       "2 0.459     0.800     0.429         0.817\n",
       "3 0.446     0.807     0.417         0.831\n",
       "4 0.439     0.810     0.410         0.832"
      ]
     },
     "execution_count": 136,
     "metadata": {},
     "output_type": "execute_result"
    }
   ],
   "source": [
    "loss_df = pd.DataFrame(model.history.history)\n",
    "loss_df.head()"
   ]
  },
  {
   "cell_type": "code",
   "execution_count": 137,
   "metadata": {},
   "outputs": [
    {
     "data": {
      "image/png": "[encoded data removed]",
      "text/plain": [
       "<Figure size 720x432 with 1 Axes>"
      ]
     },
     "metadata": {},
     "output_type": "display_data"
    }
   ],
   "source": [
    "loss_df.plot();"
   ]
  },
  {
   "cell_type": "code",
   "execution_count": 138,
   "metadata": {},
   "outputs": [],
   "source": [
    "tf.random.set_seed(42)\n",
    "\n",
    "model = Sequential()\n",
    "\n",
    "model.add(Dense(16, activation = \"relu\", input_dim = X_train.shape[1]))\n",
    "model.add(Dense(8, activation = \"relu\"))\n",
    "model.add(Dense(1, activation = \"sigmoid\"))\n",
    "\n",
    "model.compile(optimizer = \"adam\", loss = \"binary_crossentropy\", metrics = [\"accuracy\"])"
   ]
  },
  {
   "cell_type": "code",
   "execution_count": 37,
   "metadata": {},
   "outputs": [
    {
     "name": "stdout",
     "output_type": "stream",
     "text": [
      "Epoch 1/100\n",
      "99/99 [==============================] - 1s 3ms/step - loss: 0.5220 - accuracy: 0.7960 - val_loss: 0.4857 - val_accuracy: 0.7989\n",
      "Epoch 2/100\n",
      "99/99 [==============================] - 0s 2ms/step - loss: 0.4890 - accuracy: 0.7960 - val_loss: 0.4718 - val_accuracy: 0.7989\n",
      "Epoch 3/100\n",
      "99/99 [==============================] - 0s 2ms/step - loss: 0.4789 - accuracy: 0.7960 - val_loss: 0.4602 - val_accuracy: 0.7989\n",
      "Epoch 4/100\n",
      "99/99 [==============================] - 0s 2ms/step - loss: 0.4698 - accuracy: 0.7989 - val_loss: 0.4478 - val_accuracy: 0.8111\n",
      "Epoch 5/100\n",
      "99/99 [==============================] - 0s 2ms/step - loss: 0.4620 - accuracy: 0.8004 - val_loss: 0.4378 - val_accuracy: 0.8133\n",
      "Epoch 6/100\n",
      "99/99 [==============================] - 0s 2ms/step - loss: 0.4550 - accuracy: 0.8030 - val_loss: 0.4314 - val_accuracy: 0.8167\n",
      "Epoch 7/100\n",
      "99/99 [==============================] - 0s 2ms/step - loss: 0.4491 - accuracy: 0.8063 - val_loss: 0.4215 - val_accuracy: 0.8222\n",
      "Epoch 8/100\n",
      "99/99 [==============================] - 0s 2ms/step - loss: 0.4432 - accuracy: 0.8086 - val_loss: 0.4153 - val_accuracy: 0.8278\n",
      "Epoch 9/100\n",
      "99/99 [==============================] - 0s 2ms/step - loss: 0.4383 - accuracy: 0.8117 - val_loss: 0.4108 - val_accuracy: 0.8267\n",
      "Epoch 10/100\n",
      "99/99 [==============================] - 0s 2ms/step - loss: 0.4345 - accuracy: 0.8119 - val_loss: 0.4049 - val_accuracy: 0.8256\n",
      "Epoch 11/100\n",
      "99/99 [==============================] - 0s 2ms/step - loss: 0.4309 - accuracy: 0.8125 - val_loss: 0.4023 - val_accuracy: 0.8344\n",
      "Epoch 12/100\n",
      "99/99 [==============================] - 0s 2ms/step - loss: 0.4280 - accuracy: 0.8133 - val_loss: 0.3972 - val_accuracy: 0.8311\n",
      "Epoch 13/100\n",
      "99/99 [==============================] - 0s 2ms/step - loss: 0.4243 - accuracy: 0.8141 - val_loss: 0.3973 - val_accuracy: 0.8444\n",
      "Epoch 14/100\n",
      "99/99 [==============================] - 0s 2ms/step - loss: 0.4215 - accuracy: 0.8185 - val_loss: 0.3894 - val_accuracy: 0.8389\n",
      "Epoch 15/100\n",
      "99/99 [==============================] - 0s 2ms/step - loss: 0.4165 - accuracy: 0.8200 - val_loss: 0.3835 - val_accuracy: 0.8433\n",
      "Epoch 16/100\n",
      "99/99 [==============================] - 0s 2ms/step - loss: 0.4122 - accuracy: 0.8228 - val_loss: 0.3789 - val_accuracy: 0.8456\n",
      "Epoch 17/100\n",
      "99/99 [==============================] - 0s 2ms/step - loss: 0.4070 - accuracy: 0.8232 - val_loss: 0.3732 - val_accuracy: 0.8467\n",
      "Epoch 18/100\n",
      "99/99 [==============================] - 0s 2ms/step - loss: 0.4024 - accuracy: 0.8254 - val_loss: 0.3671 - val_accuracy: 0.8456\n",
      "Epoch 19/100\n",
      "99/99 [==============================] - 0s 2ms/step - loss: 0.3980 - accuracy: 0.8268 - val_loss: 0.3649 - val_accuracy: 0.8489\n",
      "Epoch 20/100\n",
      "99/99 [==============================] - 0s 2ms/step - loss: 0.3938 - accuracy: 0.8296 - val_loss: 0.3556 - val_accuracy: 0.8544\n",
      "Epoch 21/100\n",
      "99/99 [==============================] - 0s 2ms/step - loss: 0.3884 - accuracy: 0.8328 - val_loss: 0.3512 - val_accuracy: 0.8622\n",
      "Epoch 22/100\n",
      "99/99 [==============================] - 0s 3ms/step - loss: 0.3845 - accuracy: 0.8330 - val_loss: 0.3445 - val_accuracy: 0.8600\n",
      "Epoch 23/100\n",
      "99/99 [==============================] - 0s 2ms/step - loss: 0.3807 - accuracy: 0.8374 - val_loss: 0.3385 - val_accuracy: 0.8689\n",
      "Epoch 24/100\n",
      "99/99 [==============================] - 0s 2ms/step - loss: 0.3786 - accuracy: 0.8389 - val_loss: 0.3365 - val_accuracy: 0.8700\n",
      "Epoch 25/100\n",
      "99/99 [==============================] - 0s 2ms/step - loss: 0.3738 - accuracy: 0.8405 - val_loss: 0.3328 - val_accuracy: 0.8711\n",
      "Epoch 26/100\n",
      "99/99 [==============================] - 0s 2ms/step - loss: 0.3715 - accuracy: 0.8426 - val_loss: 0.3276 - val_accuracy: 0.8711\n",
      "Epoch 27/100\n",
      "99/99 [==============================] - 0s 2ms/step - loss: 0.3697 - accuracy: 0.8423 - val_loss: 0.3296 - val_accuracy: 0.8800\n",
      "Epoch 28/100\n",
      "99/99 [==============================] - 0s 2ms/step - loss: 0.3694 - accuracy: 0.8417 - val_loss: 0.3245 - val_accuracy: 0.8811\n",
      "Epoch 29/100\n",
      "99/99 [==============================] - 0s 2ms/step - loss: 0.3655 - accuracy: 0.8463 - val_loss: 0.3236 - val_accuracy: 0.8800\n",
      "Epoch 30/100\n",
      "99/99 [==============================] - 0s 2ms/step - loss: 0.3635 - accuracy: 0.8465 - val_loss: 0.3235 - val_accuracy: 0.8822\n",
      "Epoch 31/100\n",
      "99/99 [==============================] - 0s 2ms/step - loss: 0.3629 - accuracy: 0.8465 - val_loss: 0.3172 - val_accuracy: 0.8833\n",
      "Epoch 32/100\n",
      "99/99 [==============================] - 0s 2ms/step - loss: 0.3610 - accuracy: 0.8514 - val_loss: 0.3155 - val_accuracy: 0.8811\n",
      "Epoch 33/100\n",
      "99/99 [==============================] - 0s 2ms/step - loss: 0.3597 - accuracy: 0.8485 - val_loss: 0.3146 - val_accuracy: 0.8800\n",
      "Epoch 34/100\n",
      "99/99 [==============================] - 0s 2ms/step - loss: 0.3594 - accuracy: 0.8486 - val_loss: 0.3130 - val_accuracy: 0.8822\n",
      "Epoch 35/100\n",
      "99/99 [==============================] - 0s 2ms/step - loss: 0.3585 - accuracy: 0.8500 - val_loss: 0.3121 - val_accuracy: 0.8800\n",
      "Epoch 36/100\n",
      "99/99 [==============================] - 0s 2ms/step - loss: 0.3574 - accuracy: 0.8516 - val_loss: 0.3098 - val_accuracy: 0.8822\n",
      "Epoch 37/100\n",
      "99/99 [==============================] - 0s 2ms/step - loss: 0.3581 - accuracy: 0.8505 - val_loss: 0.3112 - val_accuracy: 0.8833\n",
      "Epoch 38/100\n",
      "99/99 [==============================] - 0s 2ms/step - loss: 0.3567 - accuracy: 0.8515 - val_loss: 0.3106 - val_accuracy: 0.8822\n",
      "Epoch 39/100\n",
      "99/99 [==============================] - 0s 2ms/step - loss: 0.3556 - accuracy: 0.8523 - val_loss: 0.3075 - val_accuracy: 0.8789\n",
      "Epoch 40/100\n",
      "99/99 [==============================] - 0s 2ms/step - loss: 0.3553 - accuracy: 0.8530 - val_loss: 0.3098 - val_accuracy: 0.8800\n",
      "Epoch 41/100\n",
      "99/99 [==============================] - 0s 2ms/step - loss: 0.3543 - accuracy: 0.8530 - val_loss: 0.3084 - val_accuracy: 0.8778\n",
      "Epoch 42/100\n",
      "99/99 [==============================] - 0s 2ms/step - loss: 0.3547 - accuracy: 0.8522 - val_loss: 0.3070 - val_accuracy: 0.8789\n",
      "Epoch 43/100\n",
      "99/99 [==============================] - 0s 2ms/step - loss: 0.3533 - accuracy: 0.8535 - val_loss: 0.3063 - val_accuracy: 0.8844\n",
      "Epoch 44/100\n",
      "99/99 [==============================] - 0s 2ms/step - loss: 0.3534 - accuracy: 0.8547 - val_loss: 0.3066 - val_accuracy: 0.8800\n",
      "Epoch 45/100\n",
      "99/99 [==============================] - 0s 2ms/step - loss: 0.3526 - accuracy: 0.8537 - val_loss: 0.3067 - val_accuracy: 0.8811\n",
      "Epoch 46/100\n",
      "99/99 [==============================] - 0s 2ms/step - loss: 0.3520 - accuracy: 0.8543 - val_loss: 0.3070 - val_accuracy: 0.8811\n",
      "Epoch 47/100\n",
      "99/99 [==============================] - 0s 2ms/step - loss: 0.3520 - accuracy: 0.8533 - val_loss: 0.3056 - val_accuracy: 0.8778\n",
      "Epoch 48/100\n",
      "99/99 [==============================] - 0s 2ms/step - loss: 0.3524 - accuracy: 0.8523 - val_loss: 0.3047 - val_accuracy: 0.8844\n",
      "Epoch 49/100\n",
      "99/99 [==============================] - 0s 2ms/step - loss: 0.3510 - accuracy: 0.8537 - val_loss: 0.3051 - val_accuracy: 0.8789\n",
      "Epoch 50/100\n",
      "99/99 [==============================] - 0s 2ms/step - loss: 0.3507 - accuracy: 0.8542 - val_loss: 0.3083 - val_accuracy: 0.8833\n",
      "Epoch 51/100\n",
      "99/99 [==============================] - 0s 2ms/step - loss: 0.3501 - accuracy: 0.8530 - val_loss: 0.3045 - val_accuracy: 0.8822\n",
      "Epoch 52/100\n",
      "99/99 [==============================] - 0s 3ms/step - loss: 0.3500 - accuracy: 0.8551 - val_loss: 0.3126 - val_accuracy: 0.8811\n",
      "Epoch 53/100\n",
      "99/99 [==============================] - 0s 3ms/step - loss: 0.3502 - accuracy: 0.8564 - val_loss: 0.3032 - val_accuracy: 0.8800\n",
      "Epoch 54/100\n",
      "99/99 [==============================] - 0s 2ms/step - loss: 0.3493 - accuracy: 0.8537 - val_loss: 0.3028 - val_accuracy: 0.8822\n",
      "Epoch 55/100\n",
      "99/99 [==============================] - 0s 2ms/step - loss: 0.3494 - accuracy: 0.8537 - val_loss: 0.3038 - val_accuracy: 0.8856\n",
      "Epoch 56/100\n",
      "99/99 [==============================] - 0s 2ms/step - loss: 0.3488 - accuracy: 0.8556 - val_loss: 0.3027 - val_accuracy: 0.8811\n",
      "Epoch 57/100\n",
      "99/99 [==============================] - 0s 2ms/step - loss: 0.3488 - accuracy: 0.8531 - val_loss: 0.3035 - val_accuracy: 0.8833\n",
      "Epoch 58/100\n",
      "99/99 [==============================] - 0s 2ms/step - loss: 0.3483 - accuracy: 0.8551 - val_loss: 0.3044 - val_accuracy: 0.8833\n",
      "Epoch 59/100\n",
      "99/99 [==============================] - 0s 2ms/step - loss: 0.3483 - accuracy: 0.8574 - val_loss: 0.3026 - val_accuracy: 0.8844\n",
      "Epoch 60/100\n",
      "99/99 [==============================] - 0s 2ms/step - loss: 0.3472 - accuracy: 0.8553 - val_loss: 0.3034 - val_accuracy: 0.8844\n",
      "Epoch 61/100\n",
      "99/99 [==============================] - 0s 2ms/step - loss: 0.3475 - accuracy: 0.8574 - val_loss: 0.3052 - val_accuracy: 0.8856\n",
      "Epoch 62/100\n",
      "99/99 [==============================] - 0s 2ms/step - loss: 0.3471 - accuracy: 0.8563 - val_loss: 0.3077 - val_accuracy: 0.8811\n",
      "Epoch 63/100\n",
      "99/99 [==============================] - 0s 2ms/step - loss: 0.3465 - accuracy: 0.8542 - val_loss: 0.3023 - val_accuracy: 0.8833\n",
      "Epoch 64/100\n",
      "99/99 [==============================] - 0s 4ms/step - loss: 0.3474 - accuracy: 0.8562 - val_loss: 0.3050 - val_accuracy: 0.8878\n",
      "Epoch 65/100\n",
      "99/99 [==============================] - 0s 3ms/step - loss: 0.3457 - accuracy: 0.8574 - val_loss: 0.3020 - val_accuracy: 0.8844\n",
      "Epoch 66/100\n",
      "99/99 [==============================] - 0s 2ms/step - loss: 0.3458 - accuracy: 0.8577 - val_loss: 0.3067 - val_accuracy: 0.8867\n",
      "Epoch 67/100\n",
      "99/99 [==============================] - 0s 2ms/step - loss: 0.3467 - accuracy: 0.8573 - val_loss: 0.2998 - val_accuracy: 0.8822\n",
      "Epoch 68/100\n",
      "99/99 [==============================] - 0s 2ms/step - loss: 0.3457 - accuracy: 0.8574 - val_loss: 0.3000 - val_accuracy: 0.8856\n",
      "Epoch 69/100\n",
      "99/99 [==============================] - 0s 2ms/step - loss: 0.3454 - accuracy: 0.8553 - val_loss: 0.3038 - val_accuracy: 0.8889\n",
      "Epoch 70/100\n",
      "99/99 [==============================] - 0s 2ms/step - loss: 0.3449 - accuracy: 0.8567 - val_loss: 0.2998 - val_accuracy: 0.8867\n",
      "Epoch 71/100\n",
      "99/99 [==============================] - 0s 2ms/step - loss: 0.3452 - accuracy: 0.8564 - val_loss: 0.3002 - val_accuracy: 0.8867\n",
      "Epoch 72/100\n",
      "99/99 [==============================] - 0s 2ms/step - loss: 0.3447 - accuracy: 0.8583 - val_loss: 0.3009 - val_accuracy: 0.8878\n",
      "Epoch 73/100\n",
      "99/99 [==============================] - 0s 2ms/step - loss: 0.3446 - accuracy: 0.8575 - val_loss: 0.2982 - val_accuracy: 0.8822\n",
      "Epoch 74/100\n",
      "99/99 [==============================] - 0s 2ms/step - loss: 0.3442 - accuracy: 0.8584 - val_loss: 0.3021 - val_accuracy: 0.8856\n",
      "Epoch 75/100\n",
      "99/99 [==============================] - 0s 2ms/step - loss: 0.3446 - accuracy: 0.8554 - val_loss: 0.3025 - val_accuracy: 0.8789\n",
      "Epoch 76/100\n",
      "99/99 [==============================] - 0s 2ms/step - loss: 0.3438 - accuracy: 0.8585 - val_loss: 0.2992 - val_accuracy: 0.8844\n",
      "Epoch 77/100\n",
      "99/99 [==============================] - 0s 2ms/step - loss: 0.3432 - accuracy: 0.8572 - val_loss: 0.2990 - val_accuracy: 0.8900\n",
      "Epoch 78/100\n",
      "99/99 [==============================] - 0s 2ms/step - loss: 0.3452 - accuracy: 0.8565 - val_loss: 0.3033 - val_accuracy: 0.8867\n",
      "Epoch 79/100\n",
      "99/99 [==============================] - 0s 2ms/step - loss: 0.3435 - accuracy: 0.8570 - val_loss: 0.2995 - val_accuracy: 0.8878\n",
      "Epoch 80/100\n",
      "99/99 [==============================] - 0s 2ms/step - loss: 0.3433 - accuracy: 0.8586 - val_loss: 0.3006 - val_accuracy: 0.8878\n",
      "Epoch 81/100\n",
      "99/99 [==============================] - 0s 2ms/step - loss: 0.3438 - accuracy: 0.8573 - val_loss: 0.3004 - val_accuracy: 0.8789\n",
      "Epoch 82/100\n",
      "99/99 [==============================] - 0s 2ms/step - loss: 0.3426 - accuracy: 0.8567 - val_loss: 0.3001 - val_accuracy: 0.8900\n",
      "Epoch 83/100\n",
      "99/99 [==============================] - 0s 2ms/step - loss: 0.3424 - accuracy: 0.8604 - val_loss: 0.2987 - val_accuracy: 0.8811\n",
      "Epoch 84/100\n",
      "99/99 [==============================] - 0s 2ms/step - loss: 0.3422 - accuracy: 0.8588 - val_loss: 0.2991 - val_accuracy: 0.8867\n",
      "Epoch 85/100\n",
      "99/99 [==============================] - 0s 2ms/step - loss: 0.3419 - accuracy: 0.8568 - val_loss: 0.2969 - val_accuracy: 0.8889\n",
      "Epoch 86/100\n",
      "99/99 [==============================] - 0s 2ms/step - loss: 0.3419 - accuracy: 0.8593 - val_loss: 0.2972 - val_accuracy: 0.8889\n",
      "Epoch 87/100\n",
      "99/99 [==============================] - 0s 2ms/step - loss: 0.3418 - accuracy: 0.8559 - val_loss: 0.2988 - val_accuracy: 0.8833\n",
      "Epoch 88/100\n",
      "99/99 [==============================] - 0s 2ms/step - loss: 0.3417 - accuracy: 0.8583 - val_loss: 0.3000 - val_accuracy: 0.8878\n",
      "Epoch 89/100\n",
      "99/99 [==============================] - 0s 2ms/step - loss: 0.3414 - accuracy: 0.8565 - val_loss: 0.2971 - val_accuracy: 0.8878\n",
      "Epoch 90/100\n",
      "99/99 [==============================] - 0s 2ms/step - loss: 0.3413 - accuracy: 0.8581 - val_loss: 0.3006 - val_accuracy: 0.8900\n",
      "Epoch 91/100\n",
      "99/99 [==============================] - 0s 2ms/step - loss: 0.3406 - accuracy: 0.8579 - val_loss: 0.3008 - val_accuracy: 0.8878\n",
      "Epoch 92/100\n",
      "99/99 [==============================] - 0s 2ms/step - loss: 0.3407 - accuracy: 0.8590 - val_loss: 0.3044 - val_accuracy: 0.8911\n",
      "Epoch 93/100\n",
      "99/99 [==============================] - 0s 2ms/step - loss: 0.3413 - accuracy: 0.8590 - val_loss: 0.2971 - val_accuracy: 0.8833\n",
      "Epoch 94/100\n",
      "99/99 [==============================] - 0s 4ms/step - loss: 0.3421 - accuracy: 0.8580 - val_loss: 0.2994 - val_accuracy: 0.8856\n",
      "Epoch 95/100\n",
      "99/99 [==============================] - 0s 4ms/step - loss: 0.3407 - accuracy: 0.8584 - val_loss: 0.2990 - val_accuracy: 0.8900\n",
      "Epoch 96/100\n",
      "99/99 [==============================] - 0s 2ms/step - loss: 0.3408 - accuracy: 0.8569 - val_loss: 0.2994 - val_accuracy: 0.8833\n",
      "Epoch 97/100\n",
      "99/99 [==============================] - 0s 2ms/step - loss: 0.3416 - accuracy: 0.8573 - val_loss: 0.2975 - val_accuracy: 0.8878\n",
      "Epoch 98/100\n",
      "99/99 [==============================] - 0s 3ms/step - loss: 0.3407 - accuracy: 0.8598 - val_loss: 0.2979 - val_accuracy: 0.8844\n",
      "Epoch 99/100\n",
      "99/99 [==============================] - 0s 2ms/step - loss: 0.3401 - accuracy: 0.8596 - val_loss: 0.2971 - val_accuracy: 0.8911\n",
      "Epoch 100/100\n",
      "99/99 [==============================] - 0s 2ms/step - loss: 0.3392 - accuracy: 0.8601 - val_loss: 0.2951 - val_accuracy: 0.8878\n"
     ]
    },
    {
     "data": {
      "text/plain": [
       "<keras.callbacks.History at 0x1fe2eb02e50>"
      ]
     },
     "execution_count": 37,
     "metadata": {},
     "output_type": "execute_result"
    }
   ],
   "source": [
    "model.fit(x = X_train, y = y_train, validation_split = 0.1, batch_size = 82, epochs = 100, verbose=1)"
   ]
  },
  {
   "cell_type": "code",
   "execution_count": 38,
   "metadata": {},
   "outputs": [
    {
     "data": {
      "text/plain": [
       "[0.34150734543800354, 0.8610000014305115]"
      ]
     },
     "execution_count": 38,
     "metadata": {},
     "output_type": "execute_result"
    }
   ],
   "source": [
    "model.evaluate(X_test, y_test, verbose=0)"
   ]
  },
  {
   "cell_type": "code",
   "execution_count": 39,
   "metadata": {},
   "outputs": [
    {
     "name": "stdout",
     "output_type": "stream",
     "text": [
      "loss :  0.34150734543800354\n",
      "accuracy :  0.8610000014305115\n"
     ]
    }
   ],
   "source": [
    "loss, accuracy = model.evaluate(X_test, y_test, verbose=0)\n",
    "print(\"loss : \", loss)\n",
    "print(\"accuracy : \", accuracy)"
   ]
  },
  {
   "cell_type": "code",
   "execution_count": 40,
   "metadata": {},
   "outputs": [
    {
     "name": "stdout",
     "output_type": "stream",
     "text": [
      "32/32 [==============================] - 0s 1ms/step\n",
      "[[768  28]\n",
      " [111  93]]\n",
      "              precision    recall  f1-score   support\n",
      "\n",
      "           0       0.87      0.96      0.92       796\n",
      "           1       0.77      0.46      0.57       204\n",
      "\n",
      "    accuracy                           0.86      1000\n",
      "   macro avg       0.82      0.71      0.74      1000\n",
      "weighted avg       0.85      0.86      0.85      1000\n",
      "\n"
     ]
    }
   ],
   "source": [
    "y_pred = model.predict(X_test) > 0.5\n",
    "#y_pred = model.predict_classes(X_test) for tf 2.5.0\n",
    "print(confusion_matrix(y_test, y_pred))\n",
    "print(classification_report(y_test, y_pred))"
   ]
  },
  {
   "cell_type": "markdown",
   "metadata": {},
   "source": [
    "## with class_weigth\n",
    "\n",
    "Investigate how the \"class_weight\" hyper-parameter is used in a Neural Network."
   ]
  },
  {
   "cell_type": "markdown",
   "metadata": {},
   "source": [
    "### Create The Model"
   ]
  },
  {
   "cell_type": "code",
   "execution_count": null,
   "metadata": {},
   "outputs": [],
   "source": []
  },
  {
   "cell_type": "markdown",
   "metadata": {},
   "source": [
    "### Evaluate The Model\n",
    "\n",
    "- Plot the model history to observe the changing of metrics\n",
    "- Make prediction to see \"confusion matrix\" and \"classification report\"\n",
    "- Check ROC (Receiver Operating Curve) and AUC (Area Under Curve) for the model"
   ]
  },
  {
   "cell_type": "code",
   "execution_count": null,
   "metadata": {},
   "outputs": [],
   "source": []
  },
  {
   "cell_type": "markdown",
   "metadata": {},
   "source": [
    "## Implementation Different Methods to Develop The Model\n",
    "\n",
    "- Implement the following methods on model creating with \"class_weight\" parameter\n",
    "- Create and evaluate model for each method "
   ]
  },
  {
   "cell_type": "markdown",
   "metadata": {},
   "source": [
    "### Increase The Learning Rate and Observe The Results"
   ]
  },
  {
   "cell_type": "code",
   "execution_count": 139,
   "metadata": {},
   "outputs": [],
   "source": [
    "from tensorflow.keras.optimizers import Adam"
   ]
  },
  {
   "cell_type": "code",
   "execution_count": 42,
   "metadata": {},
   "outputs": [],
   "source": [
    "tf.random.set_seed(42)\n",
    "\n",
    "model = Sequential()\n",
    "\n",
    "model.add(Dense(16, activation = \"relu\", input_dim = X_train.shape[1]))\n",
    "model.add(Dense(8, activation = \"relu\"))\n",
    "model.add(Dense(8, activation = \"relu\"))\n",
    "model.add(Dense(1, activation = \"sigmoid\"))\n",
    "\n",
    "opt = Adam(lr = 0.002)\n",
    "model.compile(optimizer = opt, loss = \"binary_crossentropy\", metrics = [\"accuracy\"])"
   ]
  },
  {
   "cell_type": "code",
   "execution_count": 43,
   "metadata": {},
   "outputs": [
    {
     "name": "stdout",
     "output_type": "stream",
     "text": [
      "Epoch 1/100\n",
      "99/99 [==============================] - 1s 4ms/step - loss: 0.5532 - accuracy: 0.7621 - val_loss: 0.4878 - val_accuracy: 0.7989\n",
      "Epoch 2/100\n",
      "99/99 [==============================] - 0s 2ms/step - loss: 0.4843 - accuracy: 0.7960 - val_loss: 0.4632 - val_accuracy: 0.7989\n",
      "Epoch 3/100\n",
      "99/99 [==============================] - 0s 3ms/step - loss: 0.4628 - accuracy: 0.7983 - val_loss: 0.4328 - val_accuracy: 0.8178\n",
      "Epoch 4/100\n",
      "99/99 [==============================] - 0s 2ms/step - loss: 0.4431 - accuracy: 0.8088 - val_loss: 0.4111 - val_accuracy: 0.8411\n",
      "Epoch 5/100\n",
      "99/99 [==============================] - 0s 2ms/step - loss: 0.4310 - accuracy: 0.8188 - val_loss: 0.4018 - val_accuracy: 0.8389\n",
      "Epoch 6/100\n",
      "99/99 [==============================] - 0s 3ms/step - loss: 0.4203 - accuracy: 0.8215 - val_loss: 0.3871 - val_accuracy: 0.8511\n",
      "Epoch 7/100\n",
      "99/99 [==============================] - 0s 2ms/step - loss: 0.4127 - accuracy: 0.8237 - val_loss: 0.3784 - val_accuracy: 0.8511\n",
      "Epoch 8/100\n",
      "99/99 [==============================] - 0s 2ms/step - loss: 0.4089 - accuracy: 0.8262 - val_loss: 0.3706 - val_accuracy: 0.8533\n",
      "Epoch 9/100\n",
      "99/99 [==============================] - 0s 2ms/step - loss: 0.4037 - accuracy: 0.8280 - val_loss: 0.3648 - val_accuracy: 0.8522\n",
      "Epoch 10/100\n",
      "99/99 [==============================] - 0s 2ms/step - loss: 0.4005 - accuracy: 0.8281 - val_loss: 0.3577 - val_accuracy: 0.8567\n",
      "Epoch 11/100\n",
      "99/99 [==============================] - 0s 2ms/step - loss: 0.3960 - accuracy: 0.8314 - val_loss: 0.3560 - val_accuracy: 0.8589\n",
      "Epoch 12/100\n",
      "99/99 [==============================] - 0s 3ms/step - loss: 0.3947 - accuracy: 0.8336 - val_loss: 0.3562 - val_accuracy: 0.8633\n",
      "Epoch 13/100\n",
      "99/99 [==============================] - 0s 3ms/step - loss: 0.3900 - accuracy: 0.8381 - val_loss: 0.3430 - val_accuracy: 0.8700\n",
      "Epoch 14/100\n",
      "99/99 [==============================] - 0s 2ms/step - loss: 0.3894 - accuracy: 0.8384 - val_loss: 0.3430 - val_accuracy: 0.8711\n",
      "Epoch 15/100\n",
      "99/99 [==============================] - 0s 2ms/step - loss: 0.3839 - accuracy: 0.8386 - val_loss: 0.3339 - val_accuracy: 0.8744\n",
      "Epoch 16/100\n",
      "99/99 [==============================] - 0s 2ms/step - loss: 0.3809 - accuracy: 0.8435 - val_loss: 0.3309 - val_accuracy: 0.8767\n",
      "Epoch 17/100\n",
      "99/99 [==============================] - 0s 2ms/step - loss: 0.3767 - accuracy: 0.8423 - val_loss: 0.3272 - val_accuracy: 0.8800\n",
      "Epoch 18/100\n",
      "99/99 [==============================] - 0s 2ms/step - loss: 0.3752 - accuracy: 0.8442 - val_loss: 0.3283 - val_accuracy: 0.8778\n",
      "Epoch 19/100\n",
      "99/99 [==============================] - 0s 3ms/step - loss: 0.3721 - accuracy: 0.8474 - val_loss: 0.3198 - val_accuracy: 0.8833\n",
      "Epoch 20/100\n",
      "99/99 [==============================] - 0s 2ms/step - loss: 0.3686 - accuracy: 0.8473 - val_loss: 0.3214 - val_accuracy: 0.8800\n",
      "Epoch 21/100\n",
      "99/99 [==============================] - 0s 2ms/step - loss: 0.3643 - accuracy: 0.8520 - val_loss: 0.3156 - val_accuracy: 0.8856\n",
      "Epoch 22/100\n",
      "99/99 [==============================] - 0s 2ms/step - loss: 0.3598 - accuracy: 0.8526 - val_loss: 0.3147 - val_accuracy: 0.8844\n",
      "Epoch 23/100\n",
      "99/99 [==============================] - 0s 2ms/step - loss: 0.3573 - accuracy: 0.8526 - val_loss: 0.3094 - val_accuracy: 0.8844\n",
      "Epoch 24/100\n",
      "99/99 [==============================] - 0s 2ms/step - loss: 0.3554 - accuracy: 0.8557 - val_loss: 0.3075 - val_accuracy: 0.8867\n",
      "Epoch 25/100\n",
      "99/99 [==============================] - 0s 2ms/step - loss: 0.3517 - accuracy: 0.8556 - val_loss: 0.3113 - val_accuracy: 0.8767\n",
      "Epoch 26/100\n",
      "99/99 [==============================] - 0s 2ms/step - loss: 0.3498 - accuracy: 0.8556 - val_loss: 0.3008 - val_accuracy: 0.8822\n",
      "Epoch 27/100\n",
      "99/99 [==============================] - 0s 2ms/step - loss: 0.3490 - accuracy: 0.8554 - val_loss: 0.3061 - val_accuracy: 0.8856\n",
      "Epoch 28/100\n",
      "99/99 [==============================] - 0s 2ms/step - loss: 0.3477 - accuracy: 0.8548 - val_loss: 0.3039 - val_accuracy: 0.8778\n",
      "Epoch 29/100\n",
      "99/99 [==============================] - 0s 2ms/step - loss: 0.3434 - accuracy: 0.8558 - val_loss: 0.3067 - val_accuracy: 0.8889\n",
      "Epoch 30/100\n",
      "99/99 [==============================] - 0s 2ms/step - loss: 0.3427 - accuracy: 0.8556 - val_loss: 0.3004 - val_accuracy: 0.8800\n",
      "Epoch 31/100\n",
      "99/99 [==============================] - 0s 2ms/step - loss: 0.3432 - accuracy: 0.8554 - val_loss: 0.2996 - val_accuracy: 0.8789\n",
      "Epoch 32/100\n",
      "99/99 [==============================] - 0s 2ms/step - loss: 0.3433 - accuracy: 0.8557 - val_loss: 0.3013 - val_accuracy: 0.8856\n",
      "Epoch 33/100\n",
      "99/99 [==============================] - 0s 2ms/step - loss: 0.3416 - accuracy: 0.8558 - val_loss: 0.2973 - val_accuracy: 0.8889\n",
      "Epoch 34/100\n",
      "99/99 [==============================] - 0s 2ms/step - loss: 0.3413 - accuracy: 0.8563 - val_loss: 0.2987 - val_accuracy: 0.8800\n",
      "Epoch 35/100\n",
      "99/99 [==============================] - 0s 2ms/step - loss: 0.3409 - accuracy: 0.8570 - val_loss: 0.2998 - val_accuracy: 0.8856\n",
      "Epoch 36/100\n",
      "99/99 [==============================] - 0s 2ms/step - loss: 0.3422 - accuracy: 0.8558 - val_loss: 0.2974 - val_accuracy: 0.8811\n",
      "Epoch 37/100\n",
      "99/99 [==============================] - 0s 2ms/step - loss: 0.3413 - accuracy: 0.8558 - val_loss: 0.3119 - val_accuracy: 0.8856\n",
      "Epoch 38/100\n",
      "99/99 [==============================] - 0s 2ms/step - loss: 0.3419 - accuracy: 0.8565 - val_loss: 0.2964 - val_accuracy: 0.8822\n",
      "Epoch 39/100\n",
      "99/99 [==============================] - 0s 2ms/step - loss: 0.3395 - accuracy: 0.8580 - val_loss: 0.2929 - val_accuracy: 0.8822\n",
      "Epoch 40/100\n",
      "99/99 [==============================] - 0s 2ms/step - loss: 0.3383 - accuracy: 0.8560 - val_loss: 0.3014 - val_accuracy: 0.8789\n",
      "Epoch 41/100\n",
      "99/99 [==============================] - 0s 2ms/step - loss: 0.3393 - accuracy: 0.8558 - val_loss: 0.2954 - val_accuracy: 0.8822\n",
      "Epoch 42/100\n",
      "99/99 [==============================] - 0s 2ms/step - loss: 0.3390 - accuracy: 0.8573 - val_loss: 0.2950 - val_accuracy: 0.8822\n",
      "Epoch 43/100\n",
      "99/99 [==============================] - 0s 2ms/step - loss: 0.3383 - accuracy: 0.8568 - val_loss: 0.2951 - val_accuracy: 0.8878\n",
      "Epoch 44/100\n",
      "99/99 [==============================] - 0s 2ms/step - loss: 0.3406 - accuracy: 0.8541 - val_loss: 0.3003 - val_accuracy: 0.8800\n",
      "Epoch 45/100\n",
      "99/99 [==============================] - 0s 2ms/step - loss: 0.3371 - accuracy: 0.8598 - val_loss: 0.3017 - val_accuracy: 0.8800\n",
      "Epoch 46/100\n",
      "99/99 [==============================] - 0s 2ms/step - loss: 0.3389 - accuracy: 0.8581 - val_loss: 0.3012 - val_accuracy: 0.8800\n",
      "Epoch 47/100\n",
      "99/99 [==============================] - 0s 2ms/step - loss: 0.3377 - accuracy: 0.8577 - val_loss: 0.2959 - val_accuracy: 0.8867\n",
      "Epoch 48/100\n",
      "99/99 [==============================] - 0s 2ms/step - loss: 0.3372 - accuracy: 0.8586 - val_loss: 0.3015 - val_accuracy: 0.8822\n",
      "Epoch 49/100\n",
      "99/99 [==============================] - 0s 2ms/step - loss: 0.3378 - accuracy: 0.8593 - val_loss: 0.2968 - val_accuracy: 0.8856\n",
      "Epoch 50/100\n",
      "99/99 [==============================] - 0s 2ms/step - loss: 0.3363 - accuracy: 0.8564 - val_loss: 0.3034 - val_accuracy: 0.8867\n",
      "Epoch 51/100\n",
      "99/99 [==============================] - 0s 3ms/step - loss: 0.3393 - accuracy: 0.8595 - val_loss: 0.2977 - val_accuracy: 0.8822\n",
      "Epoch 52/100\n",
      "99/99 [==============================] - 0s 3ms/step - loss: 0.3359 - accuracy: 0.8598 - val_loss: 0.2967 - val_accuracy: 0.8944\n",
      "Epoch 53/100\n",
      "99/99 [==============================] - 0s 2ms/step - loss: 0.3367 - accuracy: 0.8596 - val_loss: 0.2948 - val_accuracy: 0.8867\n",
      "Epoch 54/100\n",
      "99/99 [==============================] - 0s 2ms/step - loss: 0.3355 - accuracy: 0.8588 - val_loss: 0.2912 - val_accuracy: 0.8889\n",
      "Epoch 55/100\n",
      "99/99 [==============================] - 0s 2ms/step - loss: 0.3361 - accuracy: 0.8584 - val_loss: 0.2963 - val_accuracy: 0.8911\n",
      "Epoch 56/100\n",
      "99/99 [==============================] - 0s 2ms/step - loss: 0.3359 - accuracy: 0.8611 - val_loss: 0.2980 - val_accuracy: 0.8933\n",
      "Epoch 57/100\n",
      "99/99 [==============================] - 0s 2ms/step - loss: 0.3362 - accuracy: 0.8598 - val_loss: 0.2943 - val_accuracy: 0.8878\n",
      "Epoch 58/100\n",
      "99/99 [==============================] - 0s 2ms/step - loss: 0.3370 - accuracy: 0.8580 - val_loss: 0.2983 - val_accuracy: 0.8922\n",
      "Epoch 59/100\n",
      "99/99 [==============================] - 0s 2ms/step - loss: 0.3356 - accuracy: 0.8601 - val_loss: 0.2954 - val_accuracy: 0.8878\n",
      "Epoch 60/100\n",
      "99/99 [==============================] - 0s 2ms/step - loss: 0.3348 - accuracy: 0.8606 - val_loss: 0.2946 - val_accuracy: 0.8878\n",
      "Epoch 61/100\n",
      "99/99 [==============================] - 0s 2ms/step - loss: 0.3342 - accuracy: 0.8596 - val_loss: 0.2954 - val_accuracy: 0.8922\n",
      "Epoch 62/100\n",
      "99/99 [==============================] - 0s 2ms/step - loss: 0.3339 - accuracy: 0.8615 - val_loss: 0.3014 - val_accuracy: 0.8856\n",
      "Epoch 63/100\n",
      "99/99 [==============================] - 0s 2ms/step - loss: 0.3341 - accuracy: 0.8616 - val_loss: 0.2980 - val_accuracy: 0.8922\n",
      "Epoch 64/100\n",
      "99/99 [==============================] - 0s 2ms/step - loss: 0.3372 - accuracy: 0.8601 - val_loss: 0.2926 - val_accuracy: 0.8933\n",
      "Epoch 65/100\n",
      "99/99 [==============================] - 0s 2ms/step - loss: 0.3333 - accuracy: 0.8617 - val_loss: 0.2914 - val_accuracy: 0.8856\n",
      "Epoch 66/100\n",
      "99/99 [==============================] - 0s 2ms/step - loss: 0.3342 - accuracy: 0.8614 - val_loss: 0.2982 - val_accuracy: 0.8900\n",
      "Epoch 67/100\n",
      "99/99 [==============================] - 0s 2ms/step - loss: 0.3344 - accuracy: 0.8611 - val_loss: 0.2936 - val_accuracy: 0.8822\n",
      "Epoch 68/100\n",
      "99/99 [==============================] - 0s 2ms/step - loss: 0.3338 - accuracy: 0.8594 - val_loss: 0.2915 - val_accuracy: 0.8911\n",
      "Epoch 69/100\n",
      "99/99 [==============================] - 0s 2ms/step - loss: 0.3327 - accuracy: 0.8600 - val_loss: 0.2971 - val_accuracy: 0.8900\n",
      "Epoch 70/100\n",
      "99/99 [==============================] - 0s 2ms/step - loss: 0.3335 - accuracy: 0.8630 - val_loss: 0.2939 - val_accuracy: 0.8900\n",
      "Epoch 71/100\n",
      "99/99 [==============================] - 0s 2ms/step - loss: 0.3341 - accuracy: 0.8593 - val_loss: 0.2943 - val_accuracy: 0.8833\n",
      "Epoch 72/100\n",
      "99/99 [==============================] - 0s 2ms/step - loss: 0.3322 - accuracy: 0.8612 - val_loss: 0.2964 - val_accuracy: 0.8844\n",
      "Epoch 73/100\n",
      "99/99 [==============================] - 0s 2ms/step - loss: 0.3345 - accuracy: 0.8610 - val_loss: 0.2971 - val_accuracy: 0.8822\n",
      "Epoch 74/100\n",
      "99/99 [==============================] - 0s 2ms/step - loss: 0.3332 - accuracy: 0.8604 - val_loss: 0.2963 - val_accuracy: 0.8856\n",
      "Epoch 75/100\n",
      "99/99 [==============================] - 0s 2ms/step - loss: 0.3343 - accuracy: 0.8611 - val_loss: 0.2936 - val_accuracy: 0.8822\n",
      "Epoch 76/100\n",
      "99/99 [==============================] - 0s 2ms/step - loss: 0.3322 - accuracy: 0.8607 - val_loss: 0.2909 - val_accuracy: 0.8911\n",
      "Epoch 77/100\n",
      "99/99 [==============================] - 0s 2ms/step - loss: 0.3322 - accuracy: 0.8617 - val_loss: 0.2966 - val_accuracy: 0.8856\n",
      "Epoch 78/100\n",
      "99/99 [==============================] - 0s 2ms/step - loss: 0.3333 - accuracy: 0.8622 - val_loss: 0.2940 - val_accuracy: 0.8911\n",
      "Epoch 79/100\n",
      "99/99 [==============================] - 0s 2ms/step - loss: 0.3333 - accuracy: 0.8590 - val_loss: 0.2913 - val_accuracy: 0.8933\n",
      "Epoch 80/100\n",
      "99/99 [==============================] - 0s 2ms/step - loss: 0.3326 - accuracy: 0.8593 - val_loss: 0.2940 - val_accuracy: 0.8867\n",
      "Epoch 81/100\n",
      "99/99 [==============================] - 0s 2ms/step - loss: 0.3331 - accuracy: 0.8606 - val_loss: 0.3030 - val_accuracy: 0.8767\n",
      "Epoch 82/100\n",
      "99/99 [==============================] - 0s 2ms/step - loss: 0.3305 - accuracy: 0.8589 - val_loss: 0.2930 - val_accuracy: 0.8844\n",
      "Epoch 83/100\n",
      "99/99 [==============================] - 0s 2ms/step - loss: 0.3309 - accuracy: 0.8630 - val_loss: 0.2928 - val_accuracy: 0.8922\n",
      "Epoch 84/100\n",
      "99/99 [==============================] - 0s 2ms/step - loss: 0.3319 - accuracy: 0.8617 - val_loss: 0.2970 - val_accuracy: 0.8911\n",
      "Epoch 85/100\n",
      "99/99 [==============================] - 0s 2ms/step - loss: 0.3309 - accuracy: 0.8602 - val_loss: 0.2963 - val_accuracy: 0.8900\n",
      "Epoch 86/100\n",
      "99/99 [==============================] - 0s 2ms/step - loss: 0.3314 - accuracy: 0.8609 - val_loss: 0.2882 - val_accuracy: 0.8922\n",
      "Epoch 87/100\n",
      "99/99 [==============================] - 0s 2ms/step - loss: 0.3318 - accuracy: 0.8605 - val_loss: 0.2952 - val_accuracy: 0.8844\n",
      "Epoch 88/100\n",
      "99/99 [==============================] - 0s 2ms/step - loss: 0.3315 - accuracy: 0.8619 - val_loss: 0.2924 - val_accuracy: 0.8878\n",
      "Epoch 89/100\n",
      "99/99 [==============================] - 0s 2ms/step - loss: 0.3310 - accuracy: 0.8604 - val_loss: 0.2929 - val_accuracy: 0.8911\n",
      "Epoch 90/100\n",
      "99/99 [==============================] - 0s 2ms/step - loss: 0.3316 - accuracy: 0.8601 - val_loss: 0.2958 - val_accuracy: 0.8878\n",
      "Epoch 91/100\n",
      "99/99 [==============================] - 0s 2ms/step - loss: 0.3299 - accuracy: 0.8619 - val_loss: 0.2985 - val_accuracy: 0.8856\n",
      "Epoch 92/100\n",
      "99/99 [==============================] - 0s 3ms/step - loss: 0.3309 - accuracy: 0.8600 - val_loss: 0.3029 - val_accuracy: 0.8900\n",
      "Epoch 93/100\n",
      "99/99 [==============================] - 0s 3ms/step - loss: 0.3318 - accuracy: 0.8625 - val_loss: 0.2899 - val_accuracy: 0.8922\n",
      "Epoch 94/100\n",
      "99/99 [==============================] - 0s 2ms/step - loss: 0.3298 - accuracy: 0.8605 - val_loss: 0.3058 - val_accuracy: 0.8856\n",
      "Epoch 95/100\n",
      "99/99 [==============================] - 0s 2ms/step - loss: 0.3306 - accuracy: 0.8617 - val_loss: 0.2980 - val_accuracy: 0.8856\n",
      "Epoch 96/100\n",
      "99/99 [==============================] - 0s 2ms/step - loss: 0.3310 - accuracy: 0.8599 - val_loss: 0.2955 - val_accuracy: 0.8856\n",
      "Epoch 97/100\n",
      "99/99 [==============================] - 0s 2ms/step - loss: 0.3326 - accuracy: 0.8598 - val_loss: 0.2920 - val_accuracy: 0.8856\n",
      "Epoch 98/100\n",
      "99/99 [==============================] - 0s 2ms/step - loss: 0.3295 - accuracy: 0.8628 - val_loss: 0.3047 - val_accuracy: 0.8778\n",
      "Epoch 99/100\n",
      "99/99 [==============================] - 0s 2ms/step - loss: 0.3302 - accuracy: 0.8635 - val_loss: 0.2948 - val_accuracy: 0.8867\n",
      "Epoch 100/100\n",
      "99/99 [==============================] - 0s 2ms/step - loss: 0.3293 - accuracy: 0.8633 - val_loss: 0.2919 - val_accuracy: 0.8878\n"
     ]
    },
    {
     "data": {
      "text/plain": [
       "<keras.callbacks.History at 0x1fe395c2b20>"
      ]
     },
     "execution_count": 43,
     "metadata": {},
     "output_type": "execute_result"
    }
   ],
   "source": [
    "model.fit(x = X_train, y = y_train, validation_split = 0.1, batch_size = 82, epochs = 100, verbose=1)"
   ]
  },
  {
   "cell_type": "code",
   "execution_count": 44,
   "metadata": {},
   "outputs": [
    {
     "name": "stdout",
     "output_type": "stream",
     "text": [
      "loss :  0.33873507380485535\n",
      "accuracy :  0.8539999723434448\n"
     ]
    }
   ],
   "source": [
    "loss, accuracy = model.evaluate(X_test, y_test, verbose=0)\n",
    "print(\"loss : \", loss)\n",
    "print(\"accuracy : \", accuracy)"
   ]
  },
  {
   "cell_type": "code",
   "execution_count": 45,
   "metadata": {},
   "outputs": [
    {
     "name": "stdout",
     "output_type": "stream",
     "text": [
      "32/32 [==============================] - 0s 1ms/step\n",
      "[[766  30]\n",
      " [116  88]]\n",
      "              precision    recall  f1-score   support\n",
      "\n",
      "           0       0.87      0.96      0.91       796\n",
      "           1       0.75      0.43      0.55       204\n",
      "\n",
      "    accuracy                           0.85      1000\n",
      "   macro avg       0.81      0.70      0.73      1000\n",
      "weighted avg       0.84      0.85      0.84      1000\n",
      "\n"
     ]
    }
   ],
   "source": [
    "y_pred = model.predict(X_test) > 0.5\n",
    "#y_pred = model.predict_classes(X_test) for tf 2.5.0\n",
    "print(confusion_matrix(y_test, y_pred))\n",
    "print(classification_report(y_test, y_pred))"
   ]
  },
  {
   "cell_type": "markdown",
   "metadata": {},
   "source": [
    "### Add Dropout Layer"
   ]
  },
  {
   "cell_type": "code",
   "execution_count": 46,
   "metadata": {},
   "outputs": [],
   "source": [
    "from tensorflow.keras.layers import Dropout"
   ]
  },
  {
   "cell_type": "code",
   "execution_count": 47,
   "metadata": {},
   "outputs": [],
   "source": [
    "tf.random.set_seed(42)\n",
    "\n",
    "model = Sequential()\n",
    "\n",
    "model.add(Dense(16, activation=\"relu\", input_dim = X_train.shape[1]))\n",
    "model.add(Dropout(0.5))\n",
    "\n",
    "model.add(Dense(16, activation=\"relu\", input_dim = X_train.shape[1]))\n",
    "model.add(Dropout(0.5))\n",
    "\n",
    "model.add(Dense(8, activation=\"relu\"))\n",
    "model.add(Dropout(0.5))\n",
    "\n",
    "model.add(Dense(8, activation=\"relu\"))\n",
    "model.add(Dropout(0.5))\n",
    "\n",
    "model.add(Dense(1, activation=\"sigmoid\"))\n",
    "\n",
    "opt = Adam(lr = 0.002)\n",
    "model.compile(optimizer = opt, loss = \"binary_crossentropy\", metrics = [\"accuracy\"])"
   ]
  },
  {
   "cell_type": "code",
   "execution_count": 48,
   "metadata": {},
   "outputs": [
    {
     "name": "stdout",
     "output_type": "stream",
     "text": [
      "Epoch 1/100\n",
      "99/99 [==============================] - 1s 4ms/step - loss: 0.6214 - accuracy: 0.7298 - val_loss: 0.5211 - val_accuracy: 0.7989\n",
      "Epoch 2/100\n",
      "99/99 [==============================] - 0s 3ms/step - loss: 0.5489 - accuracy: 0.7943 - val_loss: 0.5087 - val_accuracy: 0.7989\n",
      "Epoch 3/100\n",
      "99/99 [==============================] - 0s 2ms/step - loss: 0.5300 - accuracy: 0.7960 - val_loss: 0.5006 - val_accuracy: 0.7989\n",
      "Epoch 4/100\n",
      "99/99 [==============================] - 0s 2ms/step - loss: 0.5223 - accuracy: 0.7960 - val_loss: 0.4949 - val_accuracy: 0.7989\n",
      "Epoch 5/100\n",
      "99/99 [==============================] - 0s 2ms/step - loss: 0.5176 - accuracy: 0.7960 - val_loss: 0.4960 - val_accuracy: 0.7989\n",
      "Epoch 6/100\n",
      "99/99 [==============================] - 0s 2ms/step - loss: 0.5129 - accuracy: 0.7960 - val_loss: 0.4900 - val_accuracy: 0.7989\n",
      "Epoch 7/100\n",
      "99/99 [==============================] - 0s 2ms/step - loss: 0.5124 - accuracy: 0.7960 - val_loss: 0.4884 - val_accuracy: 0.7989\n",
      "Epoch 8/100\n",
      "99/99 [==============================] - 0s 2ms/step - loss: 0.5090 - accuracy: 0.7960 - val_loss: 0.4841 - val_accuracy: 0.7989\n",
      "Epoch 9/100\n",
      "99/99 [==============================] - 0s 2ms/step - loss: 0.5030 - accuracy: 0.7959 - val_loss: 0.4797 - val_accuracy: 0.7989\n",
      "Epoch 10/100\n",
      "99/99 [==============================] - 0s 2ms/step - loss: 0.5017 - accuracy: 0.7960 - val_loss: 0.4761 - val_accuracy: 0.7989\n",
      "Epoch 11/100\n",
      "99/99 [==============================] - 0s 2ms/step - loss: 0.4960 - accuracy: 0.7962 - val_loss: 0.4596 - val_accuracy: 0.7989\n",
      "Epoch 12/100\n",
      "99/99 [==============================] - 0s 2ms/step - loss: 0.4932 - accuracy: 0.7958 - val_loss: 0.4622 - val_accuracy: 0.7989\n",
      "Epoch 13/100\n",
      "99/99 [==============================] - 0s 3ms/step - loss: 0.4852 - accuracy: 0.7979 - val_loss: 0.4481 - val_accuracy: 0.7989\n",
      "Epoch 14/100\n",
      "99/99 [==============================] - 0s 2ms/step - loss: 0.4823 - accuracy: 0.7975 - val_loss: 0.4438 - val_accuracy: 0.7989\n",
      "Epoch 15/100\n",
      "99/99 [==============================] - 0s 2ms/step - loss: 0.4804 - accuracy: 0.7963 - val_loss: 0.4447 - val_accuracy: 0.7989\n",
      "Epoch 16/100\n",
      "99/99 [==============================] - 0s 2ms/step - loss: 0.4802 - accuracy: 0.7979 - val_loss: 0.4412 - val_accuracy: 0.7989\n",
      "Epoch 17/100\n",
      "99/99 [==============================] - 0s 2ms/step - loss: 0.4804 - accuracy: 0.7978 - val_loss: 0.4409 - val_accuracy: 0.7989\n",
      "Epoch 18/100\n",
      "99/99 [==============================] - 0s 3ms/step - loss: 0.4755 - accuracy: 0.7991 - val_loss: 0.4337 - val_accuracy: 0.7989\n",
      "Epoch 19/100\n",
      "99/99 [==============================] - 0s 3ms/step - loss: 0.4715 - accuracy: 0.7978 - val_loss: 0.4309 - val_accuracy: 0.7989\n",
      "Epoch 20/100\n",
      "99/99 [==============================] - 0s 2ms/step - loss: 0.4739 - accuracy: 0.7968 - val_loss: 0.4382 - val_accuracy: 0.7989\n",
      "Epoch 21/100\n",
      "99/99 [==============================] - 0s 2ms/step - loss: 0.4710 - accuracy: 0.7973 - val_loss: 0.4351 - val_accuracy: 0.7989\n",
      "Epoch 22/100\n",
      "99/99 [==============================] - 0s 2ms/step - loss: 0.4643 - accuracy: 0.8026 - val_loss: 0.4190 - val_accuracy: 0.7989\n",
      "Epoch 23/100\n",
      "99/99 [==============================] - 0s 2ms/step - loss: 0.4619 - accuracy: 0.8002 - val_loss: 0.4121 - val_accuracy: 0.7989\n",
      "Epoch 24/100\n",
      "99/99 [==============================] - 0s 2ms/step - loss: 0.4655 - accuracy: 0.8011 - val_loss: 0.4226 - val_accuracy: 0.7989\n",
      "Epoch 25/100\n",
      "99/99 [==============================] - 0s 2ms/step - loss: 0.4678 - accuracy: 0.8010 - val_loss: 0.4209 - val_accuracy: 0.7989\n",
      "Epoch 26/100\n",
      "99/99 [==============================] - 0s 2ms/step - loss: 0.4659 - accuracy: 0.8014 - val_loss: 0.4170 - val_accuracy: 0.7989\n",
      "Epoch 27/100\n",
      "99/99 [==============================] - 0s 2ms/step - loss: 0.4623 - accuracy: 0.8021 - val_loss: 0.4212 - val_accuracy: 0.7989\n",
      "Epoch 28/100\n",
      "99/99 [==============================] - 0s 2ms/step - loss: 0.4593 - accuracy: 0.8038 - val_loss: 0.4109 - val_accuracy: 0.8000\n",
      "Epoch 29/100\n",
      "99/99 [==============================] - 0s 2ms/step - loss: 0.4580 - accuracy: 0.8052 - val_loss: 0.4026 - val_accuracy: 0.8022\n",
      "Epoch 30/100\n",
      "99/99 [==============================] - 0s 2ms/step - loss: 0.4579 - accuracy: 0.8056 - val_loss: 0.4047 - val_accuracy: 0.8056\n",
      "Epoch 31/100\n",
      "99/99 [==============================] - 0s 2ms/step - loss: 0.4565 - accuracy: 0.8033 - val_loss: 0.3990 - val_accuracy: 0.8056\n",
      "Epoch 32/100\n",
      "99/99 [==============================] - 0s 2ms/step - loss: 0.4577 - accuracy: 0.8019 - val_loss: 0.3971 - val_accuracy: 0.8033\n",
      "Epoch 33/100\n",
      "99/99 [==============================] - 0s 2ms/step - loss: 0.4474 - accuracy: 0.8088 - val_loss: 0.3949 - val_accuracy: 0.8067\n",
      "Epoch 34/100\n",
      "99/99 [==============================] - 0s 2ms/step - loss: 0.4501 - accuracy: 0.8075 - val_loss: 0.3925 - val_accuracy: 0.8056\n",
      "Epoch 35/100\n",
      "99/99 [==============================] - 0s 2ms/step - loss: 0.4493 - accuracy: 0.8084 - val_loss: 0.3937 - val_accuracy: 0.8156\n",
      "Epoch 36/100\n",
      "99/99 [==============================] - 0s 2ms/step - loss: 0.4506 - accuracy: 0.8064 - val_loss: 0.3826 - val_accuracy: 0.8356\n",
      "Epoch 37/100\n",
      "99/99 [==============================] - 0s 2ms/step - loss: 0.4440 - accuracy: 0.8094 - val_loss: 0.3704 - val_accuracy: 0.8367\n",
      "Epoch 38/100\n",
      "99/99 [==============================] - 0s 2ms/step - loss: 0.4487 - accuracy: 0.8079 - val_loss: 0.3824 - val_accuracy: 0.8233\n",
      "Epoch 39/100\n",
      "99/99 [==============================] - 0s 2ms/step - loss: 0.4481 - accuracy: 0.8143 - val_loss: 0.3711 - val_accuracy: 0.8400\n",
      "Epoch 40/100\n",
      "99/99 [==============================] - 0s 3ms/step - loss: 0.4474 - accuracy: 0.8106 - val_loss: 0.3736 - val_accuracy: 0.8456\n",
      "Epoch 41/100\n",
      "99/99 [==============================] - 0s 2ms/step - loss: 0.4389 - accuracy: 0.8136 - val_loss: 0.3619 - val_accuracy: 0.8611\n",
      "Epoch 42/100\n",
      "99/99 [==============================] - 0s 2ms/step - loss: 0.4372 - accuracy: 0.8164 - val_loss: 0.3681 - val_accuracy: 0.8567\n",
      "Epoch 43/100\n",
      "99/99 [==============================] - 0s 2ms/step - loss: 0.4428 - accuracy: 0.8184 - val_loss: 0.3551 - val_accuracy: 0.8622\n",
      "Epoch 44/100\n",
      "99/99 [==============================] - 0s 2ms/step - loss: 0.4439 - accuracy: 0.8164 - val_loss: 0.3630 - val_accuracy: 0.8644\n",
      "Epoch 45/100\n",
      "99/99 [==============================] - 0s 2ms/step - loss: 0.4350 - accuracy: 0.8220 - val_loss: 0.3630 - val_accuracy: 0.8533\n",
      "Epoch 46/100\n",
      "99/99 [==============================] - 0s 2ms/step - loss: 0.4392 - accuracy: 0.8179 - val_loss: 0.3558 - val_accuracy: 0.8622\n",
      "Epoch 47/100\n",
      "99/99 [==============================] - 0s 2ms/step - loss: 0.4412 - accuracy: 0.8188 - val_loss: 0.3749 - val_accuracy: 0.8389\n",
      "Epoch 48/100\n",
      "99/99 [==============================] - 0s 2ms/step - loss: 0.4347 - accuracy: 0.8186 - val_loss: 0.3537 - val_accuracy: 0.8700\n",
      "Epoch 49/100\n",
      "99/99 [==============================] - 0s 3ms/step - loss: 0.4358 - accuracy: 0.8170 - val_loss: 0.3498 - val_accuracy: 0.8733\n",
      "Epoch 50/100\n",
      "99/99 [==============================] - 0s 3ms/step - loss: 0.4360 - accuracy: 0.8181 - val_loss: 0.3493 - val_accuracy: 0.8667\n",
      "Epoch 51/100\n",
      "99/99 [==============================] - 0s 3ms/step - loss: 0.4408 - accuracy: 0.8159 - val_loss: 0.3564 - val_accuracy: 0.8678\n",
      "Epoch 52/100\n",
      "99/99 [==============================] - 0s 3ms/step - loss: 0.4369 - accuracy: 0.8178 - val_loss: 0.3485 - val_accuracy: 0.8656\n",
      "Epoch 53/100\n",
      "99/99 [==============================] - 0s 2ms/step - loss: 0.4383 - accuracy: 0.8184 - val_loss: 0.3564 - val_accuracy: 0.8622\n",
      "Epoch 54/100\n",
      "99/99 [==============================] - 0s 2ms/step - loss: 0.4332 - accuracy: 0.8186 - val_loss: 0.3440 - val_accuracy: 0.8689\n",
      "Epoch 55/100\n",
      "99/99 [==============================] - 0s 2ms/step - loss: 0.4396 - accuracy: 0.8179 - val_loss: 0.3543 - val_accuracy: 0.8611\n",
      "Epoch 56/100\n",
      "99/99 [==============================] - 0s 2ms/step - loss: 0.4337 - accuracy: 0.8205 - val_loss: 0.3643 - val_accuracy: 0.8622\n",
      "Epoch 57/100\n",
      "99/99 [==============================] - 0s 2ms/step - loss: 0.4362 - accuracy: 0.8206 - val_loss: 0.3580 - val_accuracy: 0.8622\n",
      "Epoch 58/100\n",
      "99/99 [==============================] - 0s 2ms/step - loss: 0.4308 - accuracy: 0.8202 - val_loss: 0.3400 - val_accuracy: 0.8778\n",
      "Epoch 59/100\n",
      "99/99 [==============================] - 0s 2ms/step - loss: 0.4371 - accuracy: 0.8198 - val_loss: 0.3644 - val_accuracy: 0.8544\n",
      "Epoch 60/100\n",
      "99/99 [==============================] - 0s 2ms/step - loss: 0.4304 - accuracy: 0.8236 - val_loss: 0.3440 - val_accuracy: 0.8667\n",
      "Epoch 61/100\n",
      "99/99 [==============================] - 0s 2ms/step - loss: 0.4336 - accuracy: 0.8211 - val_loss: 0.3538 - val_accuracy: 0.8533\n",
      "Epoch 62/100\n",
      "99/99 [==============================] - 0s 3ms/step - loss: 0.4368 - accuracy: 0.8177 - val_loss: 0.3601 - val_accuracy: 0.8611\n",
      "Epoch 63/100\n",
      "99/99 [==============================] - 0s 2ms/step - loss: 0.4297 - accuracy: 0.8199 - val_loss: 0.3577 - val_accuracy: 0.8578\n",
      "Epoch 64/100\n",
      "99/99 [==============================] - 0s 2ms/step - loss: 0.4360 - accuracy: 0.8165 - val_loss: 0.3578 - val_accuracy: 0.8589\n",
      "Epoch 65/100\n",
      "99/99 [==============================] - 0s 2ms/step - loss: 0.4364 - accuracy: 0.8177 - val_loss: 0.3552 - val_accuracy: 0.8533\n",
      "Epoch 66/100\n",
      "99/99 [==============================] - 0s 2ms/step - loss: 0.4318 - accuracy: 0.8204 - val_loss: 0.3494 - val_accuracy: 0.8622\n",
      "Epoch 67/100\n",
      "99/99 [==============================] - 0s 2ms/step - loss: 0.4345 - accuracy: 0.8188 - val_loss: 0.3537 - val_accuracy: 0.8600\n",
      "Epoch 68/100\n",
      "99/99 [==============================] - 0s 2ms/step - loss: 0.4371 - accuracy: 0.8217 - val_loss: 0.3464 - val_accuracy: 0.8667\n",
      "Epoch 69/100\n",
      "99/99 [==============================] - 0s 3ms/step - loss: 0.4318 - accuracy: 0.8180 - val_loss: 0.3526 - val_accuracy: 0.8589\n",
      "Epoch 70/100\n",
      "99/99 [==============================] - 0s 2ms/step - loss: 0.4347 - accuracy: 0.8228 - val_loss: 0.3568 - val_accuracy: 0.8611\n",
      "Epoch 71/100\n",
      "99/99 [==============================] - 0s 3ms/step - loss: 0.4344 - accuracy: 0.8167 - val_loss: 0.3448 - val_accuracy: 0.8678\n",
      "Epoch 72/100\n",
      "99/99 [==============================] - 0s 2ms/step - loss: 0.4328 - accuracy: 0.8173 - val_loss: 0.3551 - val_accuracy: 0.8622\n",
      "Epoch 73/100\n",
      "99/99 [==============================] - 0s 2ms/step - loss: 0.4309 - accuracy: 0.8181 - val_loss: 0.3448 - val_accuracy: 0.8667\n",
      "Epoch 74/100\n",
      "99/99 [==============================] - 0s 3ms/step - loss: 0.4355 - accuracy: 0.8179 - val_loss: 0.3503 - val_accuracy: 0.8633\n",
      "Epoch 75/100\n",
      "99/99 [==============================] - 0s 2ms/step - loss: 0.4290 - accuracy: 0.8238 - val_loss: 0.3454 - val_accuracy: 0.8667\n",
      "Epoch 76/100\n",
      "99/99 [==============================] - 0s 2ms/step - loss: 0.4394 - accuracy: 0.8159 - val_loss: 0.3635 - val_accuracy: 0.8611\n",
      "Epoch 77/100\n",
      "99/99 [==============================] - 0s 4ms/step - loss: 0.4289 - accuracy: 0.8238 - val_loss: 0.3458 - val_accuracy: 0.8656\n",
      "Epoch 78/100\n",
      "99/99 [==============================] - 0s 3ms/step - loss: 0.4308 - accuracy: 0.8217 - val_loss: 0.3406 - val_accuracy: 0.8722\n",
      "Epoch 79/100\n",
      "99/99 [==============================] - 0s 2ms/step - loss: 0.4314 - accuracy: 0.8194 - val_loss: 0.3419 - val_accuracy: 0.8711\n",
      "Epoch 80/100\n",
      "99/99 [==============================] - 0s 2ms/step - loss: 0.4326 - accuracy: 0.8217 - val_loss: 0.3509 - val_accuracy: 0.8556\n",
      "Epoch 81/100\n",
      "99/99 [==============================] - 0s 2ms/step - loss: 0.4345 - accuracy: 0.8212 - val_loss: 0.3497 - val_accuracy: 0.8644\n",
      "Epoch 82/100\n",
      "99/99 [==============================] - 0s 2ms/step - loss: 0.4348 - accuracy: 0.8184 - val_loss: 0.3448 - val_accuracy: 0.8589\n",
      "Epoch 83/100\n",
      "99/99 [==============================] - 0s 2ms/step - loss: 0.4268 - accuracy: 0.8179 - val_loss: 0.3464 - val_accuracy: 0.8644\n",
      "Epoch 84/100\n",
      "99/99 [==============================] - 0s 2ms/step - loss: 0.4321 - accuracy: 0.8189 - val_loss: 0.3382 - val_accuracy: 0.8733\n",
      "Epoch 85/100\n",
      "99/99 [==============================] - 0s 2ms/step - loss: 0.4316 - accuracy: 0.8183 - val_loss: 0.3453 - val_accuracy: 0.8689\n",
      "Epoch 86/100\n",
      "99/99 [==============================] - 0s 2ms/step - loss: 0.4402 - accuracy: 0.8180 - val_loss: 0.3464 - val_accuracy: 0.8711\n",
      "Epoch 87/100\n",
      "99/99 [==============================] - 0s 2ms/step - loss: 0.4317 - accuracy: 0.8168 - val_loss: 0.3450 - val_accuracy: 0.8667\n",
      "Epoch 88/100\n",
      "99/99 [==============================] - 0s 2ms/step - loss: 0.4316 - accuracy: 0.8211 - val_loss: 0.3516 - val_accuracy: 0.8611\n",
      "Epoch 89/100\n",
      "99/99 [==============================] - 0s 2ms/step - loss: 0.4346 - accuracy: 0.8178 - val_loss: 0.3427 - val_accuracy: 0.8733\n",
      "Epoch 90/100\n",
      "99/99 [==============================] - 0s 2ms/step - loss: 0.4286 - accuracy: 0.8179 - val_loss: 0.3464 - val_accuracy: 0.8544\n",
      "Epoch 91/100\n",
      "99/99 [==============================] - 0s 2ms/step - loss: 0.4318 - accuracy: 0.8207 - val_loss: 0.3443 - val_accuracy: 0.8656\n",
      "Epoch 92/100\n",
      "99/99 [==============================] - 0s 2ms/step - loss: 0.4306 - accuracy: 0.8195 - val_loss: 0.3427 - val_accuracy: 0.8711\n",
      "Epoch 93/100\n",
      "99/99 [==============================] - 0s 2ms/step - loss: 0.4332 - accuracy: 0.8188 - val_loss: 0.3528 - val_accuracy: 0.8611\n",
      "Epoch 94/100\n",
      "99/99 [==============================] - 0s 2ms/step - loss: 0.4290 - accuracy: 0.8222 - val_loss: 0.3495 - val_accuracy: 0.8711\n",
      "Epoch 95/100\n",
      "99/99 [==============================] - 0s 3ms/step - loss: 0.4342 - accuracy: 0.8191 - val_loss: 0.3485 - val_accuracy: 0.8611\n",
      "Epoch 96/100\n",
      "99/99 [==============================] - 0s 3ms/step - loss: 0.4295 - accuracy: 0.8194 - val_loss: 0.3469 - val_accuracy: 0.8622\n",
      "Epoch 97/100\n",
      "99/99 [==============================] - 0s 2ms/step - loss: 0.4360 - accuracy: 0.8198 - val_loss: 0.3533 - val_accuracy: 0.8611\n",
      "Epoch 98/100\n",
      "99/99 [==============================] - 0s 2ms/step - loss: 0.4347 - accuracy: 0.8198 - val_loss: 0.3457 - val_accuracy: 0.8633\n",
      "Epoch 99/100\n",
      "99/99 [==============================] - 0s 3ms/step - loss: 0.4280 - accuracy: 0.8235 - val_loss: 0.3425 - val_accuracy: 0.8700\n",
      "Epoch 100/100\n",
      "99/99 [==============================] - 0s 2ms/step - loss: 0.4280 - accuracy: 0.8220 - val_loss: 0.3534 - val_accuracy: 0.8578\n"
     ]
    },
    {
     "data": {
      "text/plain": [
       "<keras.callbacks.History at 0x1fe3b9c6be0>"
      ]
     },
     "execution_count": 48,
     "metadata": {},
     "output_type": "execute_result"
    }
   ],
   "source": [
    "model.fit(x = X_train, y = y_train, validation_split = 0.1, batch_size = 82, epochs = 100, verbose = 1)"
   ]
  },
  {
   "cell_type": "code",
   "execution_count": 49,
   "metadata": {},
   "outputs": [
    {
     "name": "stdout",
     "output_type": "stream",
     "text": [
      "loss :  0.3857128918170929\n",
      "accuracy :  0.8330000042915344\n"
     ]
    }
   ],
   "source": [
    "loss, accuracy = model.evaluate(X_test, y_test, verbose=0)\n",
    "print(\"loss : \", loss)\n",
    "print(\"accuracy : \", accuracy)"
   ]
  },
  {
   "cell_type": "code",
   "execution_count": 50,
   "metadata": {},
   "outputs": [
    {
     "name": "stdout",
     "output_type": "stream",
     "text": [
      "32/32 [==============================] - 0s 1ms/step\n",
      "[[787   9]\n",
      " [158  46]]\n",
      "              precision    recall  f1-score   support\n",
      "\n",
      "           0       0.83      0.99      0.90       796\n",
      "           1       0.84      0.23      0.36       204\n",
      "\n",
      "    accuracy                           0.83      1000\n",
      "   macro avg       0.83      0.61      0.63      1000\n",
      "weighted avg       0.83      0.83      0.79      1000\n",
      "\n"
     ]
    }
   ],
   "source": [
    "y_pred = model.predict(X_test) > 0.5\n",
    "#y_pred = model.predict_classes(X_test) for tf 2.5.0\n",
    "print(confusion_matrix(y_test, y_pred))\n",
    "print(classification_report(y_test, y_pred))"
   ]
  },
  {
   "cell_type": "markdown",
   "metadata": {},
   "source": [
    "### Add Early Stop"
   ]
  },
  {
   "cell_type": "markdown",
   "metadata": {},
   "source": [
    "#### Monitor the \"val_loss\" as metric"
   ]
  },
  {
   "cell_type": "code",
   "execution_count": 51,
   "metadata": {},
   "outputs": [],
   "source": [
    "from tensorflow.keras.callbacks import EarlyStopping"
   ]
  },
  {
   "cell_type": "code",
   "execution_count": 52,
   "metadata": {},
   "outputs": [],
   "source": [
    "tf.random.set_seed(42)\n",
    "\n",
    "model = Sequential()\n",
    "\n",
    "model.add(Dense(16, activation = \"relu\", input_dim = X_train.shape[1]))\n",
    "model.add(Dense(16, activation = \"relu\"))\n",
    "model.add(Dense(8, activation = \"relu\"))\n",
    "model.add(Dense(1, activation = \"sigmoid\"))\n",
    "\n",
    "model.compile(optimizer = \"adam\", loss = \"binary_crossentropy\", metrics = [\"accuracy\"])"
   ]
  },
  {
   "cell_type": "code",
   "execution_count": 53,
   "metadata": {},
   "outputs": [],
   "source": [
    "early_stop = EarlyStopping(monitor = \"val_loss\", mode = \"min\", verbose = 1, patience = 15, restore_best_weights = True)"
   ]
  },
  {
   "cell_type": "code",
   "execution_count": 54,
   "metadata": {},
   "outputs": [
    {
     "name": "stdout",
     "output_type": "stream",
     "text": [
      "Epoch 1/100\n",
      "254/254 [==============================] - 1s 2ms/step - loss: 0.5302 - accuracy: 0.7700 - val_loss: 0.4762 - val_accuracy: 0.7989\n",
      "Epoch 2/100\n",
      "254/254 [==============================] - 0s 2ms/step - loss: 0.4782 - accuracy: 0.7960 - val_loss: 0.4602 - val_accuracy: 0.7989\n",
      "Epoch 3/100\n",
      "254/254 [==============================] - 1s 2ms/step - loss: 0.4646 - accuracy: 0.7962 - val_loss: 0.4413 - val_accuracy: 0.8000\n",
      "Epoch 4/100\n",
      "254/254 [==============================] - 1s 2ms/step - loss: 0.4481 - accuracy: 0.8070 - val_loss: 0.4156 - val_accuracy: 0.8356\n",
      "Epoch 5/100\n",
      "254/254 [==============================] - 1s 2ms/step - loss: 0.4308 - accuracy: 0.8151 - val_loss: 0.3960 - val_accuracy: 0.8344\n",
      "Epoch 6/100\n",
      "254/254 [==============================] - 1s 2ms/step - loss: 0.4146 - accuracy: 0.8185 - val_loss: 0.3743 - val_accuracy: 0.8400\n",
      "Epoch 7/100\n",
      "254/254 [==============================] - 1s 2ms/step - loss: 0.3979 - accuracy: 0.8286 - val_loss: 0.3537 - val_accuracy: 0.8478\n",
      "Epoch 8/100\n",
      "254/254 [==============================] - 1s 2ms/step - loss: 0.3857 - accuracy: 0.8383 - val_loss: 0.3532 - val_accuracy: 0.8756\n",
      "Epoch 9/100\n",
      "254/254 [==============================] - 1s 2ms/step - loss: 0.3764 - accuracy: 0.8395 - val_loss: 0.3284 - val_accuracy: 0.8733\n",
      "Epoch 10/100\n",
      "254/254 [==============================] - 1s 2ms/step - loss: 0.3709 - accuracy: 0.8419 - val_loss: 0.3203 - val_accuracy: 0.8733\n",
      "Epoch 11/100\n",
      "254/254 [==============================] - 1s 2ms/step - loss: 0.3663 - accuracy: 0.8436 - val_loss: 0.3216 - val_accuracy: 0.8800\n",
      "Epoch 12/100\n",
      "254/254 [==============================] - 1s 2ms/step - loss: 0.3634 - accuracy: 0.8463 - val_loss: 0.3182 - val_accuracy: 0.8756\n",
      "Epoch 13/100\n",
      "254/254 [==============================] - 0s 2ms/step - loss: 0.3602 - accuracy: 0.8507 - val_loss: 0.3167 - val_accuracy: 0.8778\n",
      "Epoch 14/100\n",
      "254/254 [==============================] - 1s 2ms/step - loss: 0.3591 - accuracy: 0.8505 - val_loss: 0.3192 - val_accuracy: 0.8778\n",
      "Epoch 15/100\n",
      "254/254 [==============================] - 1s 2ms/step - loss: 0.3576 - accuracy: 0.8496 - val_loss: 0.3161 - val_accuracy: 0.8811\n",
      "Epoch 16/100\n",
      "254/254 [==============================] - 1s 3ms/step - loss: 0.3549 - accuracy: 0.8499 - val_loss: 0.3040 - val_accuracy: 0.8800\n",
      "Epoch 17/100\n",
      "254/254 [==============================] - 0s 2ms/step - loss: 0.3532 - accuracy: 0.8500 - val_loss: 0.3060 - val_accuracy: 0.8822\n",
      "Epoch 18/100\n",
      "254/254 [==============================] - 0s 2ms/step - loss: 0.3520 - accuracy: 0.8517 - val_loss: 0.3044 - val_accuracy: 0.8811\n",
      "Epoch 19/100\n",
      "254/254 [==============================] - 0s 2ms/step - loss: 0.3516 - accuracy: 0.8514 - val_loss: 0.3027 - val_accuracy: 0.8789\n",
      "Epoch 20/100\n",
      "254/254 [==============================] - 0s 2ms/step - loss: 0.3515 - accuracy: 0.8540 - val_loss: 0.3050 - val_accuracy: 0.8811\n",
      "Epoch 21/100\n",
      "254/254 [==============================] - 1s 2ms/step - loss: 0.3496 - accuracy: 0.8557 - val_loss: 0.3030 - val_accuracy: 0.8867\n",
      "Epoch 22/100\n",
      "254/254 [==============================] - 1s 2ms/step - loss: 0.3486 - accuracy: 0.8552 - val_loss: 0.3013 - val_accuracy: 0.8833\n",
      "Epoch 23/100\n",
      "254/254 [==============================] - 1s 2ms/step - loss: 0.3486 - accuracy: 0.8546 - val_loss: 0.3035 - val_accuracy: 0.8856\n",
      "Epoch 24/100\n",
      "254/254 [==============================] - 1s 2ms/step - loss: 0.3475 - accuracy: 0.8551 - val_loss: 0.3086 - val_accuracy: 0.8856\n",
      "Epoch 25/100\n",
      "254/254 [==============================] - 1s 2ms/step - loss: 0.3458 - accuracy: 0.8568 - val_loss: 0.3019 - val_accuracy: 0.8856\n",
      "Epoch 26/100\n",
      "254/254 [==============================] - 1s 2ms/step - loss: 0.3449 - accuracy: 0.8586 - val_loss: 0.3017 - val_accuracy: 0.8867\n",
      "Epoch 27/100\n",
      "254/254 [==============================] - 1s 2ms/step - loss: 0.3451 - accuracy: 0.8558 - val_loss: 0.3012 - val_accuracy: 0.8878\n",
      "Epoch 28/100\n",
      "254/254 [==============================] - 1s 2ms/step - loss: 0.3427 - accuracy: 0.8553 - val_loss: 0.2989 - val_accuracy: 0.8867\n",
      "Epoch 29/100\n",
      "254/254 [==============================] - 1s 2ms/step - loss: 0.3413 - accuracy: 0.8593 - val_loss: 0.3004 - val_accuracy: 0.8889\n",
      "Epoch 30/100\n",
      "254/254 [==============================] - 1s 2ms/step - loss: 0.3407 - accuracy: 0.8599 - val_loss: 0.2967 - val_accuracy: 0.8822\n",
      "Epoch 31/100\n",
      "254/254 [==============================] - 1s 2ms/step - loss: 0.3407 - accuracy: 0.8596 - val_loss: 0.2984 - val_accuracy: 0.8822\n",
      "Epoch 32/100\n",
      "254/254 [==============================] - 0s 2ms/step - loss: 0.3403 - accuracy: 0.8600 - val_loss: 0.2973 - val_accuracy: 0.8811\n",
      "Epoch 33/100\n",
      "254/254 [==============================] - 1s 3ms/step - loss: 0.3387 - accuracy: 0.8598 - val_loss: 0.2952 - val_accuracy: 0.8822\n",
      "Epoch 34/100\n",
      "254/254 [==============================] - 1s 2ms/step - loss: 0.3404 - accuracy: 0.8586 - val_loss: 0.2972 - val_accuracy: 0.8833\n",
      "Epoch 35/100\n",
      "254/254 [==============================] - 0s 2ms/step - loss: 0.3399 - accuracy: 0.8595 - val_loss: 0.2987 - val_accuracy: 0.8833\n",
      "Epoch 36/100\n",
      "254/254 [==============================] - 1s 2ms/step - loss: 0.3383 - accuracy: 0.8610 - val_loss: 0.2982 - val_accuracy: 0.8833\n",
      "Epoch 37/100\n",
      "254/254 [==============================] - 0s 2ms/step - loss: 0.3374 - accuracy: 0.8610 - val_loss: 0.2923 - val_accuracy: 0.8911\n",
      "Epoch 38/100\n",
      "254/254 [==============================] - 0s 2ms/step - loss: 0.3374 - accuracy: 0.8586 - val_loss: 0.2996 - val_accuracy: 0.8878\n",
      "Epoch 39/100\n",
      "254/254 [==============================] - 0s 2ms/step - loss: 0.3363 - accuracy: 0.8614 - val_loss: 0.2919 - val_accuracy: 0.8822\n",
      "Epoch 40/100\n",
      "254/254 [==============================] - 0s 2ms/step - loss: 0.3351 - accuracy: 0.8612 - val_loss: 0.3012 - val_accuracy: 0.8800\n",
      "Epoch 41/100\n",
      "254/254 [==============================] - 1s 2ms/step - loss: 0.3362 - accuracy: 0.8604 - val_loss: 0.2958 - val_accuracy: 0.8833\n",
      "Epoch 42/100\n",
      "254/254 [==============================] - 1s 2ms/step - loss: 0.3351 - accuracy: 0.8607 - val_loss: 0.2924 - val_accuracy: 0.8811\n",
      "Epoch 43/100\n",
      "254/254 [==============================] - 0s 2ms/step - loss: 0.3353 - accuracy: 0.8607 - val_loss: 0.2908 - val_accuracy: 0.8889\n",
      "Epoch 44/100\n",
      "254/254 [==============================] - 0s 2ms/step - loss: 0.3344 - accuracy: 0.8596 - val_loss: 0.2975 - val_accuracy: 0.8844\n",
      "Epoch 45/100\n",
      "254/254 [==============================] - 0s 2ms/step - loss: 0.3341 - accuracy: 0.8623 - val_loss: 0.2941 - val_accuracy: 0.8867\n",
      "Epoch 46/100\n",
      "254/254 [==============================] - 0s 2ms/step - loss: 0.3334 - accuracy: 0.8622 - val_loss: 0.2987 - val_accuracy: 0.8889\n",
      "Epoch 47/100\n",
      "254/254 [==============================] - 0s 2ms/step - loss: 0.3347 - accuracy: 0.8601 - val_loss: 0.2919 - val_accuracy: 0.8822\n",
      "Epoch 48/100\n",
      "254/254 [==============================] - 1s 2ms/step - loss: 0.3348 - accuracy: 0.8615 - val_loss: 0.2968 - val_accuracy: 0.8822\n",
      "Epoch 49/100\n",
      "254/254 [==============================] - 0s 2ms/step - loss: 0.3331 - accuracy: 0.8616 - val_loss: 0.2896 - val_accuracy: 0.8844\n",
      "Epoch 50/100\n",
      "254/254 [==============================] - 0s 2ms/step - loss: 0.3338 - accuracy: 0.8610 - val_loss: 0.2944 - val_accuracy: 0.8811\n",
      "Epoch 51/100\n",
      "254/254 [==============================] - 0s 2ms/step - loss: 0.3329 - accuracy: 0.8637 - val_loss: 0.2917 - val_accuracy: 0.8889\n",
      "Epoch 52/100\n",
      "254/254 [==============================] - 1s 3ms/step - loss: 0.3335 - accuracy: 0.8596 - val_loss: 0.2951 - val_accuracy: 0.8889\n",
      "Epoch 53/100\n",
      "254/254 [==============================] - 0s 2ms/step - loss: 0.3328 - accuracy: 0.8623 - val_loss: 0.2951 - val_accuracy: 0.8822\n",
      "Epoch 54/100\n",
      "254/254 [==============================] - 0s 2ms/step - loss: 0.3323 - accuracy: 0.8610 - val_loss: 0.2895 - val_accuracy: 0.8867\n",
      "Epoch 55/100\n",
      "254/254 [==============================] - 1s 2ms/step - loss: 0.3329 - accuracy: 0.8617 - val_loss: 0.2897 - val_accuracy: 0.8844\n",
      "Epoch 56/100\n",
      "254/254 [==============================] - 1s 2ms/step - loss: 0.3321 - accuracy: 0.8635 - val_loss: 0.2974 - val_accuracy: 0.8889\n",
      "Epoch 57/100\n",
      "254/254 [==============================] - 1s 2ms/step - loss: 0.3325 - accuracy: 0.8619 - val_loss: 0.2926 - val_accuracy: 0.8833\n",
      "Epoch 58/100\n",
      "254/254 [==============================] - 1s 2ms/step - loss: 0.3316 - accuracy: 0.8628 - val_loss: 0.2973 - val_accuracy: 0.8844\n",
      "Epoch 59/100\n",
      "254/254 [==============================] - 1s 2ms/step - loss: 0.3319 - accuracy: 0.8630 - val_loss: 0.2943 - val_accuracy: 0.8811\n",
      "Epoch 60/100\n",
      "254/254 [==============================] - 0s 2ms/step - loss: 0.3322 - accuracy: 0.8617 - val_loss: 0.2938 - val_accuracy: 0.8889\n",
      "Epoch 61/100\n",
      "254/254 [==============================] - 1s 2ms/step - loss: 0.3301 - accuracy: 0.8637 - val_loss: 0.2910 - val_accuracy: 0.8878\n",
      "Epoch 62/100\n",
      "254/254 [==============================] - 0s 2ms/step - loss: 0.3302 - accuracy: 0.8632 - val_loss: 0.2944 - val_accuracy: 0.8889\n",
      "Epoch 63/100\n",
      "254/254 [==============================] - 1s 2ms/step - loss: 0.3302 - accuracy: 0.8619 - val_loss: 0.2951 - val_accuracy: 0.8856\n",
      "Epoch 64/100\n",
      "254/254 [==============================] - 0s 2ms/step - loss: 0.3313 - accuracy: 0.8628 - val_loss: 0.2925 - val_accuracy: 0.8911\n",
      "Epoch 65/100\n",
      "254/254 [==============================] - 0s 2ms/step - loss: 0.3294 - accuracy: 0.8647 - val_loss: 0.2947 - val_accuracy: 0.8844\n",
      "Epoch 66/100\n",
      "254/254 [==============================] - 0s 2ms/step - loss: 0.3303 - accuracy: 0.8633 - val_loss: 0.2942 - val_accuracy: 0.8878\n",
      "Epoch 67/100\n",
      "254/254 [==============================] - 0s 2ms/step - loss: 0.3303 - accuracy: 0.8644 - val_loss: 0.2915 - val_accuracy: 0.8800\n",
      "Epoch 68/100\n",
      "254/254 [==============================] - 1s 2ms/step - loss: 0.3304 - accuracy: 0.8616 - val_loss: 0.2894 - val_accuracy: 0.8856\n",
      "Epoch 69/100\n",
      "254/254 [==============================] - 0s 2ms/step - loss: 0.3295 - accuracy: 0.8626 - val_loss: 0.2947 - val_accuracy: 0.8856\n",
      "Epoch 70/100\n",
      "254/254 [==============================] - 0s 2ms/step - loss: 0.3296 - accuracy: 0.8643 - val_loss: 0.2953 - val_accuracy: 0.8822\n",
      "Epoch 71/100\n",
      "254/254 [==============================] - 1s 2ms/step - loss: 0.3300 - accuracy: 0.8625 - val_loss: 0.2902 - val_accuracy: 0.8878\n",
      "Epoch 72/100\n",
      "254/254 [==============================] - 1s 2ms/step - loss: 0.3282 - accuracy: 0.8649 - val_loss: 0.2948 - val_accuracy: 0.8811\n",
      "Epoch 73/100\n",
      "254/254 [==============================] - 1s 2ms/step - loss: 0.3295 - accuracy: 0.8637 - val_loss: 0.2919 - val_accuracy: 0.8822\n",
      "Epoch 74/100\n",
      "254/254 [==============================] - 1s 2ms/step - loss: 0.3299 - accuracy: 0.8632 - val_loss: 0.2942 - val_accuracy: 0.8767\n",
      "Epoch 75/100\n",
      "254/254 [==============================] - 0s 2ms/step - loss: 0.3289 - accuracy: 0.8630 - val_loss: 0.2921 - val_accuracy: 0.8767\n",
      "Epoch 76/100\n",
      "254/254 [==============================] - 0s 2ms/step - loss: 0.3307 - accuracy: 0.8625 - val_loss: 0.2917 - val_accuracy: 0.8878\n",
      "Epoch 77/100\n",
      "254/254 [==============================] - 0s 2ms/step - loss: 0.3292 - accuracy: 0.8636 - val_loss: 0.2915 - val_accuracy: 0.8822\n",
      "Epoch 78/100\n",
      "254/254 [==============================] - 0s 2ms/step - loss: 0.3298 - accuracy: 0.8626 - val_loss: 0.2935 - val_accuracy: 0.8867\n",
      "Epoch 79/100\n",
      "254/254 [==============================] - 0s 2ms/step - loss: 0.3289 - accuracy: 0.8632 - val_loss: 0.2907 - val_accuracy: 0.8789\n",
      "Epoch 80/100\n",
      "254/254 [==============================] - 1s 2ms/step - loss: 0.3273 - accuracy: 0.8636 - val_loss: 0.2906 - val_accuracy: 0.8811\n",
      "Epoch 81/100\n",
      "254/254 [==============================] - 1s 2ms/step - loss: 0.3286 - accuracy: 0.8631 - val_loss: 0.2949 - val_accuracy: 0.8856\n",
      "Epoch 82/100\n",
      "254/254 [==============================] - 1s 3ms/step - loss: 0.3276 - accuracy: 0.8623 - val_loss: 0.2923 - val_accuracy: 0.8867\n",
      "Epoch 83/100\n",
      "253/254 [============================>.] - ETA: 0s - loss: 0.3281 - accuracy: 0.8640Restoring model weights from the end of the best epoch: 68.\n",
      "254/254 [==============================] - 1s 3ms/step - loss: 0.3283 - accuracy: 0.8640 - val_loss: 0.2917 - val_accuracy: 0.8833\n",
      "Epoch 83: early stopping\n"
     ]
    },
    {
     "data": {
      "text/plain": [
       "<keras.callbacks.History at 0x1fe3cb7f340>"
      ]
     },
     "execution_count": 54,
     "metadata": {},
     "output_type": "execute_result"
    }
   ],
   "source": [
    "model.fit(x = X_train, y = y_train, validation_split = 0.1, batch_size = 32, epochs = 100, verbose = 1,\n",
    "          callbacks = [early_stop])"
   ]
  },
  {
   "cell_type": "code",
   "execution_count": 55,
   "metadata": {},
   "outputs": [
    {
     "name": "stdout",
     "output_type": "stream",
     "text": [
      "loss :  0.33807146549224854\n",
      "accuracy :  0.8600000143051147\n"
     ]
    }
   ],
   "source": [
    "loss, accuracy = model.evaluate(X_test, y_test, verbose=0)\n",
    "print(\"loss : \", loss)\n",
    "print(\"accuracy : \", accuracy)"
   ]
  },
  {
   "cell_type": "markdown",
   "metadata": {},
   "source": [
    "#### Monitor the \"val_recall\" as metric"
   ]
  },
  {
   "cell_type": "code",
   "execution_count": 56,
   "metadata": {},
   "outputs": [],
   "source": [
    "tf.random.set_seed(42)\n",
    "\n",
    "model = Sequential()\n",
    "\n",
    "model.add(Dense(16, activation = \"relu\", input_dim = X_train.shape[1]))\n",
    "model.add(Dense(16, activation = \"relu\"))\n",
    "model.add(Dense(8, activation = \"relu\"))\n",
    "model.add(Dense(1, activation = \"sigmoid\"))\n",
    "\n",
    "model.compile(optimizer = \"adam\", loss = \"binary_crossentropy\", metrics = [\"accuracy\"])"
   ]
  },
  {
   "cell_type": "code",
   "execution_count": 57,
   "metadata": {},
   "outputs": [],
   "source": [
    "early_stop = EarlyStopping(monitor = \"val_recall\", mode = \"min\", verbose = 1, patience = 15, restore_best_weights = True)"
   ]
  },
  {
   "cell_type": "code",
   "execution_count": 58,
   "metadata": {},
   "outputs": [
    {
     "name": "stdout",
     "output_type": "stream",
     "text": [
      "Epoch 1/100\n",
      "90/99 [==========================>...] - ETA: 0s - loss: 0.5911 - accuracy: 0.7234WARNING:tensorflow:Early stopping conditioned on metric `val_recall` which is not available. Available metrics are: loss,accuracy,val_loss,val_accuracy\n",
      "99/99 [==============================] - 1s 5ms/step - loss: 0.5837 - accuracy: 0.7295 - val_loss: 0.4948 - val_accuracy: 0.7989\n",
      "Epoch 2/100\n",
      "95/99 [===========================>..] - ETA: 0s - loss: 0.4953 - accuracy: 0.7951WARNING:tensorflow:Early stopping conditioned on metric `val_recall` which is not available. Available metrics are: loss,accuracy,val_loss,val_accuracy\n",
      "99/99 [==============================] - 0s 3ms/step - loss: 0.4934 - accuracy: 0.7960 - val_loss: 0.4770 - val_accuracy: 0.7989\n",
      "Epoch 3/100\n",
      "97/99 [============================>.] - ETA: 0s - loss: 0.4813 - accuracy: 0.7962WARNING:tensorflow:Early stopping conditioned on metric `val_recall` which is not available. Available metrics are: loss,accuracy,val_loss,val_accuracy\n",
      "99/99 [==============================] - 0s 4ms/step - loss: 0.4814 - accuracy: 0.7960 - val_loss: 0.4663 - val_accuracy: 0.7989\n",
      "Epoch 4/100\n",
      "83/99 [========================>.....] - ETA: 0s - loss: 0.4759 - accuracy: 0.7942WARNING:tensorflow:Early stopping conditioned on metric `val_recall` which is not available. Available metrics are: loss,accuracy,val_loss,val_accuracy\n",
      "99/99 [==============================] - 0s 4ms/step - loss: 0.4726 - accuracy: 0.7960 - val_loss: 0.4564 - val_accuracy: 0.7989\n",
      "Epoch 5/100\n",
      "99/99 [==============================] - ETA: 0s - loss: 0.4653 - accuracy: 0.7960WARNING:tensorflow:Early stopping conditioned on metric `val_recall` which is not available. Available metrics are: loss,accuracy,val_loss,val_accuracy\n",
      "99/99 [==============================] - 0s 3ms/step - loss: 0.4653 - accuracy: 0.7960 - val_loss: 0.4472 - val_accuracy: 0.7989\n",
      "Epoch 6/100\n",
      "88/99 [=========================>....] - ETA: 0s - loss: 0.4600 - accuracy: 0.7953WARNING:tensorflow:Early stopping conditioned on metric `val_recall` which is not available. Available metrics are: loss,accuracy,val_loss,val_accuracy\n",
      "99/99 [==============================] - 0s 3ms/step - loss: 0.4563 - accuracy: 0.7969 - val_loss: 0.4358 - val_accuracy: 0.8011\n",
      "Epoch 7/100\n",
      "84/99 [========================>.....] - ETA: 0s - loss: 0.4465 - accuracy: 0.8069WARNING:tensorflow:Early stopping conditioned on metric `val_recall` which is not available. Available metrics are: loss,accuracy,val_loss,val_accuracy\n",
      "99/99 [==============================] - 0s 4ms/step - loss: 0.4451 - accuracy: 0.8102 - val_loss: 0.4167 - val_accuracy: 0.8378\n",
      "Epoch 8/100\n",
      "96/99 [============================>.] - ETA: 0s - loss: 0.4327 - accuracy: 0.8162WARNING:tensorflow:Early stopping conditioned on metric `val_recall` which is not available. Available metrics are: loss,accuracy,val_loss,val_accuracy\n",
      "99/99 [==============================] - 0s 3ms/step - loss: 0.4332 - accuracy: 0.8159 - val_loss: 0.4014 - val_accuracy: 0.8378\n",
      "Epoch 9/100\n",
      "93/99 [===========================>..] - ETA: 0s - loss: 0.4237 - accuracy: 0.8158WARNING:tensorflow:Early stopping conditioned on metric `val_recall` which is not available. Available metrics are: loss,accuracy,val_loss,val_accuracy\n",
      "99/99 [==============================] - 0s 3ms/step - loss: 0.4213 - accuracy: 0.8165 - val_loss: 0.3879 - val_accuracy: 0.8400\n",
      "Epoch 10/100\n",
      "92/99 [==========================>...] - ETA: 0s - loss: 0.4107 - accuracy: 0.8181WARNING:tensorflow:Early stopping conditioned on metric `val_recall` which is not available. Available metrics are: loss,accuracy,val_loss,val_accuracy\n",
      "99/99 [==============================] - 0s 3ms/step - loss: 0.4116 - accuracy: 0.8180 - val_loss: 0.3732 - val_accuracy: 0.8422\n",
      "Epoch 11/100\n",
      "87/99 [=========================>....] - ETA: 0s - loss: 0.4001 - accuracy: 0.8263WARNING:tensorflow:Early stopping conditioned on metric `val_recall` which is not available. Available metrics are: loss,accuracy,val_loss,val_accuracy\n",
      "99/99 [==============================] - 0s 2ms/step - loss: 0.4008 - accuracy: 0.8259 - val_loss: 0.3682 - val_accuracy: 0.8522\n",
      "Epoch 12/100\n",
      "84/99 [========================>.....] - ETA: 0s - loss: 0.3922 - accuracy: 0.8320WARNING:tensorflow:Early stopping conditioned on metric `val_recall` which is not available. Available metrics are: loss,accuracy,val_loss,val_accuracy\n",
      "99/99 [==============================] - 0s 2ms/step - loss: 0.3935 - accuracy: 0.8309 - val_loss: 0.3530 - val_accuracy: 0.8522\n",
      "Epoch 13/100\n",
      "93/99 [===========================>..] - ETA: 0s - loss: 0.3817 - accuracy: 0.8378WARNING:tensorflow:Early stopping conditioned on metric `val_recall` which is not available. Available metrics are: loss,accuracy,val_loss,val_accuracy\n",
      "99/99 [==============================] - 0s 2ms/step - loss: 0.3850 - accuracy: 0.8351 - val_loss: 0.3506 - val_accuracy: 0.8756\n",
      "Epoch 14/100\n",
      "87/99 [=========================>....] - ETA: 0s - loss: 0.3775 - accuracy: 0.8399WARNING:tensorflow:Early stopping conditioned on metric `val_recall` which is not available. Available metrics are: loss,accuracy,val_loss,val_accuracy\n",
      "99/99 [==============================] - 0s 2ms/step - loss: 0.3806 - accuracy: 0.8385 - val_loss: 0.3366 - val_accuracy: 0.8667\n",
      "Epoch 15/100\n",
      "93/99 [===========================>..] - ETA: 0s - loss: 0.3752 - accuracy: 0.8395WARNING:tensorflow:Early stopping conditioned on metric `val_recall` which is not available. Available metrics are: loss,accuracy,val_loss,val_accuracy\n",
      "99/99 [==============================] - 0s 2ms/step - loss: 0.3739 - accuracy: 0.8402 - val_loss: 0.3321 - val_accuracy: 0.8733\n",
      "Epoch 16/100\n",
      "86/99 [=========================>....] - ETA: 0s - loss: 0.3730 - accuracy: 0.8417WARNING:tensorflow:Early stopping conditioned on metric `val_recall` which is not available. Available metrics are: loss,accuracy,val_loss,val_accuracy\n",
      "99/99 [==============================] - 0s 2ms/step - loss: 0.3706 - accuracy: 0.8422 - val_loss: 0.3265 - val_accuracy: 0.8767\n",
      "Epoch 17/100\n",
      "87/99 [=========================>....] - ETA: 0s - loss: 0.3687 - accuracy: 0.8430WARNING:tensorflow:Early stopping conditioned on metric `val_recall` which is not available. Available metrics are: loss,accuracy,val_loss,val_accuracy\n",
      "99/99 [==============================] - 0s 2ms/step - loss: 0.3671 - accuracy: 0.8443 - val_loss: 0.3233 - val_accuracy: 0.8778\n",
      "Epoch 18/100\n",
      "90/99 [==========================>...] - ETA: 0s - loss: 0.3659 - accuracy: 0.8466WARNING:tensorflow:Early stopping conditioned on metric `val_recall` which is not available. Available metrics are: loss,accuracy,val_loss,val_accuracy\n",
      "99/99 [==============================] - 0s 2ms/step - loss: 0.3645 - accuracy: 0.8478 - val_loss: 0.3211 - val_accuracy: 0.8767\n",
      "Epoch 19/100\n",
      "89/99 [=========================>....] - ETA: 0s - loss: 0.3636 - accuracy: 0.8475WARNING:tensorflow:Early stopping conditioned on metric `val_recall` which is not available. Available metrics are: loss,accuracy,val_loss,val_accuracy\n",
      "99/99 [==============================] - 0s 2ms/step - loss: 0.3624 - accuracy: 0.8469 - val_loss: 0.3198 - val_accuracy: 0.8811\n",
      "Epoch 20/100\n",
      "92/99 [==========================>...] - ETA: 0s - loss: 0.3625 - accuracy: 0.8474WARNING:tensorflow:Early stopping conditioned on metric `val_recall` which is not available. Available metrics are: loss,accuracy,val_loss,val_accuracy\n",
      "99/99 [==============================] - 0s 2ms/step - loss: 0.3607 - accuracy: 0.8491 - val_loss: 0.3140 - val_accuracy: 0.8789\n",
      "Epoch 21/100\n",
      "86/99 [=========================>....] - ETA: 0s - loss: 0.3593 - accuracy: 0.8491WARNING:tensorflow:Early stopping conditioned on metric `val_recall` which is not available. Available metrics are: loss,accuracy,val_loss,val_accuracy\n",
      "99/99 [==============================] - 0s 2ms/step - loss: 0.3592 - accuracy: 0.8504 - val_loss: 0.3162 - val_accuracy: 0.8833\n",
      "Epoch 22/100\n",
      "92/99 [==========================>...] - ETA: 0s - loss: 0.3563 - accuracy: 0.8510WARNING:tensorflow:Early stopping conditioned on metric `val_recall` which is not available. Available metrics are: loss,accuracy,val_loss,val_accuracy\n",
      "99/99 [==============================] - 0s 2ms/step - loss: 0.3571 - accuracy: 0.8502 - val_loss: 0.3114 - val_accuracy: 0.8856\n",
      "Epoch 23/100\n",
      "88/99 [=========================>....] - ETA: 0s - loss: 0.3599 - accuracy: 0.8484WARNING:tensorflow:Early stopping conditioned on metric `val_recall` which is not available. Available metrics are: loss,accuracy,val_loss,val_accuracy\n",
      "99/99 [==============================] - 0s 2ms/step - loss: 0.3559 - accuracy: 0.8495 - val_loss: 0.3091 - val_accuracy: 0.8811\n",
      "Epoch 24/100\n",
      "92/99 [==========================>...] - ETA: 0s - loss: 0.3545 - accuracy: 0.8511WARNING:tensorflow:Early stopping conditioned on metric `val_recall` which is not available. Available metrics are: loss,accuracy,val_loss,val_accuracy\n",
      "99/99 [==============================] - 0s 2ms/step - loss: 0.3570 - accuracy: 0.8511 - val_loss: 0.3158 - val_accuracy: 0.8744\n",
      "Epoch 25/100\n",
      "85/99 [========================>.....] - ETA: 0s - loss: 0.3508 - accuracy: 0.8518WARNING:tensorflow:Early stopping conditioned on metric `val_recall` which is not available. Available metrics are: loss,accuracy,val_loss,val_accuracy\n",
      "99/99 [==============================] - 0s 2ms/step - loss: 0.3538 - accuracy: 0.8512 - val_loss: 0.3131 - val_accuracy: 0.8789\n",
      "Epoch 26/100\n",
      "93/99 [===========================>..] - ETA: 0s - loss: 0.3509 - accuracy: 0.8538WARNING:tensorflow:Early stopping conditioned on metric `val_recall` which is not available. Available metrics are: loss,accuracy,val_loss,val_accuracy\n",
      "99/99 [==============================] - 0s 2ms/step - loss: 0.3528 - accuracy: 0.8531 - val_loss: 0.3068 - val_accuracy: 0.8822\n",
      "Epoch 27/100\n",
      "92/99 [==========================>...] - ETA: 0s - loss: 0.3505 - accuracy: 0.8534WARNING:tensorflow:Early stopping conditioned on metric `val_recall` which is not available. Available metrics are: loss,accuracy,val_loss,val_accuracy\n",
      "99/99 [==============================] - 0s 2ms/step - loss: 0.3526 - accuracy: 0.8523 - val_loss: 0.3137 - val_accuracy: 0.8800\n",
      "Epoch 28/100\n",
      "87/99 [=========================>....] - ETA: 0s - loss: 0.3518 - accuracy: 0.8530WARNING:tensorflow:Early stopping conditioned on metric `val_recall` which is not available. Available metrics are: loss,accuracy,val_loss,val_accuracy\n",
      "99/99 [==============================] - 0s 2ms/step - loss: 0.3548 - accuracy: 0.8519 - val_loss: 0.3089 - val_accuracy: 0.8800\n",
      "Epoch 29/100\n",
      "90/99 [==========================>...] - ETA: 0s - loss: 0.3478 - accuracy: 0.8539WARNING:tensorflow:Early stopping conditioned on metric `val_recall` which is not available. Available metrics are: loss,accuracy,val_loss,val_accuracy\n",
      "99/99 [==============================] - 0s 2ms/step - loss: 0.3502 - accuracy: 0.8531 - val_loss: 0.3093 - val_accuracy: 0.8800\n",
      "Epoch 30/100\n",
      "90/99 [==========================>...] - ETA: 0s - loss: 0.3470 - accuracy: 0.8551WARNING:tensorflow:Early stopping conditioned on metric `val_recall` which is not available. Available metrics are: loss,accuracy,val_loss,val_accuracy\n",
      "99/99 [==============================] - 0s 2ms/step - loss: 0.3498 - accuracy: 0.8538 - val_loss: 0.3084 - val_accuracy: 0.8767\n",
      "Epoch 31/100\n",
      "88/99 [=========================>....] - ETA: 0s - loss: 0.3506 - accuracy: 0.8550WARNING:tensorflow:Early stopping conditioned on metric `val_recall` which is not available. Available metrics are: loss,accuracy,val_loss,val_accuracy\n",
      "99/99 [==============================] - 0s 2ms/step - loss: 0.3504 - accuracy: 0.8553 - val_loss: 0.3045 - val_accuracy: 0.8811\n",
      "Epoch 32/100\n",
      "87/99 [=========================>....] - ETA: 0s - loss: 0.3494 - accuracy: 0.8551WARNING:tensorflow:Early stopping conditioned on metric `val_recall` which is not available. Available metrics are: loss,accuracy,val_loss,val_accuracy\n",
      "99/99 [==============================] - 0s 2ms/step - loss: 0.3490 - accuracy: 0.8558 - val_loss: 0.3030 - val_accuracy: 0.8833\n",
      "Epoch 33/100\n",
      "86/99 [=========================>....] - ETA: 0s - loss: 0.3524 - accuracy: 0.8528WARNING:tensorflow:Early stopping conditioned on metric `val_recall` which is not available. Available metrics are: loss,accuracy,val_loss,val_accuracy\n",
      "99/99 [==============================] - 0s 2ms/step - loss: 0.3486 - accuracy: 0.8543 - val_loss: 0.3023 - val_accuracy: 0.8844\n",
      "Epoch 34/100\n",
      "85/99 [========================>.....] - ETA: 0s - loss: 0.3518 - accuracy: 0.8549WARNING:tensorflow:Early stopping conditioned on metric `val_recall` which is not available. Available metrics are: loss,accuracy,val_loss,val_accuracy\n",
      "99/99 [==============================] - 0s 2ms/step - loss: 0.3485 - accuracy: 0.8556 - val_loss: 0.3032 - val_accuracy: 0.8844\n",
      "Epoch 35/100\n",
      "82/99 [=======================>......] - ETA: 0s - loss: 0.3450 - accuracy: 0.8580WARNING:tensorflow:Early stopping conditioned on metric `val_recall` which is not available. Available metrics are: loss,accuracy,val_loss,val_accuracy\n",
      "99/99 [==============================] - 0s 2ms/step - loss: 0.3475 - accuracy: 0.8568 - val_loss: 0.3017 - val_accuracy: 0.8833\n",
      "Epoch 36/100\n",
      "84/99 [========================>.....] - ETA: 0s - loss: 0.3513 - accuracy: 0.8551WARNING:tensorflow:Early stopping conditioned on metric `val_recall` which is not available. Available metrics are: loss,accuracy,val_loss,val_accuracy\n",
      "99/99 [==============================] - 0s 2ms/step - loss: 0.3465 - accuracy: 0.8570 - val_loss: 0.3020 - val_accuracy: 0.8822\n",
      "Epoch 37/100\n",
      "88/99 [=========================>....] - ETA: 0s - loss: 0.3492 - accuracy: 0.8541WARNING:tensorflow:Early stopping conditioned on metric `val_recall` which is not available. Available metrics are: loss,accuracy,val_loss,val_accuracy\n",
      "99/99 [==============================] - 0s 2ms/step - loss: 0.3480 - accuracy: 0.8548 - val_loss: 0.3059 - val_accuracy: 0.8833\n",
      "Epoch 38/100\n",
      "88/99 [=========================>....] - ETA: 0s - loss: 0.3465 - accuracy: 0.8578WARNING:tensorflow:Early stopping conditioned on metric `val_recall` which is not available. Available metrics are: loss,accuracy,val_loss,val_accuracy\n",
      "99/99 [==============================] - 0s 2ms/step - loss: 0.3472 - accuracy: 0.8564 - val_loss: 0.3034 - val_accuracy: 0.8822\n",
      "Epoch 39/100\n",
      "88/99 [=========================>....] - ETA: 0s - loss: 0.3469 - accuracy: 0.8562WARNING:tensorflow:Early stopping conditioned on metric `val_recall` which is not available. Available metrics are: loss,accuracy,val_loss,val_accuracy\n",
      "99/99 [==============================] - 0s 2ms/step - loss: 0.3455 - accuracy: 0.8569 - val_loss: 0.2995 - val_accuracy: 0.8822\n",
      "Epoch 40/100\n",
      "90/99 [==========================>...] - ETA: 0s - loss: 0.3486 - accuracy: 0.8549WARNING:tensorflow:Early stopping conditioned on metric `val_recall` which is not available. Available metrics are: loss,accuracy,val_loss,val_accuracy\n",
      "99/99 [==============================] - 0s 2ms/step - loss: 0.3449 - accuracy: 0.8567 - val_loss: 0.3027 - val_accuracy: 0.8833\n",
      "Epoch 41/100\n",
      "84/99 [========================>.....] - ETA: 0s - loss: 0.3471 - accuracy: 0.8564WARNING:tensorflow:Early stopping conditioned on metric `val_recall` which is not available. Available metrics are: loss,accuracy,val_loss,val_accuracy\n",
      "99/99 [==============================] - 0s 2ms/step - loss: 0.3442 - accuracy: 0.8569 - val_loss: 0.3034 - val_accuracy: 0.8811\n",
      "Epoch 42/100\n",
      "80/99 [=======================>......] - ETA: 0s - loss: 0.3483 - accuracy: 0.8550WARNING:tensorflow:Early stopping conditioned on metric `val_recall` which is not available. Available metrics are: loss,accuracy,val_loss,val_accuracy\n",
      "99/99 [==============================] - 0s 2ms/step - loss: 0.3450 - accuracy: 0.8568 - val_loss: 0.3007 - val_accuracy: 0.8822\n",
      "Epoch 43/100\n",
      "87/99 [=========================>....] - ETA: 0s - loss: 0.3443 - accuracy: 0.8565WARNING:tensorflow:Early stopping conditioned on metric `val_recall` which is not available. Available metrics are: loss,accuracy,val_loss,val_accuracy\n",
      "99/99 [==============================] - 0s 2ms/step - loss: 0.3437 - accuracy: 0.8579 - val_loss: 0.2981 - val_accuracy: 0.8878\n",
      "Epoch 44/100\n",
      "87/99 [=========================>....] - ETA: 0s - loss: 0.3447 - accuracy: 0.8581WARNING:tensorflow:Early stopping conditioned on metric `val_recall` which is not available. Available metrics are: loss,accuracy,val_loss,val_accuracy\n",
      "99/99 [==============================] - 0s 2ms/step - loss: 0.3447 - accuracy: 0.8575 - val_loss: 0.2982 - val_accuracy: 0.8844\n",
      "Epoch 45/100\n",
      "88/99 [=========================>....] - ETA: 0s - loss: 0.3441 - accuracy: 0.8584WARNING:tensorflow:Early stopping conditioned on metric `val_recall` which is not available. Available metrics are: loss,accuracy,val_loss,val_accuracy\n",
      "99/99 [==============================] - 0s 3ms/step - loss: 0.3429 - accuracy: 0.8598 - val_loss: 0.3049 - val_accuracy: 0.8822\n",
      "Epoch 46/100\n",
      "97/99 [============================>.] - ETA: 0s - loss: 0.3439 - accuracy: 0.8569WARNING:tensorflow:Early stopping conditioned on metric `val_recall` which is not available. Available metrics are: loss,accuracy,val_loss,val_accuracy\n",
      "99/99 [==============================] - 0s 3ms/step - loss: 0.3435 - accuracy: 0.8569 - val_loss: 0.3066 - val_accuracy: 0.8811\n",
      "Epoch 47/100\n",
      "83/99 [========================>.....] - ETA: 0s - loss: 0.3419 - accuracy: 0.8587WARNING:tensorflow:Early stopping conditioned on metric `val_recall` which is not available. Available metrics are: loss,accuracy,val_loss,val_accuracy\n",
      "99/99 [==============================] - 0s 2ms/step - loss: 0.3435 - accuracy: 0.8569 - val_loss: 0.2998 - val_accuracy: 0.8900\n",
      "Epoch 48/100\n",
      "86/99 [=========================>....] - ETA: 0s - loss: 0.3439 - accuracy: 0.8562WARNING:tensorflow:Early stopping conditioned on metric `val_recall` which is not available. Available metrics are: loss,accuracy,val_loss,val_accuracy\n",
      "99/99 [==============================] - 0s 2ms/step - loss: 0.3436 - accuracy: 0.8562 - val_loss: 0.2996 - val_accuracy: 0.8844\n",
      "Epoch 49/100\n",
      "84/99 [========================>.....] - ETA: 0s - loss: 0.3431 - accuracy: 0.8599WARNING:tensorflow:Early stopping conditioned on metric `val_recall` which is not available. Available metrics are: loss,accuracy,val_loss,val_accuracy\n",
      "99/99 [==============================] - 0s 2ms/step - loss: 0.3420 - accuracy: 0.8607 - val_loss: 0.2999 - val_accuracy: 0.8833\n",
      "Epoch 50/100\n",
      "88/99 [=========================>....] - ETA: 0s - loss: 0.3434 - accuracy: 0.8578WARNING:tensorflow:Early stopping conditioned on metric `val_recall` which is not available. Available metrics are: loss,accuracy,val_loss,val_accuracy\n",
      "99/99 [==============================] - 0s 2ms/step - loss: 0.3424 - accuracy: 0.8580 - val_loss: 0.3035 - val_accuracy: 0.8844\n",
      "Epoch 51/100\n",
      "86/99 [=========================>....] - ETA: 0s - loss: 0.3439 - accuracy: 0.8573WARNING:tensorflow:Early stopping conditioned on metric `val_recall` which is not available. Available metrics are: loss,accuracy,val_loss,val_accuracy\n",
      "99/99 [==============================] - 0s 2ms/step - loss: 0.3418 - accuracy: 0.8591 - val_loss: 0.3007 - val_accuracy: 0.8844\n",
      "Epoch 52/100\n",
      "91/99 [==========================>...] - ETA: 0s - loss: 0.3403 - accuracy: 0.8621WARNING:tensorflow:Early stopping conditioned on metric `val_recall` which is not available. Available metrics are: loss,accuracy,val_loss,val_accuracy\n",
      "99/99 [==============================] - 0s 2ms/step - loss: 0.3413 - accuracy: 0.8617 - val_loss: 0.3086 - val_accuracy: 0.8800\n",
      "Epoch 53/100\n",
      "84/99 [========================>.....] - ETA: 0s - loss: 0.3450 - accuracy: 0.8560WARNING:tensorflow:Early stopping conditioned on metric `val_recall` which is not available. Available metrics are: loss,accuracy,val_loss,val_accuracy\n",
      "99/99 [==============================] - 0s 2ms/step - loss: 0.3423 - accuracy: 0.8579 - val_loss: 0.2967 - val_accuracy: 0.8856\n",
      "Epoch 54/100\n",
      "86/99 [=========================>....] - ETA: 0s - loss: 0.3444 - accuracy: 0.8585WARNING:tensorflow:Early stopping conditioned on metric `val_recall` which is not available. Available metrics are: loss,accuracy,val_loss,val_accuracy\n",
      "99/99 [==============================] - 0s 2ms/step - loss: 0.3408 - accuracy: 0.8599 - val_loss: 0.2962 - val_accuracy: 0.8933\n",
      "Epoch 55/100\n",
      "87/99 [=========================>....] - ETA: 0s - loss: 0.3442 - accuracy: 0.8576WARNING:tensorflow:Early stopping conditioned on metric `val_recall` which is not available. Available metrics are: loss,accuracy,val_loss,val_accuracy\n",
      "99/99 [==============================] - 0s 2ms/step - loss: 0.3411 - accuracy: 0.8588 - val_loss: 0.3017 - val_accuracy: 0.8900\n",
      "Epoch 56/100\n",
      "88/99 [=========================>....] - ETA: 0s - loss: 0.3414 - accuracy: 0.8602WARNING:tensorflow:Early stopping conditioned on metric `val_recall` which is not available. Available metrics are: loss,accuracy,val_loss,val_accuracy\n",
      "99/99 [==============================] - 0s 2ms/step - loss: 0.3413 - accuracy: 0.8600 - val_loss: 0.3000 - val_accuracy: 0.8878\n",
      "Epoch 57/100\n",
      "86/99 [=========================>....] - ETA: 0s - loss: 0.3394 - accuracy: 0.8603WARNING:tensorflow:Early stopping conditioned on metric `val_recall` which is not available. Available metrics are: loss,accuracy,val_loss,val_accuracy\n",
      "99/99 [==============================] - 0s 2ms/step - loss: 0.3409 - accuracy: 0.8599 - val_loss: 0.2981 - val_accuracy: 0.8956\n",
      "Epoch 58/100\n",
      "87/99 [=========================>....] - ETA: 0s - loss: 0.3424 - accuracy: 0.8569WARNING:tensorflow:Early stopping conditioned on metric `val_recall` which is not available. Available metrics are: loss,accuracy,val_loss,val_accuracy\n",
      "99/99 [==============================] - 0s 2ms/step - loss: 0.3409 - accuracy: 0.8584 - val_loss: 0.3010 - val_accuracy: 0.8922\n",
      "Epoch 59/100\n",
      "87/99 [=========================>....] - ETA: 0s - loss: 0.3406 - accuracy: 0.8612WARNING:tensorflow:Early stopping conditioned on metric `val_recall` which is not available. Available metrics are: loss,accuracy,val_loss,val_accuracy\n",
      "99/99 [==============================] - 0s 2ms/step - loss: 0.3413 - accuracy: 0.8607 - val_loss: 0.2975 - val_accuracy: 0.8889\n",
      "Epoch 60/100\n",
      "80/99 [=======================>......] - ETA: 0s - loss: 0.3378 - accuracy: 0.8601WARNING:tensorflow:Early stopping conditioned on metric `val_recall` which is not available. Available metrics are: loss,accuracy,val_loss,val_accuracy\n",
      "99/99 [==============================] - 0s 2ms/step - loss: 0.3395 - accuracy: 0.8623 - val_loss: 0.3010 - val_accuracy: 0.8889\n",
      "Epoch 61/100\n",
      "83/99 [========================>.....] - ETA: 0s - loss: 0.3407 - accuracy: 0.8589WARNING:tensorflow:Early stopping conditioned on metric `val_recall` which is not available. Available metrics are: loss,accuracy,val_loss,val_accuracy\n",
      "99/99 [==============================] - 0s 2ms/step - loss: 0.3397 - accuracy: 0.8619 - val_loss: 0.2999 - val_accuracy: 0.8878\n",
      "Epoch 62/100\n",
      "83/99 [========================>.....] - ETA: 0s - loss: 0.3344 - accuracy: 0.8639WARNING:tensorflow:Early stopping conditioned on metric `val_recall` which is not available. Available metrics are: loss,accuracy,val_loss,val_accuracy\n",
      "99/99 [==============================] - 0s 3ms/step - loss: 0.3388 - accuracy: 0.8609 - val_loss: 0.3033 - val_accuracy: 0.8833\n",
      "Epoch 63/100\n",
      "82/99 [=======================>......] - ETA: 0s - loss: 0.3338 - accuracy: 0.8632WARNING:tensorflow:Early stopping conditioned on metric `val_recall` which is not available. Available metrics are: loss,accuracy,val_loss,val_accuracy\n",
      "99/99 [==============================] - 0s 2ms/step - loss: 0.3386 - accuracy: 0.8609 - val_loss: 0.2985 - val_accuracy: 0.8900\n",
      "Epoch 64/100\n",
      "87/99 [=========================>....] - ETA: 0s - loss: 0.3403 - accuracy: 0.8601WARNING:tensorflow:Early stopping conditioned on metric `val_recall` which is not available. Available metrics are: loss,accuracy,val_loss,val_accuracy\n",
      "99/99 [==============================] - 0s 2ms/step - loss: 0.3403 - accuracy: 0.8617 - val_loss: 0.2975 - val_accuracy: 0.8911\n",
      "Epoch 65/100\n",
      "94/99 [===========================>..] - ETA: 0s - loss: 0.3370 - accuracy: 0.8627WARNING:tensorflow:Early stopping conditioned on metric `val_recall` which is not available. Available metrics are: loss,accuracy,val_loss,val_accuracy\n",
      "99/99 [==============================] - 0s 4ms/step - loss: 0.3376 - accuracy: 0.8630 - val_loss: 0.2973 - val_accuracy: 0.8922\n",
      "Epoch 66/100\n",
      "99/99 [==============================] - ETA: 0s - loss: 0.3386 - accuracy: 0.8620WARNING:tensorflow:Early stopping conditioned on metric `val_recall` which is not available. Available metrics are: loss,accuracy,val_loss,val_accuracy\n",
      "99/99 [==============================] - 0s 4ms/step - loss: 0.3386 - accuracy: 0.8620 - val_loss: 0.3043 - val_accuracy: 0.8867\n",
      "Epoch 67/100\n",
      "96/99 [============================>.] - ETA: 0s - loss: 0.3393 - accuracy: 0.8636WARNING:tensorflow:Early stopping conditioned on metric `val_recall` which is not available. Available metrics are: loss,accuracy,val_loss,val_accuracy\n",
      "99/99 [==============================] - 0s 3ms/step - loss: 0.3392 - accuracy: 0.8633 - val_loss: 0.2971 - val_accuracy: 0.8856\n",
      "Epoch 68/100\n",
      "90/99 [==========================>...] - ETA: 0s - loss: 0.3408 - accuracy: 0.8591WARNING:tensorflow:Early stopping conditioned on metric `val_recall` which is not available. Available metrics are: loss,accuracy,val_loss,val_accuracy\n",
      "99/99 [==============================] - 0s 4ms/step - loss: 0.3385 - accuracy: 0.8605 - val_loss: 0.2963 - val_accuracy: 0.8900\n",
      "Epoch 69/100\n",
      "89/99 [=========================>....] - ETA: 0s - loss: 0.3363 - accuracy: 0.8633WARNING:tensorflow:Early stopping conditioned on metric `val_recall` which is not available. Available metrics are: loss,accuracy,val_loss,val_accuracy\n",
      "99/99 [==============================] - 0s 4ms/step - loss: 0.3380 - accuracy: 0.8625 - val_loss: 0.2987 - val_accuracy: 0.8922\n",
      "Epoch 70/100\n",
      "97/99 [============================>.] - ETA: 0s - loss: 0.3384 - accuracy: 0.8617WARNING:tensorflow:Early stopping conditioned on metric `val_recall` which is not available. Available metrics are: loss,accuracy,val_loss,val_accuracy\n",
      "99/99 [==============================] - 0s 4ms/step - loss: 0.3378 - accuracy: 0.8620 - val_loss: 0.2977 - val_accuracy: 0.8922\n",
      "Epoch 71/100\n",
      "85/99 [========================>.....] - ETA: 0s - loss: 0.3410 - accuracy: 0.8590WARNING:tensorflow:Early stopping conditioned on metric `val_recall` which is not available. Available metrics are: loss,accuracy,val_loss,val_accuracy\n",
      "99/99 [==============================] - 0s 4ms/step - loss: 0.3392 - accuracy: 0.8600 - val_loss: 0.2969 - val_accuracy: 0.8833\n",
      "Epoch 72/100\n",
      "90/99 [==========================>...] - ETA: 0s - loss: 0.3356 - accuracy: 0.8625WARNING:tensorflow:Early stopping conditioned on metric `val_recall` which is not available. Available metrics are: loss,accuracy,val_loss,val_accuracy\n",
      "99/99 [==============================] - 0s 4ms/step - loss: 0.3376 - accuracy: 0.8610 - val_loss: 0.2994 - val_accuracy: 0.8889\n",
      "Epoch 73/100\n",
      "99/99 [==============================] - ETA: 0s - loss: 0.3377 - accuracy: 0.8619WARNING:tensorflow:Early stopping conditioned on metric `val_recall` which is not available. Available metrics are: loss,accuracy,val_loss,val_accuracy\n",
      "99/99 [==============================] - 0s 4ms/step - loss: 0.3377 - accuracy: 0.8619 - val_loss: 0.2947 - val_accuracy: 0.8889\n",
      "Epoch 74/100\n",
      "96/99 [============================>.] - ETA: 0s - loss: 0.3382 - accuracy: 0.8610WARNING:tensorflow:Early stopping conditioned on metric `val_recall` which is not available. Available metrics are: loss,accuracy,val_loss,val_accuracy\n",
      "99/99 [==============================] - 1s 6ms/step - loss: 0.3371 - accuracy: 0.8617 - val_loss: 0.3007 - val_accuracy: 0.8878\n",
      "Epoch 75/100\n",
      "92/99 [==========================>...] - ETA: 0s - loss: 0.3388 - accuracy: 0.8592WARNING:tensorflow:Early stopping conditioned on metric `val_recall` which is not available. Available metrics are: loss,accuracy,val_loss,val_accuracy\n",
      "99/99 [==============================] - 0s 4ms/step - loss: 0.3384 - accuracy: 0.8589 - val_loss: 0.2995 - val_accuracy: 0.8833\n",
      "Epoch 76/100\n",
      "96/99 [============================>.] - ETA: 0s - loss: 0.3362 - accuracy: 0.8632WARNING:tensorflow:Early stopping conditioned on metric `val_recall` which is not available. Available metrics are: loss,accuracy,val_loss,val_accuracy\n",
      "99/99 [==============================] - 0s 4ms/step - loss: 0.3372 - accuracy: 0.8626 - val_loss: 0.2949 - val_accuracy: 0.8922\n",
      "Epoch 77/100\n",
      "85/99 [========================>.....] - ETA: 0s - loss: 0.3355 - accuracy: 0.8618WARNING:tensorflow:Early stopping conditioned on metric `val_recall` which is not available. Available metrics are: loss,accuracy,val_loss,val_accuracy\n",
      "99/99 [==============================] - 0s 4ms/step - loss: 0.3367 - accuracy: 0.8612 - val_loss: 0.2948 - val_accuracy: 0.8856\n",
      "Epoch 78/100\n",
      "90/99 [==========================>...] - ETA: 0s - loss: 0.3354 - accuracy: 0.8627WARNING:tensorflow:Early stopping conditioned on metric `val_recall` which is not available. Available metrics are: loss,accuracy,val_loss,val_accuracy\n",
      "99/99 [==============================] - 0s 4ms/step - loss: 0.3382 - accuracy: 0.8606 - val_loss: 0.3008 - val_accuracy: 0.8911\n",
      "Epoch 79/100\n",
      "94/99 [===========================>..] - ETA: 0s - loss: 0.3386 - accuracy: 0.8611WARNING:tensorflow:Early stopping conditioned on metric `val_recall` which is not available. Available metrics are: loss,accuracy,val_loss,val_accuracy\n",
      "99/99 [==============================] - 0s 4ms/step - loss: 0.3373 - accuracy: 0.8625 - val_loss: 0.2978 - val_accuracy: 0.8889\n",
      "Epoch 80/100\n",
      "94/99 [===========================>..] - ETA: 0s - loss: 0.3367 - accuracy: 0.8616WARNING:tensorflow:Early stopping conditioned on metric `val_recall` which is not available. Available metrics are: loss,accuracy,val_loss,val_accuracy\n",
      "99/99 [==============================] - 0s 4ms/step - loss: 0.3357 - accuracy: 0.8632 - val_loss: 0.2960 - val_accuracy: 0.8889\n",
      "Epoch 81/100\n",
      "92/99 [==========================>...] - ETA: 0s - loss: 0.3395 - accuracy: 0.8600WARNING:tensorflow:Early stopping conditioned on metric `val_recall` which is not available. Available metrics are: loss,accuracy,val_loss,val_accuracy\n",
      "99/99 [==============================] - 0s 4ms/step - loss: 0.3372 - accuracy: 0.8621 - val_loss: 0.3074 - val_accuracy: 0.8789\n",
      "Epoch 82/100\n",
      "83/99 [========================>.....] - ETA: 0s - loss: 0.3348 - accuracy: 0.8609WARNING:tensorflow:Early stopping conditioned on metric `val_recall` which is not available. Available metrics are: loss,accuracy,val_loss,val_accuracy\n",
      "99/99 [==============================] - 0s 3ms/step - loss: 0.3351 - accuracy: 0.8615 - val_loss: 0.2991 - val_accuracy: 0.8833\n",
      "Epoch 83/100\n",
      "92/99 [==========================>...] - ETA: 0s - loss: 0.3351 - accuracy: 0.8639WARNING:tensorflow:Early stopping conditioned on metric `val_recall` which is not available. Available metrics are: loss,accuracy,val_loss,val_accuracy\n",
      "99/99 [==============================] - 0s 3ms/step - loss: 0.3349 - accuracy: 0.8637 - val_loss: 0.2993 - val_accuracy: 0.8822\n",
      "Epoch 84/100\n",
      "84/99 [========================>.....] - ETA: 0s - loss: 0.3347 - accuracy: 0.8627WARNING:tensorflow:Early stopping conditioned on metric `val_recall` which is not available. Available metrics are: loss,accuracy,val_loss,val_accuracy\n",
      "99/99 [==============================] - 0s 3ms/step - loss: 0.3359 - accuracy: 0.8611 - val_loss: 0.2957 - val_accuracy: 0.8922\n",
      "Epoch 85/100\n",
      "81/99 [=======================>......] - ETA: 0s - loss: 0.3352 - accuracy: 0.8597WARNING:tensorflow:Early stopping conditioned on metric `val_recall` which is not available. Available metrics are: loss,accuracy,val_loss,val_accuracy\n",
      "99/99 [==============================] - 0s 2ms/step - loss: 0.3348 - accuracy: 0.8605 - val_loss: 0.2980 - val_accuracy: 0.8889\n",
      "Epoch 86/100\n",
      "88/99 [=========================>....] - ETA: 0s - loss: 0.3329 - accuracy: 0.8628WARNING:tensorflow:Early stopping conditioned on metric `val_recall` which is not available. Available metrics are: loss,accuracy,val_loss,val_accuracy\n",
      "99/99 [==============================] - 0s 3ms/step - loss: 0.3350 - accuracy: 0.8620 - val_loss: 0.2938 - val_accuracy: 0.8956\n",
      "Epoch 87/100\n",
      "89/99 [=========================>....] - ETA: 0s - loss: 0.3351 - accuracy: 0.8620WARNING:tensorflow:Early stopping conditioned on metric `val_recall` which is not available. Available metrics are: loss,accuracy,val_loss,val_accuracy\n",
      "99/99 [==============================] - 0s 2ms/step - loss: 0.3348 - accuracy: 0.8619 - val_loss: 0.2966 - val_accuracy: 0.8822\n",
      "Epoch 88/100\n",
      "95/99 [===========================>..] - ETA: 0s - loss: 0.3352 - accuracy: 0.8634WARNING:tensorflow:Early stopping conditioned on metric `val_recall` which is not available. Available metrics are: loss,accuracy,val_loss,val_accuracy\n",
      "99/99 [==============================] - 0s 3ms/step - loss: 0.3350 - accuracy: 0.8636 - val_loss: 0.2934 - val_accuracy: 0.8889\n",
      "Epoch 89/100\n",
      "88/99 [=========================>....] - ETA: 0s - loss: 0.3350 - accuracy: 0.8621WARNING:tensorflow:Early stopping conditioned on metric `val_recall` which is not available. Available metrics are: loss,accuracy,val_loss,val_accuracy\n",
      "99/99 [==============================] - 0s 2ms/step - loss: 0.3344 - accuracy: 0.8626 - val_loss: 0.2942 - val_accuracy: 0.8878\n",
      "Epoch 90/100\n",
      "81/99 [=======================>......] - ETA: 0s - loss: 0.3365 - accuracy: 0.8613WARNING:tensorflow:Early stopping conditioned on metric `val_recall` which is not available. Available metrics are: loss,accuracy,val_loss,val_accuracy\n",
      "99/99 [==============================] - 0s 3ms/step - loss: 0.3338 - accuracy: 0.8631 - val_loss: 0.2968 - val_accuracy: 0.8900\n",
      "Epoch 91/100\n",
      "70/99 [====================>.........] - ETA: 0s - loss: 0.3267 - accuracy: 0.8666WARNING:tensorflow:Early stopping conditioned on metric `val_recall` which is not available. Available metrics are: loss,accuracy,val_loss,val_accuracy\n",
      "99/99 [==============================] - 0s 2ms/step - loss: 0.3338 - accuracy: 0.8619 - val_loss: 0.2989 - val_accuracy: 0.8889\n",
      "Epoch 92/100\n",
      "85/99 [========================>.....] - ETA: 0s - loss: 0.3291 - accuracy: 0.8664WARNING:tensorflow:Early stopping conditioned on metric `val_recall` which is not available. Available metrics are: loss,accuracy,val_loss,val_accuracy\n",
      "99/99 [==============================] - 0s 2ms/step - loss: 0.3334 - accuracy: 0.8637 - val_loss: 0.3065 - val_accuracy: 0.8878\n",
      "Epoch 93/100\n",
      "84/99 [========================>.....] - ETA: 0s - loss: 0.3341 - accuracy: 0.8640WARNING:tensorflow:Early stopping conditioned on metric `val_recall` which is not available. Available metrics are: loss,accuracy,val_loss,val_accuracy\n",
      "99/99 [==============================] - 0s 2ms/step - loss: 0.3344 - accuracy: 0.8646 - val_loss: 0.2924 - val_accuracy: 0.8933\n",
      "Epoch 94/100\n",
      "88/99 [=========================>....] - ETA: 0s - loss: 0.3344 - accuracy: 0.8639WARNING:tensorflow:Early stopping conditioned on metric `val_recall` which is not available. Available metrics are: loss,accuracy,val_loss,val_accuracy\n",
      "99/99 [==============================] - 0s 2ms/step - loss: 0.3343 - accuracy: 0.8632 - val_loss: 0.3042 - val_accuracy: 0.8833\n",
      "Epoch 95/100\n",
      "77/99 [======================>.......] - ETA: 0s - loss: 0.3257 - accuracy: 0.8671WARNING:tensorflow:Early stopping conditioned on metric `val_recall` which is not available. Available metrics are: loss,accuracy,val_loss,val_accuracy\n",
      "99/99 [==============================] - 0s 4ms/step - loss: 0.3334 - accuracy: 0.8633 - val_loss: 0.2930 - val_accuracy: 0.8922\n",
      "Epoch 96/100\n",
      "76/99 [======================>.......] - ETA: 0s - loss: 0.3350 - accuracy: 0.8618WARNING:tensorflow:Early stopping conditioned on metric `val_recall` which is not available. Available metrics are: loss,accuracy,val_loss,val_accuracy\n",
      "99/99 [==============================] - 0s 2ms/step - loss: 0.3336 - accuracy: 0.8620 - val_loss: 0.2955 - val_accuracy: 0.8867\n",
      "Epoch 97/100\n",
      "84/99 [========================>.....] - ETA: 0s - loss: 0.3365 - accuracy: 0.8627WARNING:tensorflow:Early stopping conditioned on metric `val_recall` which is not available. Available metrics are: loss,accuracy,val_loss,val_accuracy\n",
      "99/99 [==============================] - 0s 2ms/step - loss: 0.3350 - accuracy: 0.8623 - val_loss: 0.2943 - val_accuracy: 0.8878\n",
      "Epoch 98/100\n",
      "92/99 [==========================>...] - ETA: 0s - loss: 0.3344 - accuracy: 0.8639WARNING:tensorflow:Early stopping conditioned on metric `val_recall` which is not available. Available metrics are: loss,accuracy,val_loss,val_accuracy\n",
      "99/99 [==============================] - 0s 2ms/step - loss: 0.3336 - accuracy: 0.8656 - val_loss: 0.3045 - val_accuracy: 0.8789\n",
      "Epoch 99/100\n",
      "83/99 [========================>.....] - ETA: 0s - loss: 0.3339 - accuracy: 0.8623WARNING:tensorflow:Early stopping conditioned on metric `val_recall` which is not available. Available metrics are: loss,accuracy,val_loss,val_accuracy\n",
      "99/99 [==============================] - 0s 2ms/step - loss: 0.3338 - accuracy: 0.8641 - val_loss: 0.2950 - val_accuracy: 0.8911\n",
      "Epoch 100/100\n",
      "88/99 [=========================>....] - ETA: 0s - loss: 0.3324 - accuracy: 0.8636WARNING:tensorflow:Early stopping conditioned on metric `val_recall` which is not available. Available metrics are: loss,accuracy,val_loss,val_accuracy\n",
      "99/99 [==============================] - 0s 2ms/step - loss: 0.3321 - accuracy: 0.8630 - val_loss: 0.2903 - val_accuracy: 0.8978\n"
     ]
    },
    {
     "data": {
      "text/plain": [
       "<keras.callbacks.History at 0x1fe3a770d90>"
      ]
     },
     "execution_count": 58,
     "metadata": {},
     "output_type": "execute_result"
    }
   ],
   "source": [
    "model.fit(x = X_train, y = y_train, validation_split = 0.1, batch_size = 82, epochs = 100, verbose = 1,\n",
    "          callbacks = [early_stop])"
   ]
  },
  {
   "cell_type": "code",
   "execution_count": 59,
   "metadata": {},
   "outputs": [
    {
     "name": "stdout",
     "output_type": "stream",
     "text": [
      "Help on class EarlyStopping in module keras.callbacks:\n",
      "\n",
      "class EarlyStopping(Callback)\n",
      " |  EarlyStopping(monitor='val_loss', min_delta=0, patience=0, verbose=0, mode='auto', baseline=None, restore_best_weights=False)\n",
      " |  \n",
      " |  Stop training when a monitored metric has stopped improving.\n",
      " |  \n",
      " |  Assuming the goal of a training is to minimize the loss. With this, the\n",
      " |  metric to be monitored would be `'loss'`, and mode would be `'min'`. A\n",
      " |  `model.fit()` training loop will check at end of every epoch whether\n",
      " |  the loss is no longer decreasing, considering the `min_delta` and\n",
      " |  `patience` if applicable. Once it's found no longer decreasing,\n",
      " |  `model.stop_training` is marked True and the training terminates.\n",
      " |  \n",
      " |  The quantity to be monitored needs to be available in `logs` dict.\n",
      " |  To make it so, pass the loss or metrics at `model.compile()`.\n",
      " |  \n",
      " |  Args:\n",
      " |    monitor: Quantity to be monitored.\n",
      " |    min_delta: Minimum change in the monitored quantity\n",
      " |        to qualify as an improvement, i.e. an absolute\n",
      " |        change of less than min_delta, will count as no\n",
      " |        improvement.\n",
      " |    patience: Number of epochs with no improvement\n",
      " |        after which training will be stopped.\n",
      " |    verbose: Verbosity mode, 0 or 1. Mode 0 is silent, and mode 1\n",
      " |        displays messages when the callback takes an action.\n",
      " |    mode: One of `{\"auto\", \"min\", \"max\"}`. In `min` mode,\n",
      " |        training will stop when the quantity\n",
      " |        monitored has stopped decreasing; in `\"max\"`\n",
      " |        mode it will stop when the quantity\n",
      " |        monitored has stopped increasing; in `\"auto\"`\n",
      " |        mode, the direction is automatically inferred\n",
      " |        from the name of the monitored quantity.\n",
      " |    baseline: Baseline value for the monitored quantity.\n",
      " |        Training will stop if the model doesn't show improvement over the\n",
      " |        baseline.\n",
      " |    restore_best_weights: Whether to restore model weights from\n",
      " |        the epoch with the best value of the monitored quantity.\n",
      " |        If False, the model weights obtained at the last step of\n",
      " |        training are used. An epoch will be restored regardless\n",
      " |        of the performance relative to the `baseline`. If no epoch\n",
      " |        improves on `baseline`, training will run for `patience`\n",
      " |        epochs and restore weights from the best epoch in that set.\n",
      " |  \n",
      " |  Example:\n",
      " |  \n",
      " |  >>> callback = tf.keras.callbacks.EarlyStopping(monitor='loss', patience=3)\n",
      " |  >>> # This callback will stop the training when there is no improvement in\n",
      " |  >>> # the loss for three consecutive epochs.\n",
      " |  >>> model = tf.keras.models.Sequential([tf.keras.layers.Dense(10)])\n",
      " |  >>> model.compile(tf.keras.optimizers.SGD(), loss='mse')\n",
      " |  >>> history = model.fit(np.arange(100).reshape(5, 20), np.zeros(5),\n",
      " |  ...                     epochs=10, batch_size=1, callbacks=[callback],\n",
      " |  ...                     verbose=0)\n",
      " |  >>> len(history.history['loss'])  # Only 4 epochs are run.\n",
      " |  4\n",
      " |  \n",
      " |  Method resolution order:\n",
      " |      EarlyStopping\n",
      " |      Callback\n",
      " |      builtins.object\n",
      " |  \n",
      " |  Methods defined here:\n",
      " |  \n",
      " |  __init__(self, monitor='val_loss', min_delta=0, patience=0, verbose=0, mode='auto', baseline=None, restore_best_weights=False)\n",
      " |      Initialize self.  See help(type(self)) for accurate signature.\n",
      " |  \n",
      " |  get_monitor_value(self, logs)\n",
      " |  \n",
      " |  on_epoch_end(self, epoch, logs=None)\n",
      " |      Called at the end of an epoch.\n",
      " |      \n",
      " |      Subclasses should override for any actions to run. This function should only\n",
      " |      be called during TRAIN mode.\n",
      " |      \n",
      " |      Args:\n",
      " |          epoch: Integer, index of epoch.\n",
      " |          logs: Dict, metric results for this training epoch, and for the\n",
      " |            validation epoch if validation is performed. Validation result keys\n",
      " |            are prefixed with `val_`. For training epoch, the values of the\n",
      " |           `Model`'s metrics are returned. Example : `{'loss': 0.2, 'accuracy':\n",
      " |             0.7}`.\n",
      " |  \n",
      " |  on_train_begin(self, logs=None)\n",
      " |      Called at the beginning of training.\n",
      " |      \n",
      " |      Subclasses should override for any actions to run.\n",
      " |      \n",
      " |      Args:\n",
      " |          logs: Dict. Currently no data is passed to this argument for this method\n",
      " |            but that may change in the future.\n",
      " |  \n",
      " |  on_train_end(self, logs=None)\n",
      " |      Called at the end of training.\n",
      " |      \n",
      " |      Subclasses should override for any actions to run.\n",
      " |      \n",
      " |      Args:\n",
      " |          logs: Dict. Currently the output of the last call to `on_epoch_end()`\n",
      " |            is passed to this argument for this method but that may change in\n",
      " |            the future.\n",
      " |  \n",
      " |  ----------------------------------------------------------------------\n",
      " |  Methods inherited from Callback:\n",
      " |  \n",
      " |  on_batch_begin(self, batch, logs=None)\n",
      " |      A backwards compatibility alias for `on_train_batch_begin`.\n",
      " |  \n",
      " |  on_batch_end(self, batch, logs=None)\n",
      " |      A backwards compatibility alias for `on_train_batch_end`.\n",
      " |  \n",
      " |  on_epoch_begin(self, epoch, logs=None)\n",
      " |      Called at the start of an epoch.\n",
      " |      \n",
      " |      Subclasses should override for any actions to run. This function should only\n",
      " |      be called during TRAIN mode.\n",
      " |      \n",
      " |      Args:\n",
      " |          epoch: Integer, index of epoch.\n",
      " |          logs: Dict. Currently no data is passed to this argument for this method\n",
      " |            but that may change in the future.\n",
      " |  \n",
      " |  on_predict_batch_begin(self, batch, logs=None)\n",
      " |      Called at the beginning of a batch in `predict` methods.\n",
      " |      \n",
      " |      Subclasses should override for any actions to run.\n",
      " |      \n",
      " |      Note that if the `steps_per_execution` argument to `compile` in\n",
      " |      `tf.keras.Model` is set to `N`, this method will only be called every `N`\n",
      " |      batches.\n",
      " |      \n",
      " |      Args:\n",
      " |          batch: Integer, index of batch within the current epoch.\n",
      " |          logs: Dict. Currently no data is passed to this argument for this method\n",
      " |            but that may change in the future.\n",
      " |  \n",
      " |  on_predict_batch_end(self, batch, logs=None)\n",
      " |      Called at the end of a batch in `predict` methods.\n",
      " |      \n",
      " |      Subclasses should override for any actions to run.\n",
      " |      \n",
      " |      Note that if the `steps_per_execution` argument to `compile` in\n",
      " |      `tf.keras.Model` is set to `N`, this method will only be called every `N`\n",
      " |      batches.\n",
      " |      \n",
      " |      Args:\n",
      " |          batch: Integer, index of batch within the current epoch.\n",
      " |          logs: Dict. Aggregated metric results up until this batch.\n",
      " |  \n",
      " |  on_predict_begin(self, logs=None)\n",
      " |      Called at the beginning of prediction.\n",
      " |      \n",
      " |      Subclasses should override for any actions to run.\n",
      " |      \n",
      " |      Args:\n",
      " |          logs: Dict. Currently no data is passed to this argument for this method\n",
      " |            but that may change in the future.\n",
      " |  \n",
      " |  on_predict_end(self, logs=None)\n",
      " |      Called at the end of prediction.\n",
      " |      \n",
      " |      Subclasses should override for any actions to run.\n",
      " |      \n",
      " |      Args:\n",
      " |          logs: Dict. Currently no data is passed to this argument for this method\n",
      " |            but that may change in the future.\n",
      " |  \n",
      " |  on_test_batch_begin(self, batch, logs=None)\n",
      " |      Called at the beginning of a batch in `evaluate` methods.\n",
      " |      \n",
      " |      Also called at the beginning of a validation batch in the `fit`\n",
      " |      methods, if validation data is provided.\n",
      " |      \n",
      " |      Subclasses should override for any actions to run.\n",
      " |      \n",
      " |      Note that if the `steps_per_execution` argument to `compile` in\n",
      " |      `tf.keras.Model` is set to `N`, this method will only be called every `N`\n",
      " |      batches.\n",
      " |      \n",
      " |      Args:\n",
      " |          batch: Integer, index of batch within the current epoch.\n",
      " |          logs: Dict. Currently no data is passed to this argument for this method\n",
      " |            but that may change in the future.\n",
      " |  \n",
      " |  on_test_batch_end(self, batch, logs=None)\n",
      " |      Called at the end of a batch in `evaluate` methods.\n",
      " |      \n",
      " |      Also called at the end of a validation batch in the `fit`\n",
      " |      methods, if validation data is provided.\n",
      " |      \n",
      " |      Subclasses should override for any actions to run.\n",
      " |      \n",
      " |      Note that if the `steps_per_execution` argument to `compile` in\n",
      " |      `tf.keras.Model` is set to `N`, this method will only be called every `N`\n",
      " |      batches.\n",
      " |      \n",
      " |      Args:\n",
      " |          batch: Integer, index of batch within the current epoch.\n",
      " |          logs: Dict. Aggregated metric results up until this batch.\n",
      " |  \n",
      " |  on_test_begin(self, logs=None)\n",
      " |      Called at the beginning of evaluation or validation.\n",
      " |      \n",
      " |      Subclasses should override for any actions to run.\n",
      " |      \n",
      " |      Args:\n",
      " |          logs: Dict. Currently no data is passed to this argument for this method\n",
      " |            but that may change in the future.\n",
      " |  \n",
      " |  on_test_end(self, logs=None)\n",
      " |      Called at the end of evaluation or validation.\n",
      " |      \n",
      " |      Subclasses should override for any actions to run.\n",
      " |      \n",
      " |      Args:\n",
      " |          logs: Dict. Currently the output of the last call to\n",
      " |            `on_test_batch_end()` is passed to this argument for this method\n",
      " |            but that may change in the future.\n",
      " |  \n",
      " |  on_train_batch_begin(self, batch, logs=None)\n",
      " |      Called at the beginning of a training batch in `fit` methods.\n",
      " |      \n",
      " |      Subclasses should override for any actions to run.\n",
      " |      \n",
      " |      Note that if the `steps_per_execution` argument to `compile` in\n",
      " |      `tf.keras.Model` is set to `N`, this method will only be called every `N`\n",
      " |      batches.\n",
      " |      \n",
      " |      Args:\n",
      " |          batch: Integer, index of batch within the current epoch.\n",
      " |          logs: Dict. Currently no data is passed to this argument for this method\n",
      " |            but that may change in the future.\n",
      " |  \n",
      " |  on_train_batch_end(self, batch, logs=None)\n",
      " |      Called at the end of a training batch in `fit` methods.\n",
      " |      \n",
      " |      Subclasses should override for any actions to run.\n",
      " |      \n",
      " |      Note that if the `steps_per_execution` argument to `compile` in\n",
      " |      `tf.keras.Model` is set to `N`, this method will only be called every `N`\n",
      " |      batches.\n",
      " |      \n",
      " |      Args:\n",
      " |          batch: Integer, index of batch within the current epoch.\n",
      " |          logs: Dict. Aggregated metric results up until this batch.\n",
      " |  \n",
      " |  set_model(self, model)\n",
      " |  \n",
      " |  set_params(self, params)\n",
      " |  \n",
      " |  ----------------------------------------------------------------------\n",
      " |  Data descriptors inherited from Callback:\n",
      " |  \n",
      " |  __dict__\n",
      " |      dictionary for instance variables (if defined)\n",
      " |  \n",
      " |  __weakref__\n",
      " |      list of weak references to the object (if defined)\n",
      "\n"
     ]
    }
   ],
   "source": [
    "help(EarlyStopping)"
   ]
  },
  {
   "cell_type": "code",
   "execution_count": 60,
   "metadata": {},
   "outputs": [
    {
     "name": "stdout",
     "output_type": "stream",
     "text": [
      "loss :  0.34037432074546814\n",
      "accuracy :  0.859000027179718\n"
     ]
    }
   ],
   "source": [
    "loss, accuracy = model.evaluate(X_test, y_test, verbose=0)\n",
    "print(\"loss : \", loss)\n",
    "print(\"accuracy : \", accuracy)"
   ]
  },
  {
   "cell_type": "markdown",
   "metadata": {},
   "source": [
    "## GridSearchCV"
   ]
  },
  {
   "cell_type": "code",
   "execution_count": 61,
   "metadata": {},
   "outputs": [],
   "source": [
    "from tensorflow.keras.optimizers import Adam, Adadelta, RMSprop, Nadam"
   ]
  },
  {
   "cell_type": "code",
   "execution_count": 62,
   "metadata": {},
   "outputs": [],
   "source": [
    "from tensorflow.keras.wrappers.scikit_learn import KerasClassifier"
   ]
  },
  {
   "cell_type": "code",
   "execution_count": 63,
   "metadata": {},
   "outputs": [],
   "source": [
    "seed = 42"
   ]
  },
  {
   "cell_type": "code",
   "execution_count": 64,
   "metadata": {},
   "outputs": [],
   "source": [
    "def build_classifier(optimizer, learn_rate):\n",
    "    tf.random.set_seed(seed)\n",
    "    classifier = Sequential()\n",
    "    classifier.add(Dense(units = 16, activation = 'relu'))\n",
    "    classifier.add(Dense(units = 8, activation = 'relu'))\n",
    "    classifier.add(Dense(units = 8, activation = 'relu'))\n",
    "    classifier.add(Dense(units = 1, activation = 'sigmoid'))\n",
    "    classifier.compile(optimizer = optimizer(learn_rate), loss = 'binary_crossentropy', metrics = ['accuracy'])\n",
    "    return classifier"
   ]
  },
  {
   "cell_type": "code",
   "execution_count": 65,
   "metadata": {},
   "outputs": [],
   "source": [
    "early_stop = EarlyStopping(monitor = \"val_loss\", mode = \"min\", verbose = 1, patience = 15, restore_best_weights = True)"
   ]
  },
  {
   "cell_type": "code",
   "execution_count": 66,
   "metadata": {},
   "outputs": [
    {
     "name": "stdout",
     "output_type": "stream",
     "text": [
      "Fitting 10 folds for each of 8 candidates, totalling 80 fits\n",
      "Epoch 1/150\n",
      "127/127 [==============================] - 3s 7ms/step - loss: 0.5048 - accuracy: 0.7893 - val_loss: 0.4607 - val_accuracy: 0.7989\n",
      "Epoch 2/150\n",
      "127/127 [==============================] - 0s 3ms/step - loss: 0.4610 - accuracy: 0.7984 - val_loss: 0.4292 - val_accuracy: 0.8233\n",
      "Epoch 3/150\n",
      "127/127 [==============================] - 0s 3ms/step - loss: 0.4412 - accuracy: 0.8115 - val_loss: 0.4035 - val_accuracy: 0.8400\n",
      "Epoch 4/150\n",
      "127/127 [==============================] - 0s 3ms/step - loss: 0.4293 - accuracy: 0.8174 - val_loss: 0.3971 - val_accuracy: 0.8444\n",
      "Epoch 5/150\n",
      "127/127 [==============================] - 0s 4ms/step - loss: 0.4218 - accuracy: 0.8211 - val_loss: 0.3978 - val_accuracy: 0.8411\n",
      "Epoch 6/150\n",
      "127/127 [==============================] - 0s 4ms/step - loss: 0.4178 - accuracy: 0.8223 - val_loss: 0.3752 - val_accuracy: 0.8522\n",
      "Epoch 7/150\n",
      "127/127 [==============================] - 0s 3ms/step - loss: 0.4097 - accuracy: 0.8269 - val_loss: 0.3724 - val_accuracy: 0.8567\n",
      "Epoch 8/150\n",
      "127/127 [==============================] - 1s 4ms/step - loss: 0.4031 - accuracy: 0.8314 - val_loss: 0.3790 - val_accuracy: 0.8600\n",
      "Epoch 9/150\n",
      "127/127 [==============================] - 0s 3ms/step - loss: 0.3974 - accuracy: 0.8389 - val_loss: 0.3497 - val_accuracy: 0.8711\n",
      "Epoch 10/150\n",
      "127/127 [==============================] - 0s 3ms/step - loss: 0.3919 - accuracy: 0.8411 - val_loss: 0.3461 - val_accuracy: 0.8678\n",
      "Epoch 11/150\n",
      "127/127 [==============================] - 0s 3ms/step - loss: 0.3822 - accuracy: 0.8462 - val_loss: 0.3294 - val_accuracy: 0.8822\n",
      "Epoch 12/150\n",
      "127/127 [==============================] - 0s 4ms/step - loss: 0.3741 - accuracy: 0.8493 - val_loss: 0.3257 - val_accuracy: 0.8889\n",
      "Epoch 13/150\n",
      "127/127 [==============================] - 0s 3ms/step - loss: 0.3638 - accuracy: 0.8559 - val_loss: 0.3220 - val_accuracy: 0.8922\n",
      "Epoch 14/150\n",
      "127/127 [==============================] - 0s 4ms/step - loss: 0.3581 - accuracy: 0.8563 - val_loss: 0.3326 - val_accuracy: 0.8778\n",
      "Epoch 15/150\n",
      "127/127 [==============================] - 0s 4ms/step - loss: 0.3561 - accuracy: 0.8553 - val_loss: 0.3085 - val_accuracy: 0.8822\n",
      "Epoch 16/150\n",
      "127/127 [==============================] - 0s 3ms/step - loss: 0.3558 - accuracy: 0.8523 - val_loss: 0.3053 - val_accuracy: 0.8844\n",
      "Epoch 17/150\n",
      "127/127 [==============================] - 1s 4ms/step - loss: 0.3533 - accuracy: 0.8544 - val_loss: 0.3276 - val_accuracy: 0.8778\n",
      "Epoch 18/150\n",
      "127/127 [==============================] - 1s 4ms/step - loss: 0.3533 - accuracy: 0.8549 - val_loss: 0.2971 - val_accuracy: 0.8878\n",
      "Epoch 19/150\n",
      "127/127 [==============================] - 1s 6ms/step - loss: 0.3509 - accuracy: 0.8551 - val_loss: 0.3024 - val_accuracy: 0.8833\n",
      "Epoch 20/150\n",
      "127/127 [==============================] - 0s 3ms/step - loss: 0.3507 - accuracy: 0.8532 - val_loss: 0.3150 - val_accuracy: 0.8789\n",
      "Epoch 21/150\n",
      "127/127 [==============================] - 0s 3ms/step - loss: 0.3508 - accuracy: 0.8564 - val_loss: 0.3002 - val_accuracy: 0.8900\n",
      "Epoch 22/150\n",
      "127/127 [==============================] - 0s 4ms/step - loss: 0.3502 - accuracy: 0.8551 - val_loss: 0.2977 - val_accuracy: 0.8889\n",
      "Epoch 23/150\n",
      "127/127 [==============================] - 0s 4ms/step - loss: 0.3485 - accuracy: 0.8559 - val_loss: 0.2976 - val_accuracy: 0.8878\n",
      "Epoch 24/150\n",
      "127/127 [==============================] - 0s 3ms/step - loss: 0.3488 - accuracy: 0.8567 - val_loss: 0.3011 - val_accuracy: 0.8822\n",
      "Epoch 25/150\n",
      "127/127 [==============================] - 0s 4ms/step - loss: 0.3484 - accuracy: 0.8565 - val_loss: 0.3060 - val_accuracy: 0.8811\n",
      "Epoch 26/150\n",
      "127/127 [==============================] - 1s 4ms/step - loss: 0.3476 - accuracy: 0.8562 - val_loss: 0.3063 - val_accuracy: 0.8811\n",
      "Epoch 27/150\n",
      "127/127 [==============================] - 0s 4ms/step - loss: 0.3456 - accuracy: 0.8588 - val_loss: 0.3054 - val_accuracy: 0.8867\n",
      "Epoch 28/150\n",
      "127/127 [==============================] - 0s 3ms/step - loss: 0.3470 - accuracy: 0.8543 - val_loss: 0.3015 - val_accuracy: 0.8833\n",
      "Epoch 29/150\n",
      "127/127 [==============================] - 1s 4ms/step - loss: 0.3457 - accuracy: 0.8570 - val_loss: 0.3020 - val_accuracy: 0.8911\n",
      "Epoch 30/150\n",
      "127/127 [==============================] - 0s 4ms/step - loss: 0.3436 - accuracy: 0.8588 - val_loss: 0.2968 - val_accuracy: 0.8833\n",
      "Epoch 31/150\n",
      "127/127 [==============================] - 0s 4ms/step - loss: 0.3447 - accuracy: 0.8574 - val_loss: 0.3108 - val_accuracy: 0.8878\n",
      "Epoch 32/150\n",
      "127/127 [==============================] - 0s 4ms/step - loss: 0.3439 - accuracy: 0.8573 - val_loss: 0.2966 - val_accuracy: 0.8833\n",
      "Epoch 33/150\n",
      "127/127 [==============================] - 0s 4ms/step - loss: 0.3443 - accuracy: 0.8580 - val_loss: 0.3097 - val_accuracy: 0.8833\n",
      "Epoch 34/150\n",
      "127/127 [==============================] - 0s 4ms/step - loss: 0.3431 - accuracy: 0.8588 - val_loss: 0.2944 - val_accuracy: 0.8822\n",
      "Epoch 35/150\n",
      "127/127 [==============================] - 0s 4ms/step - loss: 0.3430 - accuracy: 0.8588 - val_loss: 0.2936 - val_accuracy: 0.8878\n",
      "Epoch 36/150\n",
      "127/127 [==============================] - 0s 4ms/step - loss: 0.3429 - accuracy: 0.8583 - val_loss: 0.2914 - val_accuracy: 0.8856\n",
      "Epoch 37/150\n",
      "127/127 [==============================] - 0s 4ms/step - loss: 0.3420 - accuracy: 0.8606 - val_loss: 0.2957 - val_accuracy: 0.8900\n",
      "Epoch 38/150\n",
      "127/127 [==============================] - 0s 4ms/step - loss: 0.3418 - accuracy: 0.8591 - val_loss: 0.2940 - val_accuracy: 0.8856\n",
      "Epoch 39/150\n",
      "127/127 [==============================] - 0s 4ms/step - loss: 0.3421 - accuracy: 0.8604 - val_loss: 0.2956 - val_accuracy: 0.8844\n",
      "Epoch 40/150\n",
      "127/127 [==============================] - 0s 4ms/step - loss: 0.3415 - accuracy: 0.8586 - val_loss: 0.2930 - val_accuracy: 0.8844\n",
      "Epoch 41/150\n",
      "127/127 [==============================] - 1s 4ms/step - loss: 0.3411 - accuracy: 0.8598 - val_loss: 0.2971 - val_accuracy: 0.8822\n",
      "Epoch 42/150\n",
      "127/127 [==============================] - 0s 4ms/step - loss: 0.3395 - accuracy: 0.8588 - val_loss: 0.2922 - val_accuracy: 0.8822\n",
      "Epoch 43/150\n",
      "127/127 [==============================] - 0s 4ms/step - loss: 0.3412 - accuracy: 0.8583 - val_loss: 0.2921 - val_accuracy: 0.8833\n",
      "Epoch 44/150\n",
      "127/127 [==============================] - 0s 3ms/step - loss: 0.3395 - accuracy: 0.8609 - val_loss: 0.2979 - val_accuracy: 0.8889\n",
      "Epoch 45/150\n",
      "127/127 [==============================] - 0s 3ms/step - loss: 0.3402 - accuracy: 0.8607 - val_loss: 0.2956 - val_accuracy: 0.8833\n",
      "Epoch 46/150\n",
      "127/127 [==============================] - 0s 3ms/step - loss: 0.3406 - accuracy: 0.8596 - val_loss: 0.2939 - val_accuracy: 0.8867\n",
      "Epoch 47/150\n",
      "127/127 [==============================] - 1s 4ms/step - loss: 0.3397 - accuracy: 0.8595 - val_loss: 0.3020 - val_accuracy: 0.8856\n",
      "Epoch 48/150\n",
      "127/127 [==============================] - 0s 4ms/step - loss: 0.3394 - accuracy: 0.8600 - val_loss: 0.2946 - val_accuracy: 0.8822\n",
      "Epoch 49/150\n",
      "127/127 [==============================] - 0s 3ms/step - loss: 0.3389 - accuracy: 0.8601 - val_loss: 0.2937 - val_accuracy: 0.8811\n",
      "Epoch 50/150\n",
      "127/127 [==============================] - 0s 3ms/step - loss: 0.3389 - accuracy: 0.8604 - val_loss: 0.2975 - val_accuracy: 0.8867\n",
      "Epoch 51/150\n",
      "116/127 [==========================>...] - ETA: 0s - loss: 0.3400 - accuracy: 0.8595Restoring model weights from the end of the best epoch: 36.\n",
      "127/127 [==============================] - 0s 3ms/step - loss: 0.3371 - accuracy: 0.8614 - val_loss: 0.2957 - val_accuracy: 0.8833\n",
      "Epoch 51: early stopping\n"
     ]
    },
    {
     "data": {
      "text/plain": [
       "GridSearchCV(cv=10,\n",
       "             estimator=<keras.wrappers.scikit_learn.KerasClassifier object at 0x000001FE3EF05E80>,\n",
       "             n_jobs=-1,\n",
       "             param_grid={'batch_size': [64], 'learn_rate': [0.002, 0.003],\n",
       "                         'optimizer': [<class 'keras.optimizers.optimizer_v2.adam.Adam'>,\n",
       "                                       <class 'keras.optimizers.optimizer_v2.rmsprop.RMSprop'>,\n",
       "                                       <class 'keras.optimizers.optimizer_v2.adadelta.Adadelta'>,\n",
       "                                       <class 'keras.optimizers.optimizer_v2.nadam.Nadam'>]},\n",
       "             scoring='accuracy', verbose=1)"
      ]
     },
     "execution_count": 66,
     "metadata": {},
     "output_type": "execute_result"
    }
   ],
   "source": [
    "classifier_model = KerasClassifier(build_fn = build_classifier, validation_split = 0.1, epochs = 150)\n",
    "\n",
    "parameters = {'batch_size': [64],\n",
    "              'optimizer': [Adam, RMSprop, Adadelta, Nadam],\n",
    "              'learn_rate': [0.002, 0.003]}\n",
    "\n",
    "grid_model = GridSearchCV(estimator = classifier_model,\n",
    "                          param_grid = parameters,\n",
    "                          scoring = 'accuracy',\n",
    "                          cv = 10,\n",
    "                          n_jobs = -1,\n",
    "                          verbose = 1)\n",
    "\n",
    "grid_model.fit(X_train, y_train, callbacks = [early_stop])"
   ]
  },
  {
   "cell_type": "markdown",
   "metadata": {},
   "source": [
    "### Evaluate The Model\n",
    "\n",
    "- Plot the model history to observe the changing of metrics\n",
    "- Make prediction to see \"confusion matrix\" and \"classification report\"\n",
    "- Check ROC (Receiver Operating Curve) and AUC (Area Under Curve) for the model"
   ]
  },
  {
   "cell_type": "code",
   "execution_count": 67,
   "metadata": {},
   "outputs": [
    {
     "data": {
      "text/plain": [
       "0.8585555555555555"
      ]
     },
     "execution_count": 67,
     "metadata": {},
     "output_type": "execute_result"
    }
   ],
   "source": [
    "grid_model.best_score_"
   ]
  },
  {
   "cell_type": "code",
   "execution_count": 68,
   "metadata": {},
   "outputs": [
    {
     "data": {
      "text/plain": [
       "{'batch_size': 64,\n",
       " 'learn_rate': 0.003,\n",
       " 'optimizer': keras.optimizers.optimizer_v2.rmsprop.RMSprop}"
      ]
     },
     "execution_count": 68,
     "metadata": {},
     "output_type": "execute_result"
    }
   ],
   "source": [
    "grid_model.best_params_"
   ]
  },
  {
   "cell_type": "code",
   "execution_count": 69,
   "metadata": {},
   "outputs": [
    {
     "data": {
      "text/html": [
       "<div>\n",
       "<style scoped>\n",
       "    .dataframe tbody tr th:only-of-type {\n",
       "        vertical-align: middle;\n",
       "    }\n",
       "\n",
       "    .dataframe tbody tr th {\n",
       "        vertical-align: top;\n",
       "    }\n",
       "\n",
       "    .dataframe thead th {\n",
       "        text-align: right;\n",
       "    }\n",
       "</style>\n",
       "<table border=\"1\" class=\"dataframe\">\n",
       "  <thead>\n",
       "    <tr style=\"text-align: right;\">\n",
       "      <th></th>\n",
       "      <th>mean_test_score</th>\n",
       "      <th>std_test_score</th>\n",
       "      <th>rank_test_score</th>\n",
       "      <th>params</th>\n",
       "    </tr>\n",
       "  </thead>\n",
       "  <tbody>\n",
       "    <tr>\n",
       "      <th>5</th>\n",
       "      <td>0.859</td>\n",
       "      <td>0.009</td>\n",
       "      <td>1</td>\n",
       "      <td>{'batch_size': 64, 'learn_rate': 0.003, 'optim...</td>\n",
       "    </tr>\n",
       "    <tr>\n",
       "      <th>3</th>\n",
       "      <td>0.858</td>\n",
       "      <td>0.010</td>\n",
       "      <td>2</td>\n",
       "      <td>{'batch_size': 64, 'learn_rate': 0.002, 'optim...</td>\n",
       "    </tr>\n",
       "    <tr>\n",
       "      <th>0</th>\n",
       "      <td>0.858</td>\n",
       "      <td>0.013</td>\n",
       "      <td>3</td>\n",
       "      <td>{'batch_size': 64, 'learn_rate': 0.002, 'optim...</td>\n",
       "    </tr>\n",
       "    <tr>\n",
       "      <th>4</th>\n",
       "      <td>0.858</td>\n",
       "      <td>0.013</td>\n",
       "      <td>4</td>\n",
       "      <td>{'batch_size': 64, 'learn_rate': 0.003, 'optim...</td>\n",
       "    </tr>\n",
       "    <tr>\n",
       "      <th>1</th>\n",
       "      <td>0.858</td>\n",
       "      <td>0.013</td>\n",
       "      <td>5</td>\n",
       "      <td>{'batch_size': 64, 'learn_rate': 0.002, 'optim...</td>\n",
       "    </tr>\n",
       "    <tr>\n",
       "      <th>7</th>\n",
       "      <td>0.857</td>\n",
       "      <td>0.011</td>\n",
       "      <td>6</td>\n",
       "      <td>{'batch_size': 64, 'learn_rate': 0.003, 'optim...</td>\n",
       "    </tr>\n",
       "    <tr>\n",
       "      <th>2</th>\n",
       "      <td>0.796</td>\n",
       "      <td>0.010</td>\n",
       "      <td>7</td>\n",
       "      <td>{'batch_size': 64, 'learn_rate': 0.002, 'optim...</td>\n",
       "    </tr>\n",
       "    <tr>\n",
       "      <th>6</th>\n",
       "      <td>0.796</td>\n",
       "      <td>0.010</td>\n",
       "      <td>7</td>\n",
       "      <td>{'batch_size': 64, 'learn_rate': 0.003, 'optim...</td>\n",
       "    </tr>\n",
       "  </tbody>\n",
       "</table>\n",
       "</div>"
      ],
      "text/plain": [
       "   mean_test_score  std_test_score  rank_test_score  \\\n",
       "5            0.859           0.009                1   \n",
       "3            0.858           0.010                2   \n",
       "0            0.858           0.013                3   \n",
       "4            0.858           0.013                4   \n",
       "1            0.858           0.013                5   \n",
       "7            0.857           0.011                6   \n",
       "2            0.796           0.010                7   \n",
       "6            0.796           0.010                7   \n",
       "\n",
       "                                              params  \n",
       "5  {'batch_size': 64, 'learn_rate': 0.003, 'optim...  \n",
       "3  {'batch_size': 64, 'learn_rate': 0.002, 'optim...  \n",
       "0  {'batch_size': 64, 'learn_rate': 0.002, 'optim...  \n",
       "4  {'batch_size': 64, 'learn_rate': 0.003, 'optim...  \n",
       "1  {'batch_size': 64, 'learn_rate': 0.002, 'optim...  \n",
       "7  {'batch_size': 64, 'learn_rate': 0.003, 'optim...  \n",
       "2  {'batch_size': 64, 'learn_rate': 0.002, 'optim...  \n",
       "6  {'batch_size': 64, 'learn_rate': 0.003, 'optim...  "
      ]
     },
     "execution_count": 69,
     "metadata": {},
     "output_type": "execute_result"
    }
   ],
   "source": [
    "grid_result = pd.DataFrame(grid_model.cv_results_)[[\"mean_test_score\", \"std_test_score\", \"rank_test_score\", \"params\"]].sort_values(by=\"rank_test_score\")\n",
    "grid_result"
   ]
  },
  {
   "cell_type": "code",
   "execution_count": 70,
   "metadata": {},
   "outputs": [
    {
     "name": "stdout",
     "output_type": "stream",
     "text": [
      "32/32 [==============================] - 0s 1ms/step\n",
      "[[759  37]\n",
      " [116  88]]\n",
      "              precision    recall  f1-score   support\n",
      "\n",
      "           0       0.87      0.95      0.91       796\n",
      "           1       0.70      0.43      0.53       204\n",
      "\n",
      "    accuracy                           0.85      1000\n",
      "   macro avg       0.79      0.69      0.72      1000\n",
      "weighted avg       0.83      0.85      0.83      1000\n",
      "\n"
     ]
    }
   ],
   "source": [
    "y_pred = grid_model.predict(X_test)\n",
    "print(confusion_matrix(y_test, y_pred))\n",
    "print(classification_report(y_test, y_pred))"
   ]
  },
  {
   "cell_type": "code",
   "execution_count": 71,
   "metadata": {},
   "outputs": [
    {
     "name": "stdout",
     "output_type": "stream",
     "text": [
      "32/32 [==============================] - 0s 2ms/step\n"
     ]
    },
    {
     "data": {
      "image/png": "[encoded data removed]",
      "text/plain": [
       "<Figure size 720x432 with 1 Axes>"
      ]
     },
     "metadata": {},
     "output_type": "display_data"
    }
   ],
   "source": [
    "y_pred_proba = model.predict(X_test)\n",
    "fpr, tpr, thresholds = roc_curve(y_test, y_pred_proba)\n",
    "plt.plot([0,1],[0,1],'k--')\n",
    "plt.plot(fpr,tpr, label='ANN')\n",
    "plt.xlabel('fpr')\n",
    "plt.ylabel('tpr')\n",
    "plt.title('ROC curve')\n",
    "plt.show()"
   ]
  },
  {
   "cell_type": "code",
   "execution_count": 72,
   "metadata": {},
   "outputs": [
    {
     "data": {
      "text/plain": [
       "0.8612548034289093"
      ]
     },
     "execution_count": 72,
     "metadata": {},
     "output_type": "execute_result"
    }
   ],
   "source": [
    "roc_auc_score(y_test, y_pred_proba)"
   ]
  },
  {
   "cell_type": "code",
   "execution_count": 73,
   "metadata": {},
   "outputs": [
    {
     "name": "stdout",
     "output_type": "stream",
     "text": [
      "32/32 [==============================] - 0s 2ms/step\n"
     ]
    },
    {
     "data": {
      "image/png": "[encoded data removed]",
      "text/plain": [
       "<Figure size 720x432 with 1 Axes>"
      ]
     },
     "metadata": {},
     "output_type": "display_data"
    }
   ],
   "source": [
    "y_pred_proba = grid_model.predict_proba(X_test)[:,1]\n",
    "fpr, tpr, thresholds = roc_curve(y_test, y_pred_proba)\n",
    "plt.plot([0,1],[0,1],'k--')\n",
    "plt.plot(fpr,tpr, label='ANN')\n",
    "plt.xlabel('fpr')\n",
    "plt.ylabel('tpr')\n",
    "plt.title('ROC curve')\n",
    "plt.show()"
   ]
  },
  {
   "cell_type": "code",
   "execution_count": 74,
   "metadata": {},
   "outputs": [
    {
     "data": {
      "text/plain": [
       "0.8523315104936446"
      ]
     },
     "execution_count": 74,
     "metadata": {},
     "output_type": "execute_result"
    }
   ],
   "source": [
    "roc_auc_score(y_test, y_pred_proba)"
   ]
  },
  {
   "cell_type": "code",
   "execution_count": 140,
   "metadata": {},
   "outputs": [],
   "source": [
    "tf.random.set_seed(42)\n",
    "\n",
    "model_final0 = Sequential()\n",
    "\n",
    "model_final0.add(Dense(16, activation = \"relu\", input_dim = X_train.shape[1]))\n",
    "model_final0.add(Dense(16, activation = \"relu\"))\n",
    "model_final0.add(Dense(8, activation = \"relu\"))\n",
    "model_final0.add(Dense(1, activation = \"sigmoid\"))\n",
    "opt = RMSprop(lr = 0.003)\n",
    "\n",
    "model_final0.compile(optimizer = opt, loss = \"binary_crossentropy\", metrics = [\"accuracy\"])"
   ]
  },
  {
   "cell_type": "code",
   "execution_count": 141,
   "metadata": {},
   "outputs": [],
   "source": [
    "early_stop = EarlyStopping(monitor = \"val_loss\", mode = \"min\", verbose = 1, patience = 15, restore_best_weights = True)"
   ]
  },
  {
   "cell_type": "code",
   "execution_count": 142,
   "metadata": {},
   "outputs": [],
   "source": [
    "X = scaler.fit_transform(X)"
   ]
  },
  {
   "cell_type": "code",
   "execution_count": 143,
   "metadata": {},
   "outputs": [
    {
     "name": "stdout",
     "output_type": "stream",
     "text": [
      "Epoch 1/100\n",
      "282/282 [==============================] - 2s 3ms/step - loss: 0.4809 - accuracy: 0.7922 - val_loss: 0.4545 - val_accuracy: 0.8160\n",
      "Epoch 2/100\n",
      "282/282 [==============================] - 1s 3ms/step - loss: 0.4476 - accuracy: 0.8047 - val_loss: 0.4352 - val_accuracy: 0.8140\n",
      "Epoch 3/100\n",
      "282/282 [==============================] - 1s 3ms/step - loss: 0.4336 - accuracy: 0.8127 - val_loss: 0.4943 - val_accuracy: 0.7700\n",
      "Epoch 4/100\n",
      "282/282 [==============================] - 1s 3ms/step - loss: 0.4228 - accuracy: 0.8168 - val_loss: 0.4221 - val_accuracy: 0.8170\n",
      "Epoch 5/100\n",
      "282/282 [==============================] - 1s 3ms/step - loss: 0.4093 - accuracy: 0.8264 - val_loss: 0.4239 - val_accuracy: 0.8200\n",
      "Epoch 6/100\n",
      "282/282 [==============================] - 1s 3ms/step - loss: 0.3860 - accuracy: 0.8348 - val_loss: 0.3725 - val_accuracy: 0.8500\n",
      "Epoch 7/100\n",
      "282/282 [==============================] - 1s 3ms/step - loss: 0.3655 - accuracy: 0.8463 - val_loss: 0.3667 - val_accuracy: 0.8470\n",
      "Epoch 8/100\n",
      "282/282 [==============================] - 1s 3ms/step - loss: 0.3583 - accuracy: 0.8484 - val_loss: 0.3961 - val_accuracy: 0.8300\n",
      "Epoch 9/100\n",
      "282/282 [==============================] - 1s 3ms/step - loss: 0.3541 - accuracy: 0.8519 - val_loss: 0.3563 - val_accuracy: 0.8510\n",
      "Epoch 10/100\n",
      "282/282 [==============================] - 1s 3ms/step - loss: 0.3536 - accuracy: 0.8521 - val_loss: 0.3611 - val_accuracy: 0.8480\n",
      "Epoch 11/100\n",
      "282/282 [==============================] - 1s 3ms/step - loss: 0.3512 - accuracy: 0.8526 - val_loss: 0.3646 - val_accuracy: 0.8460\n",
      "Epoch 12/100\n",
      "282/282 [==============================] - 1s 3ms/step - loss: 0.3501 - accuracy: 0.8508 - val_loss: 0.3473 - val_accuracy: 0.8550\n",
      "Epoch 13/100\n",
      "282/282 [==============================] - 1s 3ms/step - loss: 0.3483 - accuracy: 0.8558 - val_loss: 0.3469 - val_accuracy: 0.8600\n",
      "Epoch 14/100\n",
      "282/282 [==============================] - 1s 3ms/step - loss: 0.3462 - accuracy: 0.8574 - val_loss: 0.4511 - val_accuracy: 0.7950\n",
      "Epoch 15/100\n",
      "282/282 [==============================] - 1s 3ms/step - loss: 0.3456 - accuracy: 0.8577 - val_loss: 0.3479 - val_accuracy: 0.8590\n",
      "Epoch 16/100\n",
      "282/282 [==============================] - 1s 3ms/step - loss: 0.3442 - accuracy: 0.8566 - val_loss: 0.3615 - val_accuracy: 0.8500\n",
      "Epoch 17/100\n",
      "282/282 [==============================] - 1s 3ms/step - loss: 0.3437 - accuracy: 0.8597 - val_loss: 0.3444 - val_accuracy: 0.8670\n",
      "Epoch 18/100\n",
      "282/282 [==============================] - 1s 3ms/step - loss: 0.3429 - accuracy: 0.8592 - val_loss: 0.3431 - val_accuracy: 0.8650\n",
      "Epoch 19/100\n",
      "282/282 [==============================] - 1s 3ms/step - loss: 0.3411 - accuracy: 0.8591 - val_loss: 0.3448 - val_accuracy: 0.8660\n",
      "Epoch 20/100\n",
      "282/282 [==============================] - 1s 3ms/step - loss: 0.3424 - accuracy: 0.8608 - val_loss: 0.3579 - val_accuracy: 0.8520\n",
      "Epoch 21/100\n",
      "282/282 [==============================] - 1s 3ms/step - loss: 0.3410 - accuracy: 0.8586 - val_loss: 0.3439 - val_accuracy: 0.8650\n",
      "Epoch 22/100\n",
      "282/282 [==============================] - 1s 3ms/step - loss: 0.3398 - accuracy: 0.8620 - val_loss: 0.3459 - val_accuracy: 0.8670\n",
      "Epoch 23/100\n",
      "282/282 [==============================] - 1s 2ms/step - loss: 0.3379 - accuracy: 0.8623 - val_loss: 0.3586 - val_accuracy: 0.8540\n",
      "Epoch 24/100\n",
      "282/282 [==============================] - 1s 2ms/step - loss: 0.3396 - accuracy: 0.8608 - val_loss: 0.3513 - val_accuracy: 0.8610\n",
      "Epoch 25/100\n",
      "282/282 [==============================] - 1s 2ms/step - loss: 0.3377 - accuracy: 0.8606 - val_loss: 0.3478 - val_accuracy: 0.8610\n",
      "Epoch 26/100\n",
      "282/282 [==============================] - 1s 2ms/step - loss: 0.3366 - accuracy: 0.8617 - val_loss: 0.3478 - val_accuracy: 0.8630\n",
      "Epoch 27/100\n",
      "282/282 [==============================] - 1s 2ms/step - loss: 0.3368 - accuracy: 0.8608 - val_loss: 0.3414 - val_accuracy: 0.8650\n",
      "Epoch 28/100\n",
      "282/282 [==============================] - 1s 2ms/step - loss: 0.3361 - accuracy: 0.8616 - val_loss: 0.3503 - val_accuracy: 0.8640\n",
      "Epoch 29/100\n",
      "282/282 [==============================] - 1s 2ms/step - loss: 0.3358 - accuracy: 0.8613 - val_loss: 0.3895 - val_accuracy: 0.8370\n",
      "Epoch 30/100\n",
      "282/282 [==============================] - 1s 2ms/step - loss: 0.3348 - accuracy: 0.8621 - val_loss: 0.3472 - val_accuracy: 0.8650\n",
      "Epoch 31/100\n",
      "282/282 [==============================] - 1s 3ms/step - loss: 0.3349 - accuracy: 0.8632 - val_loss: 0.3595 - val_accuracy: 0.8550\n",
      "Epoch 32/100\n",
      "282/282 [==============================] - 1s 2ms/step - loss: 0.3345 - accuracy: 0.8629 - val_loss: 0.3357 - val_accuracy: 0.8720\n",
      "Epoch 33/100\n",
      "282/282 [==============================] - 1s 2ms/step - loss: 0.3329 - accuracy: 0.8629 - val_loss: 0.3531 - val_accuracy: 0.8590\n",
      "Epoch 34/100\n",
      "282/282 [==============================] - 1s 3ms/step - loss: 0.3327 - accuracy: 0.8654 - val_loss: 0.3388 - val_accuracy: 0.8690\n",
      "Epoch 35/100\n",
      "282/282 [==============================] - 1s 2ms/step - loss: 0.3323 - accuracy: 0.8632 - val_loss: 0.3466 - val_accuracy: 0.8640\n",
      "Epoch 36/100\n",
      "282/282 [==============================] - 1s 2ms/step - loss: 0.3307 - accuracy: 0.8648 - val_loss: 0.3575 - val_accuracy: 0.8640\n",
      "Epoch 37/100\n",
      "282/282 [==============================] - 1s 2ms/step - loss: 0.3312 - accuracy: 0.8638 - val_loss: 0.3421 - val_accuracy: 0.8630\n",
      "Epoch 38/100\n",
      "282/282 [==============================] - 1s 3ms/step - loss: 0.3319 - accuracy: 0.8630 - val_loss: 0.3460 - val_accuracy: 0.8630\n",
      "Epoch 39/100\n",
      "282/282 [==============================] - 1s 2ms/step - loss: 0.3304 - accuracy: 0.8638 - val_loss: 0.3469 - val_accuracy: 0.8600\n",
      "Epoch 40/100\n",
      "282/282 [==============================] - 1s 2ms/step - loss: 0.3296 - accuracy: 0.8643 - val_loss: 0.3428 - val_accuracy: 0.8630\n",
      "Epoch 41/100\n",
      "282/282 [==============================] - 1s 2ms/step - loss: 0.3293 - accuracy: 0.8623 - val_loss: 0.3514 - val_accuracy: 0.8640\n",
      "Epoch 42/100\n",
      "282/282 [==============================] - 1s 2ms/step - loss: 0.3283 - accuracy: 0.8664 - val_loss: 0.3677 - val_accuracy: 0.8530\n",
      "Epoch 43/100\n",
      "282/282 [==============================] - 1s 2ms/step - loss: 0.3283 - accuracy: 0.8644 - val_loss: 0.3491 - val_accuracy: 0.8680\n",
      "Epoch 44/100\n",
      "282/282 [==============================] - 1s 2ms/step - loss: 0.3291 - accuracy: 0.8626 - val_loss: 0.3485 - val_accuracy: 0.8630\n",
      "Epoch 45/100\n",
      "282/282 [==============================] - 1s 2ms/step - loss: 0.3286 - accuracy: 0.8657 - val_loss: 0.3848 - val_accuracy: 0.8360\n",
      "Epoch 46/100\n",
      "282/282 [==============================] - 1s 2ms/step - loss: 0.3285 - accuracy: 0.8631 - val_loss: 0.3542 - val_accuracy: 0.8590\n",
      "Epoch 47/100\n",
      "261/282 [==========================>...] - ETA: 0s - loss: 0.3281 - accuracy: 0.8667Restoring model weights from the end of the best epoch: 32.\n",
      "282/282 [==============================] - 1s 2ms/step - loss: 0.3282 - accuracy: 0.8654 - val_loss: 0.3469 - val_accuracy: 0.8600\n",
      "Epoch 47: early stopping\n"
     ]
    },
    {
     "data": {
      "text/plain": [
       "<keras.callbacks.History at 0x1fe3dca6610>"
      ]
     },
     "execution_count": 143,
     "metadata": {},
     "output_type": "execute_result"
    }
   ],
   "source": [
    "model_final0.fit(x = X, y = y, validation_split = 0.1, batch_size = 32, epochs = 100, verbose = 1,\n",
    "          callbacks = [early_stop])"
   ]
  },
  {
   "cell_type": "code",
   "execution_count": 145,
   "metadata": {},
   "outputs": [
    {
     "data": {
      "text/plain": [
       "[0.32020989060401917, 0.871999979019165]"
      ]
     },
     "execution_count": 145,
     "metadata": {},
     "output_type": "execute_result"
    }
   ],
   "source": [
    "model_final0.evaluate(X_test, y_test, verbose=0)"
   ]
  },
  {
   "cell_type": "code",
   "execution_count": 146,
   "metadata": {},
   "outputs": [
    {
     "name": "stdout",
     "output_type": "stream",
     "text": [
      "32/32 [==============================] - 0s 1ms/step\n",
      "[[780  16]\n",
      " [112  92]]\n",
      "              precision    recall  f1-score   support\n",
      "\n",
      "           0       0.87      0.98      0.92       796\n",
      "           1       0.85      0.45      0.59       204\n",
      "\n",
      "    accuracy                           0.87      1000\n",
      "   macro avg       0.86      0.72      0.76      1000\n",
      "weighted avg       0.87      0.87      0.86      1000\n",
      "\n"
     ]
    }
   ],
   "source": [
    "y_pred = model_final0.predict(X_test) > 0.5\n",
    "print(confusion_matrix(y_test, y_pred))\n",
    "print(classification_report(y_test, y_pred))"
   ]
  },
  {
   "cell_type": "markdown",
   "metadata": {},
   "source": [
    "# Final Model and Model Deployment"
   ]
  },
  {
   "cell_type": "code",
   "execution_count": 147,
   "metadata": {},
   "outputs": [],
   "source": [
    "scaler = MinMaxScaler()"
   ]
  },
  {
   "cell_type": "code",
   "execution_count": 148,
   "metadata": {},
   "outputs": [
    {
     "data": {
      "text/plain": [
       "MinMaxScaler()"
      ]
     },
     "execution_count": 148,
     "metadata": {},
     "output_type": "execute_result"
    }
   ],
   "source": [
    "scaler.fit(X)"
   ]
  },
  {
   "cell_type": "code",
   "execution_count": 149,
   "metadata": {},
   "outputs": [],
   "source": [
    "import pickle\n",
    "pickle.dump(scaler, open(\"scaler_churn0\", 'wb'))"
   ]
  },
  {
   "cell_type": "code",
   "execution_count": 150,
   "metadata": {},
   "outputs": [],
   "source": [
    "model_final0.save('model_churn0.h5')"
   ]
  },
  {
   "cell_type": "markdown",
   "metadata": {
    "id": "Cq10ovAX6daY"
   },
   "source": [
    "## Prediction"
   ]
  },
  {
   "cell_type": "code",
   "execution_count": 87,
   "metadata": {},
   "outputs": [],
   "source": [
    "from tensorflow.keras.models import load_model"
   ]
  },
  {
   "cell_type": "code",
   "execution_count": 151,
   "metadata": {},
   "outputs": [],
   "source": [
    "model_churn = load_model('model_churn0.h5')\n",
    "scaler_churn = pickle.load(open(\"scaler_churn0\", \"rb\"))"
   ]
  },
  {
   "cell_type": "code",
   "execution_count": 159,
   "metadata": {},
   "outputs": [
    {
     "data": {
      "text/plain": [
       "array([[0.538     , 0.32432432, 0.2       , ..., 0.        , 1.        ,\n",
       "        0.        ],\n",
       "       [0.516     , 0.31081081, 0.1       , ..., 1.        , 1.        ,\n",
       "        0.        ],\n",
       "       [0.304     , 0.32432432, 0.8       , ..., 0.        , 1.        ,\n",
       "        0.        ],\n",
       "       ...,\n",
       "       [0.718     , 0.24324324, 0.7       , ..., 0.        , 1.        ,\n",
       "        0.        ],\n",
       "       [0.844     , 0.32432432, 0.3       , ..., 0.        , 0.        ,\n",
       "        1.        ],\n",
       "       [0.884     , 0.13513514, 0.4       , ..., 0.        , 1.        ,\n",
       "        0.        ]])"
      ]
     },
     "execution_count": 159,
     "metadata": {},
     "output_type": "execute_result"
    }
   ],
   "source": [
    "X"
   ]
  },
  {
   "cell_type": "code",
   "execution_count": 152,
   "metadata": {},
   "outputs": [
    {
     "data": {
      "text/html": [
       "<div>\n",
       "<style scoped>\n",
       "    .dataframe tbody tr th:only-of-type {\n",
       "        vertical-align: middle;\n",
       "    }\n",
       "\n",
       "    .dataframe tbody tr th {\n",
       "        vertical-align: top;\n",
       "    }\n",
       "\n",
       "    .dataframe thead th {\n",
       "        text-align: right;\n",
       "    }\n",
       "</style>\n",
       "<table border=\"1\" class=\"dataframe\">\n",
       "  <thead>\n",
       "    <tr style=\"text-align: right;\">\n",
       "      <th></th>\n",
       "      <th>CreditScore</th>\n",
       "      <th>Geography</th>\n",
       "      <th>Gender</th>\n",
       "      <th>Age</th>\n",
       "      <th>Tenure</th>\n",
       "      <th>Balance</th>\n",
       "      <th>NumOfProducts</th>\n",
       "      <th>HasCrCard</th>\n",
       "      <th>IsActiveMember</th>\n",
       "      <th>EstimatedSalary</th>\n",
       "      <th>Exited</th>\n",
       "    </tr>\n",
       "  </thead>\n",
       "  <tbody>\n",
       "    <tr>\n",
       "      <th>9757</th>\n",
       "      <td>501</td>\n",
       "      <td>France</td>\n",
       "      <td>Male</td>\n",
       "      <td>35</td>\n",
       "      <td>6</td>\n",
       "      <td>99760.840</td>\n",
       "      <td>1</td>\n",
       "      <td>1</td>\n",
       "      <td>1</td>\n",
       "      <td>13591.520</td>\n",
       "      <td>0</td>\n",
       "    </tr>\n",
       "  </tbody>\n",
       "</table>\n",
       "</div>"
      ],
      "text/plain": [
       "      CreditScore Geography Gender  Age  Tenure   Balance  NumOfProducts  \\\n",
       "9757          501    France   Male   35       6 99760.840              1   \n",
       "\n",
       "      HasCrCard  IsActiveMember  EstimatedSalary  Exited  \n",
       "9757          1               1        13591.520       0  "
      ]
     },
     "execution_count": 152,
     "metadata": {},
     "output_type": "execute_result"
    }
   ],
   "source": [
    "df.sample(1)"
   ]
  },
  {
   "cell_type": "code",
   "execution_count": 94,
   "metadata": {},
   "outputs": [
    {
     "data": {
      "text/html": [
       "<div>\n",
       "<style scoped>\n",
       "    .dataframe tbody tr th:only-of-type {\n",
       "        vertical-align: middle;\n",
       "    }\n",
       "\n",
       "    .dataframe tbody tr th {\n",
       "        vertical-align: top;\n",
       "    }\n",
       "\n",
       "    .dataframe thead th {\n",
       "        text-align: right;\n",
       "    }\n",
       "</style>\n",
       "<table border=\"1\" class=\"dataframe\">\n",
       "  <thead>\n",
       "    <tr style=\"text-align: right;\">\n",
       "      <th></th>\n",
       "      <th>CreditScore</th>\n",
       "      <th>Age</th>\n",
       "      <th>Tenure</th>\n",
       "      <th>Balance</th>\n",
       "      <th>NumOfProducts</th>\n",
       "      <th>HasCrCard</th>\n",
       "      <th>IsActiveMember</th>\n",
       "      <th>EstimatedSalary</th>\n",
       "      <th>Exited</th>\n",
       "      <th>Geography_Germany</th>\n",
       "      <th>Geography_Spain</th>\n",
       "      <th>Gender_Male</th>\n",
       "    </tr>\n",
       "  </thead>\n",
       "  <tbody>\n",
       "    <tr>\n",
       "      <th>count</th>\n",
       "      <td>10000.000</td>\n",
       "      <td>10000.000</td>\n",
       "      <td>10000.000</td>\n",
       "      <td>10000.000</td>\n",
       "      <td>10000.000</td>\n",
       "      <td>10000.000</td>\n",
       "      <td>10000.000</td>\n",
       "      <td>10000.000</td>\n",
       "      <td>10000.000</td>\n",
       "      <td>10000.000</td>\n",
       "      <td>10000.000</td>\n",
       "      <td>10000.000</td>\n",
       "    </tr>\n",
       "    <tr>\n",
       "      <th>mean</th>\n",
       "      <td>650.529</td>\n",
       "      <td>38.922</td>\n",
       "      <td>5.013</td>\n",
       "      <td>76485.889</td>\n",
       "      <td>1.530</td>\n",
       "      <td>0.706</td>\n",
       "      <td>0.515</td>\n",
       "      <td>100090.240</td>\n",
       "      <td>0.204</td>\n",
       "      <td>0.251</td>\n",
       "      <td>0.248</td>\n",
       "      <td>0.546</td>\n",
       "    </tr>\n",
       "    <tr>\n",
       "      <th>std</th>\n",
       "      <td>96.653</td>\n",
       "      <td>10.488</td>\n",
       "      <td>2.892</td>\n",
       "      <td>62397.405</td>\n",
       "      <td>0.582</td>\n",
       "      <td>0.456</td>\n",
       "      <td>0.500</td>\n",
       "      <td>57510.493</td>\n",
       "      <td>0.403</td>\n",
       "      <td>0.434</td>\n",
       "      <td>0.432</td>\n",
       "      <td>0.498</td>\n",
       "    </tr>\n",
       "    <tr>\n",
       "      <th>min</th>\n",
       "      <td>350.000</td>\n",
       "      <td>18.000</td>\n",
       "      <td>0.000</td>\n",
       "      <td>0.000</td>\n",
       "      <td>1.000</td>\n",
       "      <td>0.000</td>\n",
       "      <td>0.000</td>\n",
       "      <td>11.580</td>\n",
       "      <td>0.000</td>\n",
       "      <td>0.000</td>\n",
       "      <td>0.000</td>\n",
       "      <td>0.000</td>\n",
       "    </tr>\n",
       "    <tr>\n",
       "      <th>25%</th>\n",
       "      <td>584.000</td>\n",
       "      <td>32.000</td>\n",
       "      <td>3.000</td>\n",
       "      <td>0.000</td>\n",
       "      <td>1.000</td>\n",
       "      <td>0.000</td>\n",
       "      <td>0.000</td>\n",
       "      <td>51002.110</td>\n",
       "      <td>0.000</td>\n",
       "      <td>0.000</td>\n",
       "      <td>0.000</td>\n",
       "      <td>0.000</td>\n",
       "    </tr>\n",
       "    <tr>\n",
       "      <th>50%</th>\n",
       "      <td>652.000</td>\n",
       "      <td>37.000</td>\n",
       "      <td>5.000</td>\n",
       "      <td>97198.540</td>\n",
       "      <td>1.000</td>\n",
       "      <td>1.000</td>\n",
       "      <td>1.000</td>\n",
       "      <td>100193.915</td>\n",
       "      <td>0.000</td>\n",
       "      <td>0.000</td>\n",
       "      <td>0.000</td>\n",
       "      <td>1.000</td>\n",
       "    </tr>\n",
       "    <tr>\n",
       "      <th>75%</th>\n",
       "      <td>718.000</td>\n",
       "      <td>44.000</td>\n",
       "      <td>7.000</td>\n",
       "      <td>127644.240</td>\n",
       "      <td>2.000</td>\n",
       "      <td>1.000</td>\n",
       "      <td>1.000</td>\n",
       "      <td>149388.247</td>\n",
       "      <td>0.000</td>\n",
       "      <td>1.000</td>\n",
       "      <td>0.000</td>\n",
       "      <td>1.000</td>\n",
       "    </tr>\n",
       "    <tr>\n",
       "      <th>max</th>\n",
       "      <td>850.000</td>\n",
       "      <td>92.000</td>\n",
       "      <td>10.000</td>\n",
       "      <td>250898.090</td>\n",
       "      <td>4.000</td>\n",
       "      <td>1.000</td>\n",
       "      <td>1.000</td>\n",
       "      <td>199992.480</td>\n",
       "      <td>1.000</td>\n",
       "      <td>1.000</td>\n",
       "      <td>1.000</td>\n",
       "      <td>1.000</td>\n",
       "    </tr>\n",
       "  </tbody>\n",
       "</table>\n",
       "</div>"
      ],
      "text/plain": [
       "       CreditScore       Age    Tenure    Balance  NumOfProducts  HasCrCard  \\\n",
       "count    10000.000 10000.000 10000.000  10000.000      10000.000  10000.000   \n",
       "mean       650.529    38.922     5.013  76485.889          1.530      0.706   \n",
       "std         96.653    10.488     2.892  62397.405          0.582      0.456   \n",
       "min        350.000    18.000     0.000      0.000          1.000      0.000   \n",
       "25%        584.000    32.000     3.000      0.000          1.000      0.000   \n",
       "50%        652.000    37.000     5.000  97198.540          1.000      1.000   \n",
       "75%        718.000    44.000     7.000 127644.240          2.000      1.000   \n",
       "max        850.000    92.000    10.000 250898.090          4.000      1.000   \n",
       "\n",
       "       IsActiveMember  EstimatedSalary    Exited  Geography_Germany  \\\n",
       "count       10000.000        10000.000 10000.000          10000.000   \n",
       "mean            0.515       100090.240     0.204              0.251   \n",
       "std             0.500        57510.493     0.403              0.434   \n",
       "min             0.000           11.580     0.000              0.000   \n",
       "25%             0.000        51002.110     0.000              0.000   \n",
       "50%             1.000       100193.915     0.000              0.000   \n",
       "75%             1.000       149388.247     0.000              1.000   \n",
       "max             1.000       199992.480     1.000              1.000   \n",
       "\n",
       "       Geography_Spain  Gender_Male  \n",
       "count        10000.000    10000.000  \n",
       "mean             0.248        0.546  \n",
       "std              0.432        0.498  \n",
       "min              0.000        0.000  \n",
       "25%              0.000        0.000  \n",
       "50%              0.000        1.000  \n",
       "75%              0.000        1.000  \n",
       "max              1.000        1.000  "
      ]
     },
     "execution_count": 94,
     "metadata": {},
     "output_type": "execute_result"
    }
   ],
   "source": [
    "df_dum.describe()"
   ]
  },
  {
   "cell_type": "code",
   "execution_count": 154,
   "metadata": {},
   "outputs": [],
   "source": [
    "my_dict = {\n",
    "    'CreditScore':520,\n",
    "    'Geography':'France',\n",
    "    'Gender': 'Female',\n",
    "    'Age': 48,\n",
    "    'Tenure' : 8,\n",
    "    'Balance' : 150000.00,\n",
    "    'NumOfProducts': 2,\n",
    "    'HasCrCard' : 1,\n",
    "    'IsActiveMember': 0,\n",
    "    'EstimatedSalary': 55000.00\n",
    "}"
   ]
  },
  {
   "cell_type": "code",
   "execution_count": 166,
   "metadata": {},
   "outputs": [
    {
     "data": {
      "text/html": [
       "<div>\n",
       "<style scoped>\n",
       "    .dataframe tbody tr th:only-of-type {\n",
       "        vertical-align: middle;\n",
       "    }\n",
       "\n",
       "    .dataframe tbody tr th {\n",
       "        vertical-align: top;\n",
       "    }\n",
       "\n",
       "    .dataframe thead th {\n",
       "        text-align: right;\n",
       "    }\n",
       "</style>\n",
       "<table border=\"1\" class=\"dataframe\">\n",
       "  <thead>\n",
       "    <tr style=\"text-align: right;\">\n",
       "      <th></th>\n",
       "      <th>CreditScore</th>\n",
       "      <th>Geography</th>\n",
       "      <th>Gender</th>\n",
       "      <th>Age</th>\n",
       "      <th>Tenure</th>\n",
       "      <th>Balance</th>\n",
       "      <th>NumOfProducts</th>\n",
       "      <th>HasCrCard</th>\n",
       "      <th>IsActiveMember</th>\n",
       "      <th>EstimatedSalary</th>\n",
       "    </tr>\n",
       "  </thead>\n",
       "  <tbody>\n",
       "    <tr>\n",
       "      <th>1</th>\n",
       "      <td>520</td>\n",
       "      <td>France</td>\n",
       "      <td>Female</td>\n",
       "      <td>48</td>\n",
       "      <td>8</td>\n",
       "      <td>150000.000</td>\n",
       "      <td>2</td>\n",
       "      <td>1</td>\n",
       "      <td>0</td>\n",
       "      <td>55000.000</td>\n",
       "    </tr>\n",
       "  </tbody>\n",
       "</table>\n",
       "</div>"
      ],
      "text/plain": [
       "   CreditScore Geography  Gender  Age  Tenure    Balance  NumOfProducts  \\\n",
       "1          520    France  Female   48       8 150000.000              2   \n",
       "\n",
       "   HasCrCard  IsActiveMember  EstimatedSalary  \n",
       "1          1               0        55000.000  "
      ]
     },
     "execution_count": 166,
     "metadata": {},
     "output_type": "execute_result"
    }
   ],
   "source": [
    "df_ex = pd.DataFrame(my_dict, index = [1])\n",
    "df_ex"
   ]
  },
  {
   "cell_type": "code",
   "execution_count": 171,
   "metadata": {},
   "outputs": [
    {
     "data": {
      "text/html": [
       "<div>\n",
       "<style scoped>\n",
       "    .dataframe tbody tr th:only-of-type {\n",
       "        vertical-align: middle;\n",
       "    }\n",
       "\n",
       "    .dataframe tbody tr th {\n",
       "        vertical-align: top;\n",
       "    }\n",
       "\n",
       "    .dataframe thead th {\n",
       "        text-align: right;\n",
       "    }\n",
       "</style>\n",
       "<table border=\"1\" class=\"dataframe\">\n",
       "  <thead>\n",
       "    <tr style=\"text-align: right;\">\n",
       "      <th></th>\n",
       "      <th>CreditScore</th>\n",
       "      <th>Age</th>\n",
       "      <th>Tenure</th>\n",
       "      <th>Balance</th>\n",
       "      <th>NumOfProducts</th>\n",
       "      <th>HasCrCard</th>\n",
       "      <th>IsActiveMember</th>\n",
       "      <th>EstimatedSalary</th>\n",
       "      <th>Geography_France</th>\n",
       "      <th>Geography_Germany</th>\n",
       "      <th>Geography_Spain</th>\n",
       "      <th>Gender_Female</th>\n",
       "      <th>Gender_Male</th>\n",
       "    </tr>\n",
       "  </thead>\n",
       "  <tbody>\n",
       "    <tr>\n",
       "      <th>1</th>\n",
       "      <td>520</td>\n",
       "      <td>48</td>\n",
       "      <td>8</td>\n",
       "      <td>150000.000</td>\n",
       "      <td>2</td>\n",
       "      <td>1</td>\n",
       "      <td>0</td>\n",
       "      <td>55000.000</td>\n",
       "      <td>1</td>\n",
       "      <td>0</td>\n",
       "      <td>0</td>\n",
       "      <td>1</td>\n",
       "      <td>0</td>\n",
       "    </tr>\n",
       "  </tbody>\n",
       "</table>\n",
       "</div>"
      ],
      "text/plain": [
       "   CreditScore  Age  Tenure    Balance  NumOfProducts  HasCrCard  \\\n",
       "1          520   48       8 150000.000              2          1   \n",
       "\n",
       "   IsActiveMember  EstimatedSalary  Geography_France  Geography_Germany  \\\n",
       "1               0        55000.000                 1                  0   \n",
       "\n",
       "   Geography_Spain  Gender_Female  Gender_Male  \n",
       "1                0              1            0  "
      ]
     },
     "execution_count": 171,
     "metadata": {},
     "output_type": "execute_result"
    }
   ],
   "source": [
    "df_ex_dum = pd.get_dummies(df_ex).reindex(columns=df_dum.drop('Exited',axis=1).columns, fill_value=0)\n",
    "df_ex_dum"
   ]
  },
  {
   "cell_type": "code",
   "execution_count": 173,
   "metadata": {},
   "outputs": [
    {
     "name": "stdout",
     "output_type": "stream",
     "text": [
      "1/1 [==============================] - 0s 101ms/step\n"
     ]
    },
    {
     "data": {
      "text/plain": [
       "array([[1]])"
      ]
     },
     "execution_count": 173,
     "metadata": {},
     "output_type": "execute_result"
    }
   ],
   "source": [
    "(model_churn.predict(df_ex_dum) > 0.5).astype(\"int32\")\n",
    "#model_cancer.predict_classes(single_patient)"
   ]
  },
  {
   "cell_type": "markdown",
   "metadata": {},
   "source": [
    "___\n",
    "\n",
    "<p style=\"text-align: center;\"><img src=\"https://docs.google.com/uc?id=1lY0Uj5R04yMY3-ZppPWxqCr5pvBLYPnV\" class=\"img-fluid\" alt=\"CLRSWY\"></p>\n",
    "\n",
    "___"
   ]
  }
 ],
 "metadata": {
  "colab": {
   "authorship_tag": "ABX9TyPKBWWuNpSuP7DHsa+Zpo3l",
   "collapsed_sections": [],
   "name": "Untitled0.ipynb",
   "provenance": []
  },
  "kernelspec": {
   "display_name": "Python 3.9.1 64-bit",
   "language": "python",
   "name": "python3"
  },
  "language_info": {
   "codemirror_mode": {
    "name": "ipython",
    "version": 3
   },
   "file_extension": ".py",
   "mimetype": "text/x-python",
   "name": "python",
   "nbconvert_exporter": "python",
   "pygments_lexer": "ipython3",
   "version": "3.9.1"
  },
  "toc": {
   "base_numbering": 1,
   "nav_menu": {},
   "number_sections": false,
   "sideBar": true,
   "skip_h1_title": false,
   "title_cell": "Table of Contents",
   "title_sidebar": "Contents",
   "toc_cell": false,
   "toc_position": {},
   "toc_section_display": true,
   "toc_window_display": true
  },
  "vscode": {
   "interpreter": {
    "hash": "376b014e33adc11ea6a08e651f7f835750e4b57704f45419011e59609650410d"
   }
  }
 },
 "nbformat": 4,
 "nbformat_minor": 1
}
